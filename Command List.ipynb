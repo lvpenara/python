{
 "cells": [
  {
   "cell_type": "code",
   "execution_count": 1,
   "metadata": {},
   "outputs": [],
   "source": [
    "import pandas as pd\n",
    "import pandas_profiling\n",
    "import numpy as np\n",
    "import matplotlib\n",
    "matplotlib.style.use('ggplot')\n",
    "from matplotlib import pyplot as plt\n",
    "%matplotlib inline\n",
    "import seaborn as sns\n",
    "import bokeh\n",
    "import scipy.stats  as stats\n",
    "import statsmodels.formula.api as smf\n",
    "from sklearn import preprocessing\n",
    "from scipy.stats import chi2_contingency\n",
    "from scipy.stats import shapiro"
   ]
  },
  {
   "cell_type": "code",
   "execution_count": 2,
   "metadata": {},
   "outputs": [],
   "source": [
    "data = pd.read_csv(\"Banco.csv\", sep=\";\")\n",
    "data = pd.read_excel(\"Banco.xlsx\")"
   ]
  },
  {
   "cell_type": "markdown",
   "metadata": {},
   "source": [
    "## Profiling"
   ]
  },
  {
   "cell_type": "code",
   "execution_count": 3,
   "metadata": {},
   "outputs": [
    {
     "data": {
      "text/plain": [
       "ID                   int64\n",
       "LIMITE_CREDITO       int64\n",
       "SEXO                object\n",
       "NIVEL_EDUCATIVO     object\n",
       "ESTADO_CIVIL        object\n",
       "EDAD                 int64\n",
       "INGRESOS           float64\n",
       "PAGO_ANTERIOR        int64\n",
       "dtype: object"
      ]
     },
     "execution_count": 3,
     "metadata": {},
     "output_type": "execute_result"
    }
   ],
   "source": [
    "data.head()\n",
    "data.shape\n",
    "pandas_profiling.ProfileReport(data)\n",
    "data.dtypes"
   ]
  },
  {
   "cell_type": "markdown",
   "metadata": {},
   "source": [
    "## Data type transformation"
   ]
  },
  {
   "cell_type": "code",
   "execution_count": 4,
   "metadata": {},
   "outputs": [],
   "source": [
    "data_types = {'NIVEL_EDUCATIVO':str, 'NIVEL_EDUCATIVO':str}\n",
    "parse_dates = ['INGRESOS']\n",
    "data_transformend= pd.read_excel(\"Banco.xlsx\",dtype = data_types, parse_dates = parse_dates)\n",
    "\n",
    "data_rename = data.rename(columns={\"INGRESOS\": \"SALARIO\", \"LIMITE_CREDITO\": \"CUPO_CREDITO\"})\n",
    "data.NIVEL_EDUCATIVO = data.NIVEL_EDUCATIVO.astype(str)\n",
    "data.INGRESOS = pd.to_numeric(data.INGRESOS)\n",
    "data_binary = pd.get_dummies(data.NIVEL_EDUCATIVO)\n",
    "\n",
    "\n",
    "data_series = data[['INGRESOS','LIMITE_CREDITO']].values\n",
    "min_max_scaler = preprocessing.MinMaxScaler()\n",
    "data_normalized = min_max_scaler.fit_transform(data_series)\n",
    "data_dataframe = pd.DataFrame(data_normalized)\n",
    "\n",
    "## Extracción de información de campo fecha\n",
    "data.FECHA = pd.to_datetime(data.FECHA)\n",
    "data.created_at.dt.year\n",
    "data.created_at.dt.month\n",
    "data.created_at.dt.day\n",
    "data.created_at.dt.minute\n",
    "## The day of the week with Monday=0, Sunday=6.\n",
    "data.created_at.dt.dayofweek\n",
    "data.NIVEL_EDUCATIVO.apply(str)"
   ]
  },
  {
   "cell_type": "markdown",
   "metadata": {},
   "source": [
    "### Permutation"
   ]
  },
  {
   "cell_type": "code",
   "execution_count": 7,
   "metadata": {},
   "outputs": [
    {
     "data": {
      "text/plain": [
       "[(1, 2, 3), (1, 3, 2), (2, 1, 3), (2, 3, 1), (3, 1, 2), (3, 2, 1)]"
      ]
     },
     "execution_count": 7,
     "metadata": {},
     "output_type": "execute_result"
    }
   ],
   "source": [
    "from itertools import permutations \n",
    "  \n",
    "perm = permutations([1, 2, 3]) \n",
    "lista = []\n",
    "for i in list(perm): \n",
    "    lista.append(i)\n",
    "lista"
   ]
  },
  {
   "cell_type": "code",
   "execution_count": 8,
   "metadata": {},
   "outputs": [
    {
     "data": {
      "text/plain": [
       "[(1, 2), (1, 3), (2, 1), (2, 3), (3, 1), (3, 2)]"
      ]
     },
     "execution_count": 8,
     "metadata": {},
     "output_type": "execute_result"
    }
   ],
   "source": [
    "perm = permutations([1, 2, 3], 2) \n",
    "  \n",
    "lista = []\n",
    "for i in list(perm): \n",
    "    lista.append(i)\n",
    "lista"
   ]
  },
  {
   "cell_type": "code",
   "execution_count": 23,
   "metadata": {},
   "outputs": [
    {
     "name": "stdout",
     "output_type": "stream",
     "text": [
      "ABC\n",
      "ABD\n",
      "ACB\n",
      "ACD\n",
      "ADB\n",
      "ADC\n",
      "BAC\n",
      "BAD\n",
      "BCA\n",
      "BCD\n",
      "BDA\n",
      "BDC\n",
      "CAB\n",
      "CAD\n",
      "CBA\n",
      "CBD\n",
      "CDA\n",
      "CDB\n",
      "DAB\n",
      "DAC\n",
      "DBA\n",
      "DBC\n",
      "DCA\n",
      "DCB\n"
     ]
    }
   ],
   "source": [
    "from itertools import permutations\n",
    "\n",
    "values = ['ABCD','3']\n",
    "final = list(permutations(values[0],int(values[1])))\n",
    "final.sort()\n",
    "final_data = [''.join(w) for w in final] #Concatenando los valores de la tupla\n",
    "final_data\n",
    "\n",
    "for i in range(0,len(final)):\n",
    "    print(final_data[i])"
   ]
  },
  {
   "cell_type": "code",
   "execution_count": 75,
   "metadata": {},
   "outputs": [
    {
     "name": "stdout",
     "output_type": "stream",
     "text": [
      "['A', 'C', 'H', 'K', 'AC', 'AH', 'AK', 'CH', 'CK', 'HK']\n",
      "A\n",
      "C\n",
      "H\n",
      "K\n",
      "AC\n",
      "AH\n",
      "AK\n",
      "CH\n",
      "CK\n",
      "HK\n"
     ]
    }
   ],
   "source": [
    "from itertools import combinations\n",
    "\n",
    "values = ['HACK','2']\n",
    "test = list(values[0])\n",
    "test.sort()\n",
    "test = ''.join(test)\n",
    "values[0] = test\n",
    "\n",
    "final = []\n",
    "for i in range(1,int(values[1])+1):\n",
    "    temp = list(combinations(values[0],i))\n",
    "    temp = [''.join(w) for w in temp]\n",
    "    temp.sort()\n",
    "    final += temp \n",
    "print(final)\n",
    "\n",
    "for i in range(0,len(final)):\n",
    "    print(final[i])"
   ]
  },
  {
   "cell_type": "markdown",
   "metadata": {},
   "source": [
    "### Combination"
   ]
  },
  {
   "cell_type": "code",
   "execution_count": 12,
   "metadata": {},
   "outputs": [
    {
     "data": {
      "text/plain": [
       "[(1, 2), (1, 3), (2, 3)]"
      ]
     },
     "execution_count": 12,
     "metadata": {},
     "output_type": "execute_result"
    }
   ],
   "source": [
    "from itertools import combinations \n",
    "\n",
    "comb = combinations([1, 2, 3], 2) \n",
    "# El orden de los elementos es importante, puede cambiar el conjunto de elementos resultantes\n",
    "# Si hay elementos repetidos se genera un nuevo elemento de todas formas, por ejemplo: (1,1),(2,2)\n",
    "\n",
    "lista = []\n",
    "for i in list(comb): \n",
    "    lista.append(i)\n",
    "lista"
   ]
  },
  {
   "cell_type": "markdown",
   "metadata": {},
   "source": [
    "### Producto cartesiano"
   ]
  },
  {
   "cell_type": "code",
   "execution_count": 16,
   "metadata": {},
   "outputs": [
    {
     "data": {
      "text/plain": [
       "[('A', 'A'),\n",
       " ('A', 'B'),\n",
       " ('A', 'C'),\n",
       " ('A', 'D'),\n",
       " ('B', 'A'),\n",
       " ('B', 'B'),\n",
       " ('B', 'C'),\n",
       " ('B', 'D'),\n",
       " ('C', 'A'),\n",
       " ('C', 'B'),\n",
       " ('C', 'C'),\n",
       " ('C', 'D'),\n",
       " ('D', 'A'),\n",
       " ('D', 'B'),\n",
       " ('D', 'C'),\n",
       " ('D', 'D')]"
      ]
     },
     "execution_count": 16,
     "metadata": {},
     "output_type": "execute_result"
    }
   ],
   "source": [
    "from itertools import product\n",
    "\n",
    "prod = product('ABCD', repeat=2)\n",
    "lista = []\n",
    "for i in list(prod): \n",
    "    lista.append(i)\n",
    "lista"
   ]
  },
  {
   "cell_type": "code",
   "execution_count": 17,
   "metadata": {},
   "outputs": [
    {
     "data": {
      "text/plain": [
       "[(1, 1), (1, 2), (1, 3), (2, 2), (2, 3), (3, 3)]"
      ]
     },
     "execution_count": 17,
     "metadata": {},
     "output_type": "execute_result"
    }
   ],
   "source": [
    "from itertools import combinations_with_replacement \n",
    "  \n",
    "comb = combinations_with_replacement([1, 2, 3], 2) \n",
    "  \n",
    "lista = []\n",
    "for i in list(comb): \n",
    "    lista.append(i)\n",
    "lista"
   ]
  },
  {
   "cell_type": "markdown",
   "metadata": {},
   "source": [
    "## Statistical operations"
   ]
  },
  {
   "cell_type": "code",
   "execution_count": 5,
   "metadata": {},
   "outputs": [
    {
     "data": {
      "text/plain": [
       "array(['PREGRADO', 'POSGRADO', 'BACHILLERATO', 'PRIMARIA'], dtype=object)"
      ]
     },
     "execution_count": 5,
     "metadata": {},
     "output_type": "execute_result"
    }
   ],
   "source": [
    "data.NIVEL_EDUCATIVO.mode()\n",
    "data_groupby = data.groupby(['SEXO','NIVEL_EDUCATIVO']).size()\n",
    "data.INGRESOS.sort_values(ascending=False).head()\n",
    "data.INGRESOS.max()\n",
    "data.INGRESOS.median()\n",
    "data.NIVEL_EDUCATIVO.unique()"
   ]
  },
  {
   "cell_type": "code",
   "execution_count": 6,
   "metadata": {},
   "outputs": [
    {
     "data": {
      "text/html": [
       "<div>\n",
       "<style scoped>\n",
       "    .dataframe tbody tr th:only-of-type {\n",
       "        vertical-align: middle;\n",
       "    }\n",
       "\n",
       "    .dataframe tbody tr th {\n",
       "        vertical-align: top;\n",
       "    }\n",
       "\n",
       "    .dataframe thead th {\n",
       "        text-align: right;\n",
       "    }\n",
       "</style>\n",
       "<table border=\"1\" class=\"dataframe\">\n",
       "  <thead>\n",
       "    <tr style=\"text-align: right;\">\n",
       "      <th></th>\n",
       "      <th></th>\n",
       "      <th>0</th>\n",
       "    </tr>\n",
       "    <tr>\n",
       "      <th>SEXO</th>\n",
       "      <th>NIVEL_EDUCATIVO</th>\n",
       "      <th></th>\n",
       "    </tr>\n",
       "  </thead>\n",
       "  <tbody>\n",
       "    <tr>\n",
       "      <th rowspan=\"2\" valign=\"top\">MUJER</th>\n",
       "      <th>PREGRADO</th>\n",
       "      <td>8690</td>\n",
       "    </tr>\n",
       "    <tr>\n",
       "      <th>POSGRADO</th>\n",
       "      <td>6393</td>\n",
       "    </tr>\n",
       "    <tr>\n",
       "      <th rowspan=\"2\" valign=\"top\">HOMBRE</th>\n",
       "      <th>PREGRADO</th>\n",
       "      <td>5405</td>\n",
       "    </tr>\n",
       "    <tr>\n",
       "      <th>POSGRADO</th>\n",
       "      <td>4438</td>\n",
       "    </tr>\n",
       "    <tr>\n",
       "      <th>MUJER</th>\n",
       "      <th>BACHILLERATO</th>\n",
       "      <td>2948</td>\n",
       "    </tr>\n",
       "    <tr>\n",
       "      <th>HOMBRE</th>\n",
       "      <th>BACHILLERATO</th>\n",
       "      <td>2003</td>\n",
       "    </tr>\n",
       "    <tr>\n",
       "      <th>MUJER</th>\n",
       "      <th>PRIMARIA</th>\n",
       "      <td>81</td>\n",
       "    </tr>\n",
       "    <tr>\n",
       "      <th>HOMBRE</th>\n",
       "      <th>PRIMARIA</th>\n",
       "      <td>42</td>\n",
       "    </tr>\n",
       "  </tbody>\n",
       "</table>\n",
       "</div>"
      ],
      "text/plain": [
       "                           0\n",
       "SEXO   NIVEL_EDUCATIVO      \n",
       "MUJER  PREGRADO         8690\n",
       "       POSGRADO         6393\n",
       "HOMBRE PREGRADO         5405\n",
       "       POSGRADO         4438\n",
       "MUJER  BACHILLERATO     2948\n",
       "HOMBRE BACHILLERATO     2003\n",
       "MUJER  PRIMARIA           81\n",
       "HOMBRE PRIMARIA           42"
      ]
     },
     "execution_count": 6,
     "metadata": {},
     "output_type": "execute_result"
    }
   ],
   "source": [
    "# Series to dataframe\n",
    "data_series_to_dataframe = data_groupby.to_frame()\n",
    "data_series_to_dataframe.sort_values(by=0, ascending=False)"
   ]
  },
  {
   "cell_type": "markdown",
   "metadata": {},
   "source": [
    "## Data selection"
   ]
  },
  {
   "cell_type": "code",
   "execution_count": 7,
   "metadata": {},
   "outputs": [],
   "source": [
    "## Agregando nueva columna con valor default\n",
    "df['My new column'] = 'default value'\n",
    "column_selection = data[['NIVEL_EDUCATIVO', 'NIVEL_EDUCATIVO']]\n",
    "filter_data = data[(data.NIVEL_EDUCATIVO == 'PREGRADO') & (data.ESTADO_CIVIL == 'SOLTERO')]\n",
    "data_numeric = data.select_dtypes(include = ['float64','int64'])\n",
    "data_numeric = data.select_dtypes(include = ['number'])\n",
    "data_nominal = data.select_dtypes(exclude = ['number'])\n",
    "data = data.drop(['order_id'], axis=1)\n",
    "X = data.loc[:, data.columns != 'label']"
   ]
  },
  {
   "cell_type": "markdown",
   "metadata": {},
   "source": [
    "## Manage duplicates"
   ]
  },
  {
   "cell_type": "code",
   "execution_count": 8,
   "metadata": {},
   "outputs": [],
   "source": [
    "data.duplicated().sum()\n",
    "data = data.drop_duplicates()"
   ]
  },
  {
   "cell_type": "markdown",
   "metadata": {},
   "source": [
    "## Join and merge"
   ]
  },
  {
   "cell_type": "code",
   "execution_count": null,
   "metadata": {},
   "outputs": [],
   "source": [
    "pd.concat([s1, s2])\n",
    "data_join = data.merge(data_2, on='ID_KEY_VALUE', how='left')"
   ]
  },
  {
   "cell_type": "markdown",
   "metadata": {},
   "source": [
    "## Data cleanse"
   ]
  },
  {
   "cell_type": "code",
   "execution_count": 9,
   "metadata": {},
   "outputs": [
    {
     "name": "stderr",
     "output_type": "stream",
     "text": [
      "C:\\Users\\co1012351486\\AppData\\Local\\Continuum\\anaconda3\\lib\\site-packages\\ipykernel_launcher.py:1: FutureWarning: set_value is deprecated and will be removed in a future release. Please use .at[] or .iat[] accessors instead\n",
      "  \"\"\"Entry point for launching an IPython kernel.\n"
     ]
    }
   ],
   "source": [
    "data.set_value(328,'NIVEL_EDUCATIVO','PRÉGRADO')\n",
    "data_substring = data['NIVEL_EDUCATIVO'].str[:3]\n",
    "data = data.replace(to_replace='PRÉGRADO',value='PREGRADO')\n",
    "data.NIVEL_EDUCATIVO = data.NIVEL_EDUCATIVO.replace('CADENA', 'REEMPLAZO')\n",
    "data_replace = data.NIVEL_EDUCATIVO.map({'PREGRADO':'PROFESIONAL','POSGRADO':'POSGRADO','BACHILLERATO':'BACHILLERATO'})"
   ]
  },
  {
   "cell_type": "markdown",
   "metadata": {},
   "source": [
    "## Data Visualization"
   ]
  },
  {
   "cell_type": "code",
   "execution_count": 10,
   "metadata": {},
   "outputs": [
    {
     "data": {
      "text/html": [
       "<div>\n",
       "<style scoped>\n",
       "    .dataframe tbody tr th:only-of-type {\n",
       "        vertical-align: middle;\n",
       "    }\n",
       "\n",
       "    .dataframe tbody tr th {\n",
       "        vertical-align: top;\n",
       "    }\n",
       "\n",
       "    .dataframe thead th {\n",
       "        text-align: right;\n",
       "    }\n",
       "</style>\n",
       "<table border=\"1\" class=\"dataframe\">\n",
       "  <thead>\n",
       "    <tr style=\"text-align: right;\">\n",
       "      <th>NIVEL_EDUCATIVO</th>\n",
       "      <th>BACHILLERATO</th>\n",
       "      <th>POSGRADO</th>\n",
       "      <th>PREGRADO</th>\n",
       "      <th>PRIMARIA</th>\n",
       "    </tr>\n",
       "  </thead>\n",
       "  <tbody>\n",
       "    <tr>\n",
       "      <th>INGRESOS</th>\n",
       "      <td>51196.72471</td>\n",
       "      <td>86248.9361</td>\n",
       "      <td>59052.220739</td>\n",
       "      <td>88523.179919</td>\n",
       "    </tr>\n",
       "  </tbody>\n",
       "</table>\n",
       "</div>"
      ],
      "text/plain": [
       "NIVEL_EDUCATIVO  BACHILLERATO    POSGRADO      PREGRADO      PRIMARIA\n",
       "INGRESOS          51196.72471  86248.9361  59052.220739  88523.179919"
      ]
     },
     "execution_count": 10,
     "metadata": {},
     "output_type": "execute_result"
    }
   ],
   "source": [
    "data.pivot_table(values = 'INGRESOS', columns = 'NIVEL_EDUCATIVO', aggfunc = np.mean)"
   ]
  },
  {
   "cell_type": "code",
   "execution_count": 11,
   "metadata": {},
   "outputs": [
    {
     "data": {
      "text/plain": [
       "<matplotlib.axes._subplots.AxesSubplot at 0xbde2a20>"
      ]
     },
     "execution_count": 11,
     "metadata": {},
     "output_type": "execute_result"
    },
    {
     "data": {
      "image/png": "[encoded data removed]",
      "text/plain": [
       "<Figure size 800x550 with 1 Axes>"
      ]
     },
     "metadata": {},
     "output_type": "display_data"
    }
   ],
   "source": [
    "data = data[np.abs(data.LIMITE_CREDITO - data.LIMITE_CREDITO.mean()) <= ( 3 * data.LIMITE_CREDITO.std())]\n",
    "data = data[~(np.abs(data.LIMITE_CREDITO - data.LIMITE_CREDITO.mean()) > (3 * data.LIMITE_CREDITO.std()))]\n",
    "\n",
    "data = data[np.abs(data.INGRESOS - data.INGRESOS.mean()) <= ( 3 * data.INGRESOS.std())]\n",
    "data = data[~(np.abs(data.INGRESOS - data.INGRESOS.mean()) > (3 * data.INGRESOS.std()))]\n",
    "\n",
    "data.boxplot('LIMITE_CREDITO')"
   ]
  },
  {
   "cell_type": "code",
   "execution_count": 12,
   "metadata": {},
   "outputs": [
    {
     "data": {
      "text/plain": [
       "<matplotlib.axes._subplots.AxesSubplot at 0xb90feb8>"
      ]
     },
     "execution_count": 12,
     "metadata": {},
     "output_type": "execute_result"
    },
    {
     "data": {
      "image/png": "[encoded data removed]",
      "text/plain": [
       "<Figure size 500x500 with 1 Axes>"
      ]
     },
     "metadata": {},
     "output_type": "display_data"
    }
   ],
   "source": [
    "data.plot(x='INGRESOS',y='LIMITE_CREDITO',kind='scatter',figsize=(5,5))"
   ]
  },
  {
   "cell_type": "code",
   "execution_count": 13,
   "metadata": {},
   "outputs": [
    {
     "data": {
      "text/plain": [
       "<matplotlib.axes._subplots.AxesSubplot at 0xc994400>"
      ]
     },
     "execution_count": 13,
     "metadata": {},
     "output_type": "execute_result"
    },
    {
     "data": {
      "image/png": "[encoded data removed]",
      "text/plain": [
       "<Figure size 500x500 with 1 Axes>"
      ]
     },
     "metadata": {},
     "output_type": "display_data"
    }
   ],
   "source": [
    "data.plot(x='INGRESOS',y='LIMITE_CREDITO',kind='line',figsize=(5,5))"
   ]
  },
  {
   "cell_type": "code",
   "execution_count": 14,
   "metadata": {},
   "outputs": [
    {
     "data": {
      "text/plain": [
       "<matplotlib.axes._subplots.AxesSubplot at 0xc5ae978>"
      ]
     },
     "execution_count": 14,
     "metadata": {},
     "output_type": "execute_result"
    },
    {
     "data": {
      "image/png": "[encoded data removed]",
      "text/plain": [
       "<Figure size 700x500 with 1 Axes>"
      ]
     },
     "metadata": {},
     "output_type": "display_data"
    }
   ],
   "source": [
    "data[['EDAD','LIMITE_CREDITO']].plot(kind='box',figsize=(7,5))"
   ]
  },
  {
   "cell_type": "code",
   "execution_count": 15,
   "metadata": {},
   "outputs": [
    {
     "data": {
      "text/plain": [
       "<matplotlib.axes._subplots.AxesSubplot at 0xbb58ef0>"
      ]
     },
     "execution_count": 15,
     "metadata": {},
     "output_type": "execute_result"
    },
    {
     "data": {
      "image/png": "[encoded data removed]",
      "text/plain": [
       "<Figure size 500x500 with 1 Axes>"
      ]
     },
     "metadata": {},
     "output_type": "display_data"
    }
   ],
   "source": [
    "data[['EDAD','LIMITE_CREDITO']].plot(kind='hist',figsize=(5,5))"
   ]
  },
  {
   "cell_type": "code",
   "execution_count": 16,
   "metadata": {},
   "outputs": [],
   "source": [
    "#data[['EDAD','LIMITE_CREDITO']].plot(kind='bar',figsize=(5,5))"
   ]
  },
  {
   "cell_type": "code",
   "execution_count": 17,
   "metadata": {},
   "outputs": [
    {
     "data": {
      "text/plain": [
       "<matplotlib.axes._subplots.AxesSubplot at 0xc2d0cf8>"
      ]
     },
     "execution_count": 17,
     "metadata": {},
     "output_type": "execute_result"
    },
    {
     "data": {
      "image/png": "[encoded data removed]",
      "text/plain": [
       "<Figure size 500x500 with 1 Axes>"
      ]
     },
     "metadata": {},
     "output_type": "display_data"
    }
   ],
   "source": [
    "data[['INGRESOS','LIMITE_CREDITO']].plot(kind='area',figsize=(5,5))"
   ]
  },
  {
   "cell_type": "code",
   "execution_count": 18,
   "metadata": {},
   "outputs": [
    {
     "name": "stderr",
     "output_type": "stream",
     "text": [
      "C:\\Users\\co1012351486\\AppData\\Local\\Continuum\\anaconda3\\lib\\site-packages\\matplotlib\\axes\\_axes.py:6462: UserWarning: The 'normed' kwarg is deprecated, and has been replaced by the 'density' kwarg.\n",
      "  warnings.warn(\"The 'normed' kwarg is deprecated, and has been \"\n",
      "C:\\Users\\co1012351486\\AppData\\Local\\Continuum\\anaconda3\\lib\\site-packages\\matplotlib\\axes\\_axes.py:6462: UserWarning: The 'normed' kwarg is deprecated, and has been replaced by the 'density' kwarg.\n",
      "  warnings.warn(\"The 'normed' kwarg is deprecated, and has been \"\n"
     ]
    },
    {
     "data": {
      "text/plain": [
       "<seaborn.axisgrid.JointGrid at 0xc4a3c88>"
      ]
     },
     "execution_count": 18,
     "metadata": {},
     "output_type": "execute_result"
    },
    {
     "data": {
      "image/png": "[encoded data removed]",
      "text/plain": [
       "<Figure size 600x600 with 3 Axes>"
      ]
     },
     "metadata": {},
     "output_type": "display_data"
    }
   ],
   "source": [
    "#data.plot(x='INGRESOS',y='LIMITE_CREDITO',kind='barh',figsize=(5,5))\n",
    "sns.jointplot(x='INGRESOS', y=\"LIMITE_CREDITO\", data = data)"
   ]
  },
  {
   "cell_type": "markdown",
   "metadata": {},
   "source": [
    "## Correlation functions"
   ]
  },
  {
   "cell_type": "markdown",
   "metadata": {},
   "source": [
    "#### Numerical - Numerical"
   ]
  },
  {
   "cell_type": "code",
   "execution_count": 19,
   "metadata": {},
   "outputs": [
    {
     "data": {
      "text/plain": [
       "SpearmanrResult(correlation=0.18465799195833796, pvalue=4.370053752859679e-227)"
      ]
     },
     "execution_count": 19,
     "metadata": {},
     "output_type": "execute_result"
    }
   ],
   "source": [
    "stats.spearmanr(data['LIMITE_CREDITO'], data['EDAD'])"
   ]
  },
  {
   "cell_type": "code",
   "execution_count": 20,
   "metadata": {},
   "outputs": [
    {
     "data": {
      "text/plain": [
       "(0.14226092409765884, 1.136389133901491e-134)"
      ]
     },
     "execution_count": 20,
     "metadata": {},
     "output_type": "execute_result"
    }
   ],
   "source": [
    "stats.pearsonr(data['LIMITE_CREDITO'], data['EDAD'])"
   ]
  },
  {
   "cell_type": "markdown",
   "metadata": {},
   "source": [
    "#### Numerical - Categorical"
   ]
  },
  {
   "cell_type": "code",
   "execution_count": 26,
   "metadata": {},
   "outputs": [
    {
     "data": {
      "text/html": [
       "<table class=\"simpletable\">\n",
       "<caption>OLS Regression Results</caption>\n",
       "<tr>\n",
       "  <th>Dep. Variable:</th>     <td>LIMITE_CREDITO</td>  <th>  R-squared:         </th>  <td>   0.013</td>  \n",
       "</tr>\n",
       "<tr>\n",
       "  <th>Model:</th>                   <td>OLS</td>       <th>  Adj. R-squared:    </th>  <td>   0.013</td>  \n",
       "</tr>\n",
       "<tr>\n",
       "  <th>Method:</th>             <td>Least Squares</td>  <th>  F-statistic:       </th>  <td>   133.6</td>  \n",
       "</tr>\n",
       "<tr>\n",
       "  <th>Date:</th>             <td>Thu, 20 Sep 2018</td> <th>  Prob (F-statistic):</th>  <td>5.26e-86</td>  \n",
       "</tr>\n",
       "<tr>\n",
       "  <th>Time:</th>                 <td>20:19:20</td>     <th>  Log-Likelihood:    </th> <td>-3.9248e+05</td>\n",
       "</tr>\n",
       "<tr>\n",
       "  <th>No. Observations:</th>      <td> 29836</td>      <th>  AIC:               </th>  <td>7.850e+05</td> \n",
       "</tr>\n",
       "<tr>\n",
       "  <th>Df Residuals:</th>          <td> 29832</td>      <th>  BIC:               </th>  <td>7.850e+05</td> \n",
       "</tr>\n",
       "<tr>\n",
       "  <th>Df Model:</th>              <td>     3</td>      <th>                     </th>      <td> </td>     \n",
       "</tr>\n",
       "<tr>\n",
       "  <th>Covariance Type:</th>      <td>nonrobust</td>    <th>                     </th>      <td> </td>     \n",
       "</tr>\n",
       "</table>\n",
       "<table class=\"simpletable\">\n",
       "<tr>\n",
       "               <td></td>                  <th>coef</th>     <th>std err</th>      <th>t</th>      <th>P>|t|</th>  <th>[0.025</th>    <th>0.975]</th>  \n",
       "</tr>\n",
       "<tr>\n",
       "  <th>Intercept</th>                   <td> 1.796e+05</td> <td> 1072.393</td> <td>  167.509</td> <td> 0.000</td> <td> 1.78e+05</td> <td> 1.82e+05</td>\n",
       "</tr>\n",
       "<tr>\n",
       "  <th>ESTADO_CIVIL[T.SOLTERO]</th>     <td>-2.543e+04</td> <td> 1460.438</td> <td>  -17.411</td> <td> 0.000</td> <td>-2.83e+04</td> <td>-2.26e+04</td>\n",
       "</tr>\n",
       "<tr>\n",
       "  <th>ESTADO_CIVIL[T.UNION_LIBRE]</th> <td>-8.156e+04</td> <td> 7034.432</td> <td>  -11.594</td> <td> 0.000</td> <td>-9.53e+04</td> <td>-6.78e+04</td>\n",
       "</tr>\n",
       "<tr>\n",
       "  <th>ESTADO_CIVIL[T.VIUDO]</th>       <td>-4.667e+04</td> <td>  1.7e+04</td> <td>   -2.740</td> <td> 0.006</td> <td>-8.01e+04</td> <td>-1.33e+04</td>\n",
       "</tr>\n",
       "</table>\n",
       "<table class=\"simpletable\">\n",
       "<tr>\n",
       "  <th>Omnibus:</th>       <td>2900.159</td> <th>  Durbin-Watson:     </th> <td>   1.889</td>\n",
       "</tr>\n",
       "<tr>\n",
       "  <th>Prob(Omnibus):</th>  <td> 0.000</td>  <th>  Jarque-Bera (JB):  </th> <td>3845.129</td>\n",
       "</tr>\n",
       "<tr>\n",
       "  <th>Skew:</th>           <td> 0.879</td>  <th>  Prob(JB):          </th> <td>    0.00</td>\n",
       "</tr>\n",
       "<tr>\n",
       "  <th>Kurtosis:</th>       <td> 3.057</td>  <th>  Cond. No.          </th> <td>    27.3</td>\n",
       "</tr>\n",
       "</table><br/><br/>Warnings:<br/>[1] Standard Errors assume that the covariance matrix of the errors is correctly specified."
      ],
      "text/plain": [
       "<class 'statsmodels.iolib.summary.Summary'>\n",
       "\"\"\"\n",
       "                            OLS Regression Results                            \n",
       "==============================================================================\n",
       "Dep. Variable:         LIMITE_CREDITO   R-squared:                       0.013\n",
       "Model:                            OLS   Adj. R-squared:                  0.013\n",
       "Method:                 Least Squares   F-statistic:                     133.6\n",
       "Date:                Thu, 20 Sep 2018   Prob (F-statistic):           5.26e-86\n",
       "Time:                        20:19:20   Log-Likelihood:            -3.9248e+05\n",
       "No. Observations:               29836   AIC:                         7.850e+05\n",
       "Df Residuals:                   29832   BIC:                         7.850e+05\n",
       "Df Model:                           3                                         \n",
       "Covariance Type:            nonrobust                                         \n",
       "===============================================================================================\n",
       "                                  coef    std err          t      P>|t|      [0.025      0.975]\n",
       "-----------------------------------------------------------------------------------------------\n",
       "Intercept                    1.796e+05   1072.393    167.509      0.000    1.78e+05    1.82e+05\n",
       "ESTADO_CIVIL[T.SOLTERO]     -2.543e+04   1460.438    -17.411      0.000   -2.83e+04   -2.26e+04\n",
       "ESTADO_CIVIL[T.UNION_LIBRE] -8.156e+04   7034.432    -11.594      0.000   -9.53e+04   -6.78e+04\n",
       "ESTADO_CIVIL[T.VIUDO]       -4.667e+04    1.7e+04     -2.740      0.006   -8.01e+04   -1.33e+04\n",
       "==============================================================================\n",
       "Omnibus:                     2900.159   Durbin-Watson:                   1.889\n",
       "Prob(Omnibus):                  0.000   Jarque-Bera (JB):             3845.129\n",
       "Skew:                           0.879   Prob(JB):                         0.00\n",
       "Kurtosis:                       3.057   Cond. No.                         27.3\n",
       "==============================================================================\n",
       "\n",
       "Warnings:\n",
       "[1] Standard Errors assume that the covariance matrix of the errors is correctly specified.\n",
       "\"\"\""
      ]
     },
     "execution_count": 26,
     "metadata": {},
     "output_type": "execute_result"
    }
   ],
   "source": [
    "anova = smf.ols(formula='LIMITE_CREDITO ~ ESTADO_CIVIL', data=data).fit()\n",
    "anova.summary()"
   ]
  },
  {
   "cell_type": "markdown",
   "metadata": {},
   "source": [
    "#### Categorical - Categorical"
   ]
  },
  {
   "cell_type": "code",
   "execution_count": 22,
   "metadata": {},
   "outputs": [
    {
     "data": {
      "text/html": [
       "<div>\n",
       "<style scoped>\n",
       "    .dataframe tbody tr th:only-of-type {\n",
       "        vertical-align: middle;\n",
       "    }\n",
       "\n",
       "    .dataframe tbody tr th {\n",
       "        vertical-align: top;\n",
       "    }\n",
       "\n",
       "    .dataframe thead th {\n",
       "        text-align: right;\n",
       "    }\n",
       "</style>\n",
       "<table border=\"1\" class=\"dataframe\">\n",
       "  <thead>\n",
       "    <tr style=\"text-align: right;\">\n",
       "      <th>ESTADO_CIVIL</th>\n",
       "      <th>CASADO</th>\n",
       "      <th>SOLTERO</th>\n",
       "      <th>UNION_LIBRE</th>\n",
       "      <th>VIUDO</th>\n",
       "      <th>All</th>\n",
       "    </tr>\n",
       "    <tr>\n",
       "      <th>NIVEL_EDUCATIVO</th>\n",
       "      <th></th>\n",
       "      <th></th>\n",
       "      <th></th>\n",
       "      <th></th>\n",
       "      <th></th>\n",
       "    </tr>\n",
       "  </thead>\n",
       "  <tbody>\n",
       "    <tr>\n",
       "      <th>BACHILLERATO</th>\n",
       "      <td>2872</td>\n",
       "      <td>1914</td>\n",
       "      <td>103</td>\n",
       "      <td>44</td>\n",
       "      <td>4933</td>\n",
       "    </tr>\n",
       "    <tr>\n",
       "      <th>POSGRADO</th>\n",
       "      <td>3815</td>\n",
       "      <td>6867</td>\n",
       "      <td>53</td>\n",
       "      <td>4</td>\n",
       "      <td>10739</td>\n",
       "    </tr>\n",
       "    <tr>\n",
       "      <th>PREGRADO</th>\n",
       "      <td>6836</td>\n",
       "      <td>7036</td>\n",
       "      <td>164</td>\n",
       "      <td>6</td>\n",
       "      <td>14042</td>\n",
       "    </tr>\n",
       "    <tr>\n",
       "      <th>PRIMARIA</th>\n",
       "      <td>52</td>\n",
       "      <td>67</td>\n",
       "      <td>3</td>\n",
       "      <td>0</td>\n",
       "      <td>122</td>\n",
       "    </tr>\n",
       "    <tr>\n",
       "      <th>All</th>\n",
       "      <td>13575</td>\n",
       "      <td>15884</td>\n",
       "      <td>323</td>\n",
       "      <td>54</td>\n",
       "      <td>29836</td>\n",
       "    </tr>\n",
       "  </tbody>\n",
       "</table>\n",
       "</div>"
      ],
      "text/plain": [
       "ESTADO_CIVIL     CASADO  SOLTERO  UNION_LIBRE  VIUDO    All\n",
       "NIVEL_EDUCATIVO                                            \n",
       "BACHILLERATO       2872     1914          103     44   4933\n",
       "POSGRADO           3815     6867           53      4  10739\n",
       "PREGRADO           6836     7036          164      6  14042\n",
       "PRIMARIA             52       67            3      0    122\n",
       "All               13575    15884          323     54  29836"
      ]
     },
     "execution_count": 22,
     "metadata": {},
     "output_type": "execute_result"
    }
   ],
   "source": [
    "tabla = pd.crosstab(index = data.NIVEL_EDUCATIVO,columns = data.ESTADO_CIVIL, margins=True)\n",
    "tabla"
   ]
  },
  {
   "cell_type": "code",
   "execution_count": 23,
   "metadata": {},
   "outputs": [
    {
     "data": {
      "text/plain": [
       "(1140.7203900313193,\n",
       " 7.79259381012229e-233,\n",
       " 16,\n",
       " array([[2.24445217e+03, 2.62621571e+03, 5.34039080e+01, 8.92820753e+00,\n",
       "         4.93300000e+03],\n",
       "        [4.88610822e+03, 5.71719654e+03, 1.16258781e+02, 1.94364526e+01,\n",
       "         1.07390000e+04],\n",
       "        [6.38893116e+03, 7.47563775e+03, 1.52016557e+02, 2.54145328e+01,\n",
       "         1.40420000e+04],\n",
       "        [5.55084462e+01, 6.49499933e+01, 1.32075345e+00, 2.20807079e-01,\n",
       "         1.22000000e+02],\n",
       "        [1.35750000e+04, 1.58840000e+04, 3.23000000e+02, 5.40000000e+01,\n",
       "         2.98360000e+04]]))"
      ]
     },
     "execution_count": 23,
     "metadata": {},
     "output_type": "execute_result"
    }
   ],
   "source": [
    "chi2_contingency(tabla)"
   ]
  },
  {
   "cell_type": "markdown",
   "metadata": {},
   "source": [
    "## Statistical distribution"
   ]
  },
  {
   "cell_type": "code",
   "execution_count": 24,
   "metadata": {},
   "outputs": [
    {
     "name": "stderr",
     "output_type": "stream",
     "text": [
      "C:\\Users\\co1012351486\\AppData\\Local\\Continuum\\anaconda3\\lib\\site-packages\\scipy\\stats\\morestats.py:1309: UserWarning: p-value may not be accurate for N > 5000.\n",
      "  warnings.warn(\"p-value may not be accurate for N > 5000.\")\n"
     ]
    },
    {
     "data": {
      "image/png": "[encoded data removed]",
      "text/plain": [
       "<Figure size 800x550 with 1 Axes>"
      ]
     },
     "metadata": {},
     "output_type": "display_data"
    }
   ],
   "source": [
    "stat, p = shapiro(data['LIMITE_CREDITO'])\n",
    "#print('Statistics=%.3f, p=%.3f' % (stat, p))\n",
    "\n",
    "alpha = 0.05\n",
    "data['LIMITE_CREDITO'].hist();"
   ]
  }
 ],
 "metadata": {
  "kernelspec": {
   "display_name": "Python 3",
   "language": "python",
   "name": "python3"
  },
  "language_info": {
   "codemirror_mode": {
    "name": "ipython",
    "version": 3
   },
   "file_extension": ".py",
   "mimetype": "text/x-python",
   "name": "python",
   "nbconvert_exporter": "python",
   "pygments_lexer": "ipython3",
   "version": "3.6.5"
  }
 },
 "nbformat": 4,
 "nbformat_minor": 2
}
