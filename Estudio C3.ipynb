{
 "cells": [
  {
   "cell_type": "markdown",
   "metadata": {},
   "source": [
    "### Lectura de información"
   ]
  },
  {
   "cell_type": "code",
   "execution_count": null,
   "metadata": {},
   "outputs": [],
   "source": [
    "tamano = int(input())\n",
    "conjunto = list(map(int, input().split()))"
   ]
  },
  {
   "cell_type": "code",
   "execution_count": null,
   "metadata": {},
   "outputs": [],
   "source": [
    "import re\n",
    "\n",
    "for _ in range(int(input())):  \n",
    "    try:\n",
    "        print(bool(re.compile(input())))\n",
    "    except:\n",
    "        print('False')"
   ]
  },
  {
   "cell_type": "markdown",
   "metadata": {},
   "source": [
    "### Palindromo numerico"
   ]
  },
  {
   "cell_type": "code",
   "execution_count": null,
   "metadata": {},
   "outputs": [],
   "source": [
    "N,n = int(input()),input().split()\n",
    "print (all([int(i)>0 for i in n]) and any([j == j[::-1] for j in n]))"
   ]
  },
  {
   "cell_type": "markdown",
   "metadata": {},
   "source": [
    "### Usando Numpy"
   ]
  },
  {
   "cell_type": "code",
   "execution_count": null,
   "metadata": {},
   "outputs": [],
   "source": [
    "conjunto = numpy.array(input().split(),float)\n",
    "\n",
    "print(numpy.floor(conjunto))\n",
    "print(numpy.ceil(conjunto))\n",
    "print(numpy.rint(conjunto))"
   ]
  },
  {
   "cell_type": "markdown",
   "metadata": {},
   "source": [
    "### Uso de excepciones"
   ]
  },
  {
   "cell_type": "code",
   "execution_count": null,
   "metadata": {},
   "outputs": [],
   "source": [
    "n = int(input())\n",
    "\n",
    "for i in range(1,n+1):\n",
    "    try:\n",
    "        a, *b = input().split()\n",
    "        a = int(a)\n",
    "        b = int(b[0])\n",
    "        print (a//b)\n",
    "    except ZeroDivisionError as e:\n",
    "        print (\"Error Code:\",e)\n",
    "    except ValueError as m:\n",
    "        print (\"Error Code:\",m)"
   ]
  },
  {
   "cell_type": "markdown",
   "metadata": {},
   "source": [
    "### Uso de fechas"
   ]
  },
  {
   "cell_type": "markdown",
   "metadata": {},
   "source": [
    "Calendar Module\n",
    "The calendar module allows you to output calendars and provides additional useful functions for them.\n",
    "\n",
    "class calendar.TextCalendar([firstweekday])\n",
    "\n",
    "This class can be used to generate plain text calendars."
   ]
  },
  {
   "cell_type": "code",
   "execution_count": null,
   "metadata": {},
   "outputs": [],
   "source": [
    "import calendar\n",
    "\n",
    "fecha = list(map(int, input().split()))\n",
    "print(list(calendar.day_name)[calendar.weekday(fecha[2], fecha[0], fecha[1])].upper())"
   ]
  },
  {
   "cell_type": "code",
   "execution_count": 14,
   "metadata": {},
   "outputs": [
    {
     "name": "stdout",
     "output_type": "stream",
     "text": [
      "                                  2019\n",
      "\n",
      "      January                   February                   March\n",
      "Su Mo Tu We Th Fr Sa      Su Mo Tu We Th Fr Sa      Su Mo Tu We Th Fr Sa\n",
      "       1  2  3  4  5                      1  2                      1  2\n",
      " 6  7  8  9 10 11 12       3  4  5  6  7  8  9       3  4  5  6  7  8  9\n",
      "13 14 15 16 17 18 19      10 11 12 13 14 15 16      10 11 12 13 14 15 16\n",
      "20 21 22 23 24 25 26      17 18 19 20 21 22 23      17 18 19 20 21 22 23\n",
      "27 28 29 30 31            24 25 26 27 28            24 25 26 27 28 29 30\n",
      "                                                    31\n",
      "\n",
      "       April                      May                       June\n",
      "Su Mo Tu We Th Fr Sa      Su Mo Tu We Th Fr Sa      Su Mo Tu We Th Fr Sa\n",
      "    1  2  3  4  5  6                1  2  3  4                         1\n",
      " 7  8  9 10 11 12 13       5  6  7  8  9 10 11       2  3  4  5  6  7  8\n",
      "14 15 16 17 18 19 20      12 13 14 15 16 17 18       9 10 11 12 13 14 15\n",
      "21 22 23 24 25 26 27      19 20 21 22 23 24 25      16 17 18 19 20 21 22\n",
      "28 29 30                  26 27 28 29 30 31         23 24 25 26 27 28 29\n",
      "                                                    30\n",
      "\n",
      "        July                     August                  September\n",
      "Su Mo Tu We Th Fr Sa      Su Mo Tu We Th Fr Sa      Su Mo Tu We Th Fr Sa\n",
      "    1  2  3  4  5  6                   1  2  3       1  2  3  4  5  6  7\n",
      " 7  8  9 10 11 12 13       4  5  6  7  8  9 10       8  9 10 11 12 13 14\n",
      "14 15 16 17 18 19 20      11 12 13 14 15 16 17      15 16 17 18 19 20 21\n",
      "21 22 23 24 25 26 27      18 19 20 21 22 23 24      22 23 24 25 26 27 28\n",
      "28 29 30 31               25 26 27 28 29 30 31      29 30\n",
      "\n",
      "      October                   November                  December\n",
      "Su Mo Tu We Th Fr Sa      Su Mo Tu We Th Fr Sa      Su Mo Tu We Th Fr Sa\n",
      "       1  2  3  4  5                      1  2       1  2  3  4  5  6  7\n",
      " 6  7  8  9 10 11 12       3  4  5  6  7  8  9       8  9 10 11 12 13 14\n",
      "13 14 15 16 17 18 19      10 11 12 13 14 15 16      15 16 17 18 19 20 21\n",
      "20 21 22 23 24 25 26      17 18 19 20 21 22 23      22 23 24 25 26 27 28\n",
      "27 28 29 30 31            24 25 26 27 28 29 30      29 30 31\n",
      "\n"
     ]
    }
   ],
   "source": [
    "import calendar\n",
    "\n",
    "print (calendar.TextCalendar(firstweekday=6).formatyear(2019))"
   ]
  },
  {
   "cell_type": "markdown",
   "metadata": {},
   "source": [
    "### Using strings"
   ]
  },
  {
   "cell_type": "code",
   "execution_count": null,
   "metadata": {},
   "outputs": [],
   "source": [
    "def swap_case(s):\n",
    "    s = list(s)\n",
    "    for i in range(len(s)):\n",
    "        if s[i].isupper():\n",
    "            s[i] = s[i].lower()\n",
    "        else:\n",
    "            s[i] = s[i].upper()\n",
    "    return ''.join(s)"
   ]
  },
  {
   "cell_type": "code",
   "execution_count": 2,
   "metadata": {},
   "outputs": [
    {
     "name": "stdout",
     "output_type": "stream",
     "text": [
      "Convirtiendo un string en una lista\n",
      "['this', 'is', 'a', 'string']\n",
      "Uniendo un string con un separador determinado\n",
      "this-is-a-string\n"
     ]
    }
   ],
   "source": [
    "a = \"this is a string\"\n",
    "a = a.split(\" \") # a is converted to a list of strings. \n",
    "print ('Convirtiendo un string en una lista')\n",
    "print (a)\n",
    "print ('Uniendo un string con un separador determinado')\n",
    "a = \"-\".join(a)\n",
    "print (a)"
   ]
  },
  {
   "cell_type": "code",
   "execution_count": 6,
   "metadata": {},
   "outputs": [
    {
     "name": "stdout",
     "output_type": "stream",
     "text": [
      "HackerRank----------\n",
      "----------HackerRank\n",
      "-----HackerRank-----\n"
     ]
    }
   ],
   "source": [
    "print('HackerRank'.ljust(20,'-'))\n",
    "print('HackerRank'.rjust(20,'-'))\n",
    "print('HackerRank'.center(20,'-'))"
   ]
  },
  {
   "cell_type": "code",
   "execution_count": null,
   "metadata": {},
   "outputs": [],
   "source": [
    "dataframe[\"period\"] = dataframe[\"Year\"].map(str) + dataframe[\"quarter\"]"
   ]
  },
  {
   "cell_type": "markdown",
   "metadata": {},
   "source": [
    "#### Convertir la primera letra a mayuscula"
   ]
  },
  {
   "cell_type": "code",
   "execution_count": 4,
   "metadata": {},
   "outputs": [
    {
     "name": "stdout",
     "output_type": "stream",
     "text": [
      "Camilo\n",
      "El Titulo De Un Libro\n",
      "1 W 2 R 3G\n"
     ]
    }
   ],
   "source": [
    "palabra = 'camilo'\n",
    "oracion = 'el titulo de un libro'\n",
    "print(palabra.capitalize())\n",
    "print(oracion.title())\n",
    "\n",
    "s = '1 w 2 r 3g'\n",
    "print(s.title())"
   ]
  },
  {
   "cell_type": "markdown",
   "metadata": {},
   "source": [
    "## Conversión hexadecimal, octal y binario"
   ]
  },
  {
   "cell_type": "code",
   "execution_count": null,
   "metadata": {},
   "outputs": [],
   "source": [
    "def print_formatted(number):\n",
    "    width = len(\"{0:b}\".format(n))\n",
    "    for i in range(1,number+1):\n",
    "        print(\"{0:{width}d} {0:{width}o} {0:{width}X} {0:{width}b}\".format(i, width=width))"
   ]
  },
  {
   "cell_type": "code",
   "execution_count": 11,
   "metadata": {},
   "outputs": [
    {
     "name": "stdout",
     "output_type": "stream",
     "text": [
      "Este\n",
      "text\n",
      "o se\n",
      "divi\n",
      "de\n",
      "en v\n",
      "aria\n",
      "s pa\n",
      "rtes\n",
      "['Este', 'text', 'o se', 'divi', 'de', 'en v', 'aria', 's pa', 'rtes']\n"
     ]
    }
   ],
   "source": [
    "import textwrap\n",
    "string = 'Este texto se divide en varias partes'\n",
    "max_width = 4\n",
    "print(textwrap.fill(string,max_width))\n",
    "print(textwrap.wrap(string,max_width))"
   ]
  },
  {
   "cell_type": "code",
   "execution_count": null,
   "metadata": {},
   "outputs": [],
   "source": [
    "n=24\n",
    "\n",
    "if n%2 == 1:\n",
    "    print (\"Weird\")\n",
    "else:\n",
    "    if n>=2 and n<=5:\n",
    "        print (\"Not Weird\")\n",
    "        \n",
    "    if n>=6 and n<=20:\n",
    "        print (\"Weird\")\n",
    "        \n",
    "    if n>20:\n",
    "        print (\"Not Weird\")"
   ]
  },
  {
   "cell_type": "code",
   "execution_count": null,
   "metadata": {},
   "outputs": [],
   "source": [
    "for i in range(0,len(s)):\n",
    "        if s[i].isalnum() == True:\n",
    "            alnum = True\n",
    "\n",
    "        if s[i].isalpha() == True:\n",
    "            alpha = True\n",
    "\n",
    "        if s[i].isdigit() == True:\n",
    "            digit = True\n",
    "\n",
    "        if s[i].islower() == True:\n",
    "            lower = True\n",
    "\n",
    "        if s[i].isupper() == True:\n",
    "            upper = True"
   ]
  },
  {
   "cell_type": "code",
   "execution_count": null,
   "metadata": {},
   "outputs": [],
   "source": [
    "l=3\n",
    "r=9\n",
    "\n",
    "answer = list()\n",
    "\n",
    "for n in range(l, r+1):\n",
    "    if n%2 == 1:\n",
    "        answer.append(n)\n",
    "        \n",
    "print (answer)"
   ]
  },
  {
   "cell_type": "code",
   "execution_count": null,
   "metadata": {},
   "outputs": [],
   "source": [
    "a = [5,1,2,3,4,5]\n",
    "\n",
    "def findNumber(arr, k):\n",
    "    b = 0\n",
    "    arr = arr[1:len(arr)]\n",
    "    for n in range(0,len(arr)):\n",
    "        if arr[n] == k:\n",
    "            b = 1\n",
    "            anw = \"YES\"\n",
    "            print (arr[n])\n",
    "            return anw\n",
    "            \n",
    "    if b == 0:\n",
    "        anw = \"NO\"\n",
    "        return anw\n",
    "findNumber(a, 1) "
   ]
  },
  {
   "cell_type": "code",
   "execution_count": null,
   "metadata": {},
   "outputs": [],
   "source": [
    "n = int(input())\n",
    "arr = map(int, input().split())\n",
    "arr = list(arr)\n",
    "max = arr[0]\n",
    "second = 0\n",
    "\n",
    "for i in range(1,len(arr)):\n",
    "    if arr[i] > max:\n",
    "        second = max\n",
    "        max = arr[i]\n",
    "    else:\n",
    "        if abs(arr[i]) > second and arr[i] != max:\n",
    "            second = arr[i]\n",
    "    \n",
    "print(second)"
   ]
  },
  {
   "cell_type": "markdown",
   "metadata": {},
   "source": [
    "### Using dictionaries"
   ]
  },
  {
   "cell_type": "code",
   "execution_count": 1,
   "metadata": {},
   "outputs": [
    {
     "name": "stdout",
     "output_type": "stream",
     "text": [
      "6\n",
      "6 55\n",
      "6 45\n",
      "4 6\n",
      "5 56\n",
      "2 87\n",
      "7 78\n",
      "327\n"
     ]
    }
   ],
   "source": [
    "from collections import Counter\n",
    "\n",
    "X = 10\n",
    "N = [2,3,4,5,6,8,7,6,5,18]\n",
    "\n",
    "inventario = dict(Counter(N))\n",
    "lista = []\n",
    "ganancia = 0\n",
    "\n",
    "for _ in range(int(input())):\n",
    "    shoe = list(map(int, input().split()))\n",
    "    #print(inventario.get(shoe[0]) is None)\n",
    "    if inventario.get(shoe[0]) is not None:\n",
    "        if inventario.get(shoe[0])>0:\n",
    "            inventario.update({shoe[0]:inventario.get(shoe[0]) - 1})\n",
    "            ganancia = ganancia + shoe[1]\n",
    "\n",
    "print(ganancia)"
   ]
  },
  {
   "cell_type": "code",
   "execution_count": null,
   "metadata": {},
   "outputs": [],
   "source": [
    "    rows_list = []\n",
    "\n",
    "    lista = []\n",
    "    for _ in range(int(input())):\n",
    "        name = input()\n",
    "        score = float(input())\n",
    "        dictionary = [name,score]\n",
    "        rows_list.append(dictionary)\n",
    "\n",
    "    for i in \n",
    "    print(rows_list[:][1])"
   ]
  },
  {
   "cell_type": "code",
   "execution_count": null,
   "metadata": {},
   "outputs": [],
   "source": [
    "import pandas as pd\n",
    "rows_list = []\n",
    "\n",
    "lista = []\n",
    "for _ in range(int(input())):\n",
    "    name = input()\n",
    "    score = float(input())\n",
    "    dictionary = {\"name\":name,\"score\":score}\n",
    "    rows_list.append(dictionary)\n",
    "\n",
    "data = pd.DataFrame(rows_list)\n",
    "print(data[data['score'] == data['score'].max()])"
   ]
  },
  {
   "cell_type": "code",
   "execution_count": 10,
   "metadata": {},
   "outputs": [
    {
     "ename": "KeyError",
     "evalue": "'OUTPUT_PATH'",
     "output_type": "error",
     "traceback": [
      "\u001b[1;31m---------------------------------------------------------------------------\u001b[0m",
      "\u001b[1;31mKeyError\u001b[0m                                  Traceback (most recent call last)",
      "\u001b[1;32m<ipython-input-10-39061caa5591>\u001b[0m in \u001b[0;36m<module>\u001b[1;34m()\u001b[0m\n\u001b[0;32m     22\u001b[0m \u001b[1;33m\u001b[0m\u001b[0m\n\u001b[0;32m     23\u001b[0m \u001b[1;32mif\u001b[0m \u001b[0m__name__\u001b[0m \u001b[1;33m==\u001b[0m \u001b[1;34m'__main__'\u001b[0m\u001b[1;33m:\u001b[0m\u001b[1;33m\u001b[0m\u001b[0m\n\u001b[1;32m---> 24\u001b[1;33m     \u001b[0mfptr\u001b[0m \u001b[1;33m=\u001b[0m \u001b[0mopen\u001b[0m\u001b[1;33m(\u001b[0m\u001b[0mos\u001b[0m\u001b[1;33m.\u001b[0m\u001b[0menviron\u001b[0m\u001b[1;33m[\u001b[0m\u001b[1;34m'OUTPUT_PATH'\u001b[0m\u001b[1;33m]\u001b[0m\u001b[1;33m,\u001b[0m \u001b[1;34m'w'\u001b[0m\u001b[1;33m)\u001b[0m\u001b[1;33m\u001b[0m\u001b[0m\n\u001b[0m\u001b[0;32m     25\u001b[0m \u001b[1;33m\u001b[0m\u001b[0m\n\u001b[0;32m     26\u001b[0m     \u001b[0marr\u001b[0m \u001b[1;33m=\u001b[0m \u001b[1;33m[\u001b[0m\u001b[1;33m]\u001b[0m\u001b[1;33m\u001b[0m\u001b[0m\n",
      "\u001b[1;32m~\\AppData\\Local\\Continuum\\anaconda3\\lib\\os.py\u001b[0m in \u001b[0;36m__getitem__\u001b[1;34m(self, key)\u001b[0m\n\u001b[0;32m    667\u001b[0m         \u001b[1;32mexcept\u001b[0m \u001b[0mKeyError\u001b[0m\u001b[1;33m:\u001b[0m\u001b[1;33m\u001b[0m\u001b[0m\n\u001b[0;32m    668\u001b[0m             \u001b[1;31m# raise KeyError with the original key value\u001b[0m\u001b[1;33m\u001b[0m\u001b[1;33m\u001b[0m\u001b[0m\n\u001b[1;32m--> 669\u001b[1;33m             \u001b[1;32mraise\u001b[0m \u001b[0mKeyError\u001b[0m\u001b[1;33m(\u001b[0m\u001b[0mkey\u001b[0m\u001b[1;33m)\u001b[0m \u001b[1;32mfrom\u001b[0m \u001b[1;32mNone\u001b[0m\u001b[1;33m\u001b[0m\u001b[0m\n\u001b[0m\u001b[0;32m    670\u001b[0m         \u001b[1;32mreturn\u001b[0m \u001b[0mself\u001b[0m\u001b[1;33m.\u001b[0m\u001b[0mdecodevalue\u001b[0m\u001b[1;33m(\u001b[0m\u001b[0mvalue\u001b[0m\u001b[1;33m)\u001b[0m\u001b[1;33m\u001b[0m\u001b[0m\n\u001b[0;32m    671\u001b[0m \u001b[1;33m\u001b[0m\u001b[0m\n",
      "\u001b[1;31mKeyError\u001b[0m: 'OUTPUT_PATH'"
     ]
    }
   ],
   "source": [
    "import math\n",
    "import os\n",
    "import random\n",
    "import re\n",
    "import sys\n",
    "\n",
    "# Complete the hourglassSum function below.\n",
    "def hourglassSum(arr):\n",
    "    maximo = 0\n",
    "\n",
    "    for col in range(0,6):\n",
    "        for fil in range(0,6):\n",
    "            if arr[fil][col] > maximo:\n",
    "                maximo = arr[fil][col]\n",
    "    \n",
    "    if maximo == 0:\n",
    "        maximo = -1000000000\n",
    "    else:\n",
    "        maximo = 0\n",
    "\n",
    "    for col in range(0,4):\n",
    "        for fil in range(0,4):\n",
    "            suma = 0\n",
    "            for j in range(0,3):\n",
    "                if j == 0 or j == 2:\n",
    "                    for i in range(0,3):\n",
    "                        suma += arr[j+fil][i+col]\n",
    "                if j == 1:\n",
    "                    suma += arr[j+fil][1+col]\n",
    "            if suma > maximo:\n",
    "                maximo = suma\n",
    "    return maximo\n",
    "\n",
    "if __name__ == '__main__':\n",
    "    fptr = open(os.environ['OUTPUT_PATH'], 'w')\n",
    "\n",
    "    arr = []\n",
    "\n",
    "    for _ in range(6):\n",
    "        arr.append(list(map(int, input().rstrip().split())))\n",
    "\n",
    "    result = hourglassSum(arr)\n",
    "    fptr.write(str(result) + '\\n')\n",
    "\n",
    "    fptr.close()"
   ]
  },
  {
   "cell_type": "markdown",
   "metadata": {},
   "source": [
    "## Lists use"
   ]
  },
  {
   "cell_type": "code",
   "execution_count": 1,
   "metadata": {},
   "outputs": [
    {
     "name": "stdout",
     "output_type": "stream",
     "text": [
      "2\n",
      "insert 0 5\n",
      "print\n",
      "[5]\n"
     ]
    }
   ],
   "source": [
    "    N = int(input())\n",
    "    lista = []\n",
    "\n",
    "    for _ in range(N):\n",
    "        operation, *line = input().split()\n",
    "        values = list(map(int, line))\n",
    "\n",
    "        if operation == 'insert': \n",
    "            lista.insert(values[0], values[1])\n",
    "        \n",
    "        if operation == 'print': \n",
    "            print(lista)\n",
    "\n",
    "        if operation == 'remove': \n",
    "            lista.remove(values[0])\n",
    "        \n",
    "        if operation == 'pop': \n",
    "            lista.pop(len(lista)-1)\n",
    "\n",
    "        if operation == 'append': \n",
    "            lista.append(values[0])\n",
    "\n",
    "        if operation == 'sort': \n",
    "            lista = sorted(lista)\n",
    "        \n",
    "        if operation == 'reverse': \n",
    "            lista.reverse()"
   ]
  },
  {
   "cell_type": "code",
   "execution_count": null,
   "metadata": {},
   "outputs": [],
   "source": [
    "_x = input()\n",
    "_x = list(map(float, _x.split(',')))"
   ]
  },
  {
   "cell_type": "markdown",
   "metadata": {},
   "source": [
    "## Uso de conjuntos"
   ]
  },
  {
   "cell_type": "code",
   "execution_count": null,
   "metadata": {},
   "outputs": [],
   "source": [
    "conjunto = set()\n",
    "\n",
    "for _ in range(int(input())):\n",
    "    country = input()\n",
    "    conjunto.add(country)\n",
    "\n",
    "print(len(conjunto))"
   ]
  },
  {
   "cell_type": "code",
   "execution_count": null,
   "metadata": {},
   "outputs": [],
   "source": [
    "conjunto = set()\n",
    "\n",
    "numero = input()\n",
    "entrada = set(map(int, input().split()))    \n",
    "conjunto = set(entrada)\n",
    "\n",
    "numero = input()\n",
    "entrada = set(map(int, input().split()))    \n",
    "conjunto = conjunto.difference(entrada)\n",
    "    \n",
    "print(len(conjunto))"
   ]
  },
  {
   "cell_type": "code",
   "execution_count": null,
   "metadata": {},
   "outputs": [],
   "source": [
    "def average(array):\n",
    "    conjunto = set(array)\n",
    "    return sum(conjunto)/len(conjunto)"
   ]
  },
  {
   "cell_type": "markdown",
   "metadata": {},
   "source": [
    "## Contenencia entre conjuntos"
   ]
  },
  {
   "cell_type": "code",
   "execution_count": null,
   "metadata": {},
   "outputs": [],
   "source": [
    "n = int(input())\n",
    "for i in range(1,n+1):\n",
    "    tamano = int(input())\n",
    "    conjunto = list(map(int, input().split()))\n",
    "    tamano = int(input())\n",
    "    conjunto2 = list(map(int, input().split()))\n",
    "    print(set(conjunto) <= set(conjunto2))"
   ]
  },
  {
   "cell_type": "markdown",
   "metadata": {},
   "source": [
    "### Diferencia simetrica"
   ]
  },
  {
   "cell_type": "code",
   "execution_count": null,
   "metadata": {},
   "outputs": [],
   "source": [
    "conjunto = set()\n",
    "\n",
    "numero = input()\n",
    "entrada = set(map(int, input().split()))    \n",
    "conjunto = set(entrada)\n",
    "\n",
    "numero = input()\n",
    "entrada = set(map(int, input().split()))    \n",
    "conjunto = conjunto.symmetric_difference(entrada)\n",
    "    \n",
    "print(len(conjunto))"
   ]
  },
  {
   "cell_type": "code",
   "execution_count": null,
   "metadata": {},
   "outputs": [],
   "source": [
    "n = int(input())\n",
    "s = set(map(int, input().split()))\n",
    "\n",
    "for _ in range(int(input())):\n",
    "    operation, *line = input().split()\n",
    "    if operation == 'pop':\n",
    "        s.pop()\n",
    "    if operation == 'remove':\n",
    "        value = list(map(int, line))\n",
    "        s.remove(value[0])\n",
    "    if operation == 'discard':\n",
    "        value = list(map(int, line))\n",
    "        s.discard(value[0])\n",
    "print(sum(s))"
   ]
  },
  {
   "cell_type": "markdown",
   "metadata": {},
   "source": [
    "### Diferencia"
   ]
  },
  {
   "cell_type": "code",
   "execution_count": 1,
   "metadata": {},
   "outputs": [
    {
     "ename": "SyntaxError",
     "evalue": "invalid syntax (<ipython-input-1-32666521bb96>, line 2)",
     "output_type": "error",
     "traceback": [
      "\u001b[1;36m  File \u001b[1;32m\"<ipython-input-1-32666521bb96>\"\u001b[1;36m, line \u001b[1;32m2\u001b[0m\n\u001b[1;33m    print s.union(\"Rank\")\u001b[0m\n\u001b[1;37m          ^\u001b[0m\n\u001b[1;31mSyntaxError\u001b[0m\u001b[1;31m:\u001b[0m invalid syntax\n"
     ]
    }
   ],
   "source": [
    "s = set(\"Hacker\")\n",
    "print s.union(\"Rank\")\n",
    "set(['a', 'R', 'c', 'r', 'e', 'H', 'k', 'n'])\n",
    "\n",
    "print s.union(set(['R', 'a', 'n', 'k']))\n",
    "set(['a', 'R', 'c', 'r', 'e', 'H', 'k', 'n'])\n",
    "\n",
    "print s.union(['R', 'a', 'n', 'k'])\n",
    "set(['a', 'R', 'c', 'r', 'e', 'H', 'k', 'n'])\n",
    "\n",
    "print s.union(enumerate(['R', 'a', 'n', 'k']))\n",
    "set(['a', 'c', 'r', 'e', (1, 'a'), (2, 'n'), 'H', 'k', (3, 'k'), (0, 'R')])\n",
    "\n",
    "print s.union({\"Rank\":1})\n",
    "set(['a', 'c', 'r', 'e', 'H', 'k', 'Rank'])\n",
    "\n",
    "s | set(\"Rank\")\n",
    "set(['a', 'R', 'c', 'r', 'e', 'H', 'k', 'n'])"
   ]
  },
  {
   "cell_type": "markdown",
   "metadata": {},
   "source": [
    "## Answers"
   ]
  },
  {
   "cell_type": "markdown",
   "metadata": {},
   "source": [
    "# Complete the oddNumbers function below."
   ]
  },
  {
   "cell_type": "code",
   "execution_count": null,
   "metadata": {},
   "outputs": [],
   "source": [
    "def oddNumbers(l, r):\n",
    "    answer = list()\n",
    "\n",
    "    for n in range(l, r+1):\n",
    "        if n%2 == 1:\n",
    "            answer.append(n)\n",
    "\n",
    "    return answer\n",
    "if __name__ == '__main__':"
   ]
  },
  {
   "cell_type": "code",
   "execution_count": null,
   "metadata": {},
   "outputs": [],
   "source": [
    "def findNumber(arr, k):\n",
    "    b = 0\n",
    "    ##arr = arr[1:len(arr)]\n",
    "    for n in range(0,len(arr)):\n",
    "        if arr[n] == k:\n",
    "            b = 1\n",
    "            anw = \"YES\"\n",
    "            print (arr[n])\n",
    "            return anw\n",
    "            break\n",
    "    if b == 0:\n",
    "        anw = \"NO\"\n",
    "        return anw\n",
    "if __name__ == '__main__':"
   ]
  },
  {
   "cell_type": "code",
   "execution_count": null,
   "metadata": {},
   "outputs": [],
   "source": [
    "n=5\n",
    "a = ''\n",
    "for i in range(1,n+1):\n",
    "    a = a + str(i)\n",
    "print(a)"
   ]
  },
  {
   "cell_type": "code",
   "execution_count": null,
   "metadata": {},
   "outputs": [],
   "source": [
    "x = 1\n",
    "y = 1\n",
    "z = 1\n",
    "n = 2\n",
    "result = []\n",
    "\n",
    "for i in range (0,x+1):\n",
    "        for j in range (0,y+1):\n",
    "            for k in range (0,z+1):\n",
    "                if (i + j + k) != n:\n",
    "                    result = result + list([[i,j,k]])\n",
    "                    \n",
    "result"
   ]
  },
  {
   "cell_type": "code",
   "execution_count": 9,
   "metadata": {},
   "outputs": [
    {
     "name": "stdout",
     "output_type": "stream",
     "text": [
      "2\n",
      "Harsh 25 26.5 28\n",
      "Anurag 26 28 30\n",
      "Anurag\n",
      "28.00\n"
     ]
    }
   ],
   "source": [
    "    n = int(input())\n",
    "    student_marks = {}\n",
    "    average = 0.0\n",
    "    for _ in range(n):\n",
    "        name, *line = input().split()\n",
    "        scores = list(map(float, line))\n",
    "        average = (scores[0] + scores[1] + scores[2])/3\n",
    "        student_marks[name] = average\n",
    "    query_name = input()\n",
    "    print(\"%.2f\" % student_marks[query_name])"
   ]
  },
  {
   "cell_type": "code",
   "execution_count": 11,
   "metadata": {},
   "outputs": [
    {
     "name": "stdout",
     "output_type": "stream",
     "text": [
      "[17, 20, 26, 31, 44, 54, 55, 77, 93]\n"
     ]
    }
   ],
   "source": [
    "def quickSort(alist):\n",
    "   quickSortHelper(alist,0,len(alist)-1)\n",
    "\n",
    "def quickSortHelper(alist,first,last):\n",
    "   if first<last:\n",
    "\n",
    "       splitpoint = partition(alist,first,last)\n",
    "\n",
    "       quickSortHelper(alist,first,splitpoint-1)\n",
    "       quickSortHelper(alist,splitpoint+1,last)\n",
    "\n",
    "\n",
    "def partition(alist,first,last):\n",
    "   pivotvalue = alist[first]\n",
    "\n",
    "   leftmark = first+1\n",
    "   rightmark = last\n",
    "\n",
    "   done = False\n",
    "   while not done:\n",
    "\n",
    "       while leftmark <= rightmark and alist[leftmark] <= pivotvalue:\n",
    "           leftmark = leftmark + 1\n",
    "\n",
    "       while alist[rightmark] >= pivotvalue and rightmark >= leftmark:\n",
    "           rightmark = rightmark -1\n",
    "\n",
    "       if rightmark < leftmark:\n",
    "           done = True\n",
    "       else:\n",
    "           temp = alist[leftmark]\n",
    "           alist[leftmark] = alist[rightmark]\n",
    "           alist[rightmark] = temp\n",
    "\n",
    "   temp = alist[first]\n",
    "   alist[first] = alist[rightmark]\n",
    "   alist[rightmark] = temp\n",
    "\n",
    "\n",
    "   return rightmark\n",
    "\n",
    "alist = [54,26,93,17,77,31,44,55,20]\n",
    "quickSort(alist)\n",
    "print(alist)"
   ]
  },
  {
   "cell_type": "code",
   "execution_count": 60,
   "metadata": {},
   "outputs": [
    {
     "name": "stdout",
     "output_type": "stream",
     "text": [
      "---------------.|.---------------\n",
      "------------.|..|..|.------------\n",
      "---------.|..|..|..|..|.---------\n",
      "------.|..|..|..|..|..|..|.------\n",
      "---.|..|..|..|..|..|..|..|..|.---\n",
      "-------------WELCOME-------------\n",
      "---.|..|..|..|..|..|..|..|..|.---\n",
      "------.|..|..|..|..|..|..|.------\n",
      "---------.|..|..|..|..|.---------\n",
      "------------.|..|..|.------------\n",
      "---------------.|.---------------\n"
     ]
    }
   ],
   "source": [
    "from itertools import repeat\n",
    "\n",
    "conjunto = [11,33]\n",
    "#conjunto = list(map(int, input().split()))\n",
    "a = 1\n",
    "\n",
    "for i in range (0,conjunto[0]+2):\n",
    "    if i < (conjunto[0] -1)/2:\n",
    "        print('-'*int((conjunto[1]-3*a)/2), end = '')\n",
    "        print('.|.'*a, end = '')\n",
    "        print('-'*int((conjunto[1]-3*a)/2), end = '')\n",
    "        print()\n",
    "        a = a + 2\n",
    "    \n",
    "    if i == (conjunto[0] -1)/2:\n",
    "        print('-'*(int((conjunto[1]-1)/2)-3), end = '')\n",
    "        print('WELCOME', end = '')\n",
    "        print('-'*(int((conjunto[1]-1)/2)-3), end = '')\n",
    "        a = a - 2\n",
    "        print('')\n",
    "    \n",
    "    if i > ((conjunto[0] -1)/2)+2:\n",
    "        print('-'*int((conjunto[1]-3*a)/2), end = '')\n",
    "        print('.|.'*a, end = '')\n",
    "        print('-'*int((conjunto[1]-3*a)/2), end = '')\n",
    "        print()\n",
    "        a = a - 2\n"
   ]
  },
  {
   "cell_type": "code",
   "execution_count": 51,
   "metadata": {},
   "outputs": [
    {
     "name": "stdout",
     "output_type": "stream",
     "text": [
      "\n",
      "8.2\n",
      "True\n",
      "\n",
      "5.4\n",
      "True\n",
      "\n",
      "3.3f\n",
      "False\n",
      "\n",
      "4.0O0\n",
      "False\n",
      "\n",
      "2.3.4\n",
      "False\n"
     ]
    }
   ],
   "source": [
    "import re\n",
    "\n",
    "#tamano = int(input())\n",
    "#conjunto = list(map(str, input().split()))\n",
    "conjunto = ['8.2','5.4','3.3f','4.0O0','2.3.4']\n",
    "#conjunto = []\n",
    "#for i in range(0,tamano):\n",
    "#    conjunto.append(input())\n",
    "\n",
    "for i in range(0,len(conjunto)):\n",
    "    print()\n",
    "    print(conjunto[i])\n",
    "    print (bool(re.match(r'(-|\\+){0,1}[0-9]*(\\.)[0-9]{1,10}$',conjunto[i])))"
   ]
  },
  {
   "cell_type": "code",
   "execution_count": 99,
   "metadata": {},
   "outputs": [
    {
     "data": {
      "text/plain": [
       "['100', '000', '000', '000']"
      ]
     },
     "execution_count": 99,
     "metadata": {},
     "output_type": "execute_result"
    }
   ],
   "source": [
    "import re\n",
    "re.split(',|\\.','100,000,000.000')"
   ]
  },
  {
   "cell_type": "code",
   "execution_count": 4,
   "metadata": {},
   "outputs": [
    {
     "name": "stdout",
     "output_type": "stream",
     "text": [
      "1123.456.abc.def\n",
      "true\n"
     ]
    }
   ],
   "source": [
    "regex_pattern = r\"[a-z0-9{3}]{3}(\\.){0,1}\"\t# Do not delete 'r'.\n",
    "\n",
    "import re\n",
    "import sys\n",
    "\n",
    "test_string = input()\n",
    "\n",
    "match = re.match(regex_pattern, test_string) is not None\n",
    "\n",
    "print(str(match).lower())"
   ]
  },
  {
   "cell_type": "code",
   "execution_count": 2,
   "metadata": {},
   "outputs": [
    {
     "name": "stdout",
     "output_type": "stream",
     "text": [
      "9\n",
      "29\n",
      "7\n",
      "27\n",
      "4710194409608608369201743232\n"
     ]
    }
   ],
   "source": [
    "a = int(input())\n",
    "b = int(input())\n",
    "c = int(input())\n",
    "d = int(input())\n",
    "\n",
    "print((a**b)+(c**d))"
   ]
  },
  {
   "cell_type": "code",
   "execution_count": 11,
   "metadata": {},
   "outputs": [
    {
     "name": "stdout",
     "output_type": "stream",
     "text": [
      "6\n",
      "1\n",
      "22\n",
      "333\n",
      "4444\n",
      "55555\n"
     ]
    }
   ],
   "source": [
    "for i in range(1,int(input())):\n",
    "    print(str(i) * i)"
   ]
  },
  {
   "cell_type": "code",
   "execution_count": 13,
   "metadata": {},
   "outputs": [
    {
     "name": "stdout",
     "output_type": "stream",
     "text": [
      "6\n",
      "1\n",
      "22\n",
      "333\n",
      "4444\n",
      "55555\n"
     ]
    }
   ],
   "source": [
    "for i in range(1,int(input())):\n",
    "    print((10**(i)//9)*i)"
   ]
  },
  {
   "cell_type": "markdown",
   "metadata": {},
   "source": [
    "### Uso de fechas"
   ]
  },
  {
   "cell_type": "code",
   "execution_count": 41,
   "metadata": {},
   "outputs": [
    {
     "data": {
      "text/plain": [
       "88200"
      ]
     },
     "execution_count": 41,
     "metadata": {},
     "output_type": "execute_result"
    }
   ],
   "source": [
    "from datetime import datetime\n",
    "\n",
    "t1 = 'Sat 02 May 2015 19:54:36 +0530'\n",
    "t2 = 'Fri 01 May 2015 13:54:36 -0000'\n",
    "        \n",
    "t1 = datetime.strptime(t1, '%a %d %b %Y %H:%M:%S %z')\n",
    "t2 = datetime.strptime(t2, '%a %d %b %Y %H:%M:%S %z')\n",
    "t3 = t1-t2\n",
    "date_difference = date.today() - t1\n",
    "t3 = abs(int((t2-t1).total_seconds()))\n",
    "t3"
   ]
  }
 ],
 "metadata": {
  "kernelspec": {
   "display_name": "Python 3",
   "language": "python",
   "name": "python3"
  },
  "language_info": {
   "codemirror_mode": {
    "name": "ipython",
    "version": 3
   },
   "file_extension": ".py",
   "mimetype": "text/x-python",
   "name": "python",
   "nbconvert_exporter": "python",
   "pygments_lexer": "ipython3",
   "version": "3.6.5"
  }
 },
 "nbformat": 4,
 "nbformat_minor": 2
}
