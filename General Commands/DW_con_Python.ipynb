{
 "cells": [
  {
   "cell_type": "markdown",
   "metadata": {
    "colab_type": "text",
    "id": "I3SyydbWRTKQ"
   },
   "source": [
    "# Data Wrangling con Python"
   ]
  },
  {
   "cell_type": "code",
   "execution_count": 0,
   "metadata": {
    "colab": {
     "autoexec": {
      "startup": false,
      "wait_interval": 0
     }
    },
    "colab_type": "code",
    "id": "1od2IzzZRTKS"
   },
   "outputs": [],
   "source": [
    "%load_ext autoreload\n",
    "%autoreload 2"
   ]
  },
  {
   "cell_type": "code",
   "execution_count": 0,
   "metadata": {
    "colab": {
     "autoexec": {
      "startup": false,
      "wait_interval": 0
     }
    },
    "colab_type": "code",
    "id": "32lpjx0xRTKW"
   },
   "outputs": [],
   "source": [
    "file_path = \"/data/titanic.csv\""
   ]
  },
  {
   "cell_type": "code",
   "execution_count": 0,
   "metadata": {
    "colab": {
     "autoexec": {
      "startup": false,
      "wait_interval": 0
     }
    },
    "colab_type": "code",
    "id": "IicWVzl3RTKb",
    "outputId": "6f937835-8d30-45c6-dc5b-5015259904d1"
   },
   "outputs": [
    {
     "name": "stdout",
     "output_type": "stream",
     "text": [
      "Overwriting tools.py\n"
     ]
    }
   ],
   "source": [
    "%%writefile tools.py\n",
    "sb_data = \"/data/sandboxes/form/data\"\n",
    "def sb_data_to_pandas_df(file_path, spark):\n",
    "    return spark.read.csv(sb_data+file_path, header = True).toPandas()"
   ]
  },
  {
   "cell_type": "code",
   "execution_count": 0,
   "metadata": {
    "colab": {
     "autoexec": {
      "startup": false,
      "wait_interval": 0
     }
    },
    "colab_type": "code",
    "id": "3YvTL5VxRTKj"
   },
   "outputs": [],
   "source": [
    "import tools"
   ]
  },
  {
   "cell_type": "code",
   "execution_count": 0,
   "metadata": {
    "colab": {
     "autoexec": {
      "startup": false,
      "wait_interval": 0
     }
    },
    "colab_type": "code",
    "id": "TEJCn3BPRTKn",
    "outputId": "d38477f9-0ec4-4f95-cfa9-90d700459498"
   },
   "outputs": [
    {
     "data": {
      "text/plain": [
       "'/data/sandboxes/form/data'"
      ]
     },
     "execution_count": 5,
     "metadata": {
      "tags": []
     },
     "output_type": "execute_result"
    }
   ],
   "source": [
    "tools.sb_data"
   ]
  },
  {
   "cell_type": "code",
   "execution_count": 0,
   "metadata": {
    "colab": {
     "autoexec": {
      "startup": false,
      "wait_interval": 0
     }
    },
    "colab_type": "code",
    "id": "qCqFfB-rRTKs"
   },
   "outputs": [],
   "source": [
    "df = tools.sb_data_to_pandas_df(file_path=file_path, spark =spark)"
   ]
  },
  {
   "cell_type": "code",
   "execution_count": 0,
   "metadata": {
    "colab": {
     "autoexec": {
      "startup": false,
      "wait_interval": 0
     }
    },
    "colab_type": "code",
    "id": "tEC14y-SRTKx"
   },
   "outputs": [],
   "source": [
    "columnas = df.columns.values.tolist()"
   ]
  },
  {
   "cell_type": "markdown",
   "metadata": {
    "colab_type": "text",
    "id": "CD4x5mEXRTK0"
   },
   "source": [
    "## Numpy"
   ]
  },
  {
   "cell_type": "code",
   "execution_count": 0,
   "metadata": {
    "colab": {
     "autoexec": {
      "startup": false,
      "wait_interval": 0
     }
    },
    "colab_type": "code",
    "id": "uAdpmbpqRTK1"
   },
   "outputs": [],
   "source": [
    "import numpy as np"
   ]
  },
  {
   "cell_type": "code",
   "execution_count": 0,
   "metadata": {
    "colab": {
     "autoexec": {
      "startup": false,
      "wait_interval": 0
     }
    },
    "colab_type": "code",
    "id": "hK6dgitYRTK5"
   },
   "outputs": [],
   "source": [
    "a = np.array([0,1,2,3,4,5,6,7,8,9])"
   ]
  },
  {
   "cell_type": "code",
   "execution_count": 0,
   "metadata": {
    "colab": {
     "autoexec": {
      "startup": false,
      "wait_interval": 0
     }
    },
    "colab_type": "code",
    "id": "wcs0KWr9RTK8"
   },
   "outputs": [],
   "source": [
    "b = np.arange(10)"
   ]
  },
  {
   "cell_type": "code",
   "execution_count": 0,
   "metadata": {
    "colab": {
     "autoexec": {
      "startup": false,
      "wait_interval": 0
     }
    },
    "colab_type": "code",
    "id": "Mjnd3r9yRTK_",
    "outputId": "b44fb98b-dc26-4f8d-fb55-afe26b809380"
   },
   "outputs": [
    {
     "data": {
      "text/plain": [
       "array([ 0,  2,  4,  6,  8, 10, 12, 14, 16, 18])"
      ]
     },
     "execution_count": 174,
     "metadata": {
      "tags": []
     },
     "output_type": "execute_result"
    }
   ],
   "source": [
    "a + b "
   ]
  },
  {
   "cell_type": "code",
   "execution_count": 0,
   "metadata": {
    "colab": {
     "autoexec": {
      "startup": false,
      "wait_interval": 0
     }
    },
    "colab_type": "code",
    "id": "TBnHymKYRTLE",
    "outputId": "d7d9ec78-5b9f-435e-e02b-2bc7400a4158"
   },
   "outputs": [
    {
     "data": {
      "text/plain": [
       "array([-10.        ,  -8.94736842,  -7.89473684,  -6.84210526,\n",
       "        -5.78947368,  -4.73684211,  -3.68421053,  -2.63157895,\n",
       "        -1.57894737,  -0.52631579,   0.52631579,   1.57894737,\n",
       "         2.63157895,   3.68421053,   4.73684211,   5.78947368,\n",
       "         6.84210526,   7.89473684,   8.94736842,  10.        ])"
      ]
     },
     "execution_count": 175,
     "metadata": {
      "tags": []
     },
     "output_type": "execute_result"
    }
   ],
   "source": [
    "np.linspace(-10,10,20)"
   ]
  },
  {
   "cell_type": "markdown",
   "metadata": {
    "colab_type": "text",
    "id": "0XhhEUWQRTLK"
   },
   "source": [
    "## Index and columns"
   ]
  },
  {
   "cell_type": "code",
   "execution_count": 0,
   "metadata": {
    "colab": {
     "autoexec": {
      "startup": false,
      "wait_interval": 0
     }
    },
    "colab_type": "code",
    "id": "ByErIom-RTLK",
    "outputId": "0fc5efb5-16ea-4983-df83-2fb6abdabd59"
   },
   "outputs": [
    {
     "data": {
      "text/plain": [
       "Index(['PassengerId', 'Survived', 'Pclass', 'Name', 'Sex', 'Age', 'SibSp',\n",
       "       'Parch', 'Ticket', 'Fare', 'Cabin', 'Embarked'],\n",
       "      dtype='object')"
      ]
     },
     "execution_count": 176,
     "metadata": {
      "tags": []
     },
     "output_type": "execute_result"
    }
   ],
   "source": [
    "df.columns"
   ]
  },
  {
   "cell_type": "code",
   "execution_count": 0,
   "metadata": {
    "colab": {
     "autoexec": {
      "startup": false,
      "wait_interval": 0
     }
    },
    "colab_type": "code",
    "id": "-7276EoqRTLP",
    "outputId": "551c03c6-db07-403f-808a-2ec95e345e12"
   },
   "outputs": [
    {
     "data": {
      "text/plain": [
       "RangeIndex(start=0, stop=891, step=1)"
      ]
     },
     "execution_count": 177,
     "metadata": {
      "tags": []
     },
     "output_type": "execute_result"
    }
   ],
   "source": [
    "df.index"
   ]
  },
  {
   "cell_type": "markdown",
   "metadata": {
    "colab_type": "text",
    "id": "F8NU9qbHRTLU"
   },
   "source": [
    "### Set index"
   ]
  },
  {
   "cell_type": "code",
   "execution_count": 0,
   "metadata": {
    "colab": {
     "autoexec": {
      "startup": false,
      "wait_interval": 0
     }
    },
    "colab_type": "code",
    "id": "yQhZaYp4RTLU"
   },
   "outputs": [],
   "source": [
    "df = df.set_index(\"PassengerId\")"
   ]
  },
  {
   "cell_type": "code",
   "execution_count": 0,
   "metadata": {
    "colab": {
     "autoexec": {
      "startup": false,
      "wait_interval": 0
     }
    },
    "colab_type": "code",
    "id": "ln0PsGDbRTLX",
    "outputId": "1715bd1a-5ec3-43fd-8289-4216ae40f096"
   },
   "outputs": [
    {
     "data": {
      "text/plain": [
       "'Braund, Mr. Owen Harris'"
      ]
     },
     "execution_count": 179,
     "metadata": {
      "tags": []
     },
     "output_type": "execute_result"
    }
   ],
   "source": [
    "df.loc[\"1\"][\"Name\"]"
   ]
  },
  {
   "cell_type": "code",
   "execution_count": 0,
   "metadata": {
    "colab": {
     "autoexec": {
      "startup": false,
      "wait_interval": 0
     }
    },
    "colab_type": "code",
    "id": "LuJv0NHARTLc",
    "outputId": "6e1883d5-0354-40e3-8164-c5f01c7b6334"
   },
   "outputs": [
    {
     "data": {
      "text/html": [
       "<div>\n",
       "<style scoped>\n",
       "    .dataframe tbody tr th:only-of-type {\n",
       "        vertical-align: middle;\n",
       "    }\n",
       "\n",
       "    .dataframe tbody tr th {\n",
       "        vertical-align: top;\n",
       "    }\n",
       "\n",
       "    .dataframe thead th {\n",
       "        text-align: right;\n",
       "    }\n",
       "</style>\n",
       "<table border=\"1\" class=\"dataframe\">\n",
       "  <thead>\n",
       "    <tr style=\"text-align: right;\">\n",
       "      <th></th>\n",
       "      <th>Survived</th>\n",
       "    </tr>\n",
       "    <tr>\n",
       "      <th>PassengerId</th>\n",
       "      <th></th>\n",
       "    </tr>\n",
       "  </thead>\n",
       "  <tbody>\n",
       "    <tr>\n",
       "      <th>3</th>\n",
       "      <td>1</td>\n",
       "    </tr>\n",
       "    <tr>\n",
       "      <th>4</th>\n",
       "      <td>1</td>\n",
       "    </tr>\n",
       "    <tr>\n",
       "      <th>5</th>\n",
       "      <td>0</td>\n",
       "    </tr>\n",
       "  </tbody>\n",
       "</table>\n",
       "</div>"
      ],
      "text/plain": [
       "            Survived\n",
       "PassengerId         \n",
       "3                  1\n",
       "4                  1\n",
       "5                  0"
      ]
     },
     "execution_count": 180,
     "metadata": {
      "tags": []
     },
     "output_type": "execute_result"
    }
   ],
   "source": [
    "df.iloc[2:5,[0]]"
   ]
  },
  {
   "cell_type": "code",
   "execution_count": 0,
   "metadata": {
    "colab": {
     "autoexec": {
      "startup": false,
      "wait_interval": 0
     }
    },
    "colab_type": "code",
    "id": "R7swU4P1RTLg"
   },
   "outputs": [],
   "source": [
    "min_ = 5\n",
    "max_ = 10\n",
    "df.loc[\"6\",[\"Sex\"]] = \"female\""
   ]
  },
  {
   "cell_type": "code",
   "execution_count": 0,
   "metadata": {
    "colab": {
     "autoexec": {
      "startup": false,
      "wait_interval": 0
     }
    },
    "colab_type": "code",
    "id": "BTT620P7RTLj",
    "outputId": "6bb77d66-2df0-46cd-cd03-dc31a0ed6b45"
   },
   "outputs": [
    {
     "data": {
      "text/html": [
       "<div>\n",
       "<style scoped>\n",
       "    .dataframe tbody tr th:only-of-type {\n",
       "        vertical-align: middle;\n",
       "    }\n",
       "\n",
       "    .dataframe tbody tr th {\n",
       "        vertical-align: top;\n",
       "    }\n",
       "\n",
       "    .dataframe thead th {\n",
       "        text-align: right;\n",
       "    }\n",
       "</style>\n",
       "<table border=\"1\" class=\"dataframe\">\n",
       "  <thead>\n",
       "    <tr style=\"text-align: right;\">\n",
       "      <th></th>\n",
       "      <th>Name</th>\n",
       "      <th>Sex</th>\n",
       "    </tr>\n",
       "    <tr>\n",
       "      <th>PassengerId</th>\n",
       "      <th></th>\n",
       "      <th></th>\n",
       "    </tr>\n",
       "  </thead>\n",
       "  <tbody>\n",
       "    <tr>\n",
       "      <th>5</th>\n",
       "      <td>Allen, Mr. William Henry</td>\n",
       "      <td>male</td>\n",
       "    </tr>\n",
       "    <tr>\n",
       "      <th>6</th>\n",
       "      <td>Moran, Mr. James</td>\n",
       "      <td>female</td>\n",
       "    </tr>\n",
       "    <tr>\n",
       "      <th>7</th>\n",
       "      <td>McCarthy, Mr. Timothy J</td>\n",
       "      <td>male</td>\n",
       "    </tr>\n",
       "    <tr>\n",
       "      <th>8</th>\n",
       "      <td>Palsson, Master. Gosta Leonard</td>\n",
       "      <td>male</td>\n",
       "    </tr>\n",
       "    <tr>\n",
       "      <th>9</th>\n",
       "      <td>Johnson, Mrs. Oscar W (Elisabeth Vilhelmina Berg)</td>\n",
       "      <td>female</td>\n",
       "    </tr>\n",
       "  </tbody>\n",
       "</table>\n",
       "</div>"
      ],
      "text/plain": [
       "                                                          Name     Sex\n",
       "PassengerId                                                           \n",
       "5                                     Allen, Mr. William Henry    male\n",
       "6                                             Moran, Mr. James  female\n",
       "7                                      McCarthy, Mr. Timothy J    male\n",
       "8                               Palsson, Master. Gosta Leonard    male\n",
       "9            Johnson, Mrs. Oscar W (Elisabeth Vilhelmina Berg)  female"
      ]
     },
     "execution_count": 182,
     "metadata": {
      "tags": []
     },
     "output_type": "execute_result"
    }
   ],
   "source": [
    "df.loc[[str(x) for x in range(min_,max_)],[\"Name\",\"Sex\"]]"
   ]
  },
  {
   "cell_type": "code",
   "execution_count": 0,
   "metadata": {
    "colab": {
     "autoexec": {
      "startup": false,
      "wait_interval": 0
     }
    },
    "colab_type": "code",
    "id": "6Lkily0xRTLo",
    "outputId": "a11a4efd-ced4-486a-9fc7-6895b959090e"
   },
   "outputs": [
    {
     "data": {
      "text/plain": [
       "Sex    female\n",
       "Name: 6, dtype: object"
      ]
     },
     "execution_count": 183,
     "metadata": {
      "tags": []
     },
     "output_type": "execute_result"
    }
   ],
   "source": [
    "df.loc[\"6\",[\"Sex\"]]"
   ]
  },
  {
   "cell_type": "code",
   "execution_count": 0,
   "metadata": {
    "colab": {
     "autoexec": {
      "startup": false,
      "wait_interval": 0
     }
    },
    "colab_type": "code",
    "id": "FoHGZc_XRTLs",
    "outputId": "e33f4d30-3091-4ca9-ae22-7402493666f8"
   },
   "outputs": [
    {
     "data": {
      "text/plain": [
       "RangeIndex(start=0, stop=884, step=1)"
      ]
     },
     "execution_count": 306,
     "metadata": {
      "tags": []
     },
     "output_type": "execute_result"
    }
   ],
   "source": [
    "df.reset_index().index"
   ]
  },
  {
   "cell_type": "markdown",
   "metadata": {
    "colab_type": "text",
    "id": "MK6dRWXGRTLw"
   },
   "source": [
    "## Formateo"
   ]
  },
  {
   "cell_type": "code",
   "execution_count": 0,
   "metadata": {
    "colab": {
     "autoexec": {
      "startup": false,
      "wait_interval": 0
     }
    },
    "colab_type": "code",
    "id": "SCHwpIJgRTLx"
   },
   "outputs": [],
   "source": [
    "import pandas as pd"
   ]
  },
  {
   "cell_type": "code",
   "execution_count": 0,
   "metadata": {
    "colab": {
     "autoexec": {
      "startup": false,
      "wait_interval": 0
     }
    },
    "colab_type": "code",
    "id": "n0dfE_GrRTL0"
   },
   "outputs": [],
   "source": [
    "#df[\"Survived\"] = pd.to_numeric(df[\"Survived\"])\n",
    "#df[\"Age\"] = pd.to_numeric(df[\"Age\"])\n",
    "#df[\"Fare\"] = pd.to_numeric(df[\"Fare\"])\n",
    "#df[\"SibSp\"] = pd.to_numeric(df[\"SibSp\"])"
   ]
  },
  {
   "cell_type": "code",
   "execution_count": 0,
   "metadata": {
    "colab": {
     "autoexec": {
      "startup": false,
      "wait_interval": 0
     }
    },
    "colab_type": "code",
    "id": "BnE5dIWrRTL3"
   },
   "outputs": [],
   "source": [
    "olumnas = df.dtypes.index.values.tolist()"
   ]
  },
  {
   "cell_type": "code",
   "execution_count": 0,
   "metadata": {
    "colab": {
     "autoexec": {
      "startup": false,
      "wait_interval": 0
     }
    },
    "colab_type": "code",
    "id": "FvZ3b3ufRTL7",
    "outputId": "04d5d869-29bf-4969-cfd4-d711592ad409"
   },
   "outputs": [
    {
     "name": "stdout",
     "output_type": "stream",
     "text": [
      "Appending to tools.py\n"
     ]
    }
   ],
   "source": [
    "%%writefile -a tools.py\n",
    "\n",
    "import pandas as pd\n",
    "\n",
    "def convert_columns_to_numeric(df):\n",
    "    columnas = df.dtypes.index.values.tolist()\n",
    "    for c in columnas:\n",
    "        try:\n",
    "            df[c] = pd.to_numeric(df[c])\n",
    "        except:\n",
    "            pass\n",
    "        \n"
   ]
  },
  {
   "cell_type": "code",
   "execution_count": 0,
   "metadata": {
    "colab": {
     "autoexec": {
      "startup": false,
      "wait_interval": 0
     }
    },
    "colab_type": "code",
    "id": "ICLvF6wMRTMA",
    "outputId": "d123a028-70a3-4d48-b8bb-e675ae97b984"
   },
   "outputs": [
    {
     "data": {
      "text/plain": [
       "Survived      int64\n",
       "Pclass        int64\n",
       "Name         object\n",
       "Sex          object\n",
       "Age         float64\n",
       "SibSp         int64\n",
       "Parch         int64\n",
       "Ticket       object\n",
       "Fare        float64\n",
       "Cabin        object\n",
       "Embarked     object\n",
       "dtype: object"
      ]
     },
     "execution_count": 188,
     "metadata": {
      "tags": []
     },
     "output_type": "execute_result"
    }
   ],
   "source": [
    "tools.convert_columns_to_numeric(df)\n",
    "df.dtypes"
   ]
  },
  {
   "cell_type": "code",
   "execution_count": 0,
   "metadata": {
    "colab": {
     "autoexec": {
      "startup": false,
      "wait_interval": 0
     }
    },
    "colab_type": "code",
    "id": "xzDf1e79RTMI",
    "outputId": "80509df4-e1fa-4d87-894a-38f616c78a62"
   },
   "outputs": [
    {
     "data": {
      "text/plain": [
       "<matplotlib.axes._subplots.AxesSubplot at 0x7ffa80c76710>"
      ]
     },
     "execution_count": 189,
     "metadata": {
      "tags": []
     },
     "output_type": "execute_result"
    },
    {
     "data": {
      "image/png": "[encoded data removed]",
      "text/plain": [
       "<matplotlib.figure.Figure at 0x7ffa856aa908>"
      ]
     },
     "metadata": {
      "tags": []
     },
     "output_type": "display_data"
    }
   ],
   "source": [
    "%matplotlib inline\n",
    "df[\"Age\"].hist(bins = 50)"
   ]
  },
  {
   "cell_type": "code",
   "execution_count": 0,
   "metadata": {
    "colab": {
     "autoexec": {
      "startup": false,
      "wait_interval": 0
     }
    },
    "colab_type": "code",
    "id": "otkIcbHKRTMN",
    "outputId": "5742caf0-12ea-4c65-c525-e71afc35c37b"
   },
   "outputs": [
    {
     "data": {
      "text/plain": [
       "(22, 11)"
      ]
     },
     "execution_count": 190,
     "metadata": {
      "tags": []
     },
     "output_type": "execute_result"
    }
   ],
   "source": [
    "df[df[\"Age\"] > 60].shape"
   ]
  },
  {
   "cell_type": "code",
   "execution_count": 0,
   "metadata": {
    "colab": {
     "autoexec": {
      "startup": false,
      "wait_interval": 0
     }
    },
    "colab_type": "code",
    "id": "TVzrW3iURTMS",
    "outputId": "04c7a07e-5260-43d7-ca5d-f862fbd795a8"
   },
   "outputs": [
    {
     "data": {
      "text/plain": [
       "S    644\n",
       "C    168\n",
       "Q     77\n",
       "Name: Embarked, dtype: int64"
      ]
     },
     "execution_count": 191,
     "metadata": {
      "tags": []
     },
     "output_type": "execute_result"
    }
   ],
   "source": [
    "df[\"Embarked\"].value_counts()"
   ]
  },
  {
   "cell_type": "code",
   "execution_count": 0,
   "metadata": {
    "colab": {
     "autoexec": {
      "startup": false,
      "wait_interval": 0
     }
    },
    "colab_type": "code",
    "id": "I1Er7s6ERTMX",
    "outputId": "f68ad014-c5ef-4681-986a-c8d69145d78b"
   },
   "outputs": [
    {
     "data": {
      "text/plain": [
       "a    224\n",
       "o    141\n",
       "e    115\n",
       "i     92\n",
       "u     45\n",
       "l     40\n",
       "r     38\n",
       "h     32\n",
       "t     17\n",
       "n     16\n",
       "c     13\n",
       "y     10\n",
       "s     10\n",
       "k      9\n",
       "m      8\n",
       "M      8\n",
       "'      6\n",
       "b      6\n",
       "C      5\n",
       "d      5\n",
       "B      4\n",
       "v      4\n",
       "H      4\n",
       "F      4\n",
       "N      3\n",
       "p      3\n",
       "j      3\n",
       "O      3\n",
       "P      3\n",
       "K      3\n",
       "W      2\n",
       "D      2\n",
       "G      2\n",
       "A      2\n",
       "R      2\n",
       "L      2\n",
       "T      1\n",
       "Y      1\n",
       "S      1\n",
       "w      1\n",
       "J      1\n",
       "Name: Name, dtype: int64"
      ]
     },
     "execution_count": 192,
     "metadata": {
      "tags": []
     },
     "output_type": "execute_result"
    }
   ],
   "source": [
    "df[\"Name\"].apply(lambda name: name[1]).value_counts()"
   ]
  },
  {
   "cell_type": "code",
   "execution_count": 0,
   "metadata": {
    "colab": {
     "autoexec": {
      "startup": false,
      "wait_interval": 0
     }
    },
    "colab_type": "code",
    "id": "cldqrYg7RTMb"
   },
   "outputs": [],
   "source": [
    "df[\"Embarked\"] = df[\"Embarked\"].astype(\"category\")"
   ]
  },
  {
   "cell_type": "code",
   "execution_count": 0,
   "metadata": {
    "colab": {
     "autoexec": {
      "startup": false,
      "wait_interval": 0
     }
    },
    "colab_type": "code",
    "id": "EA-4RdHpRTMh",
    "outputId": "394106a4-998f-442a-866f-f8b9e5fef9fa"
   },
   "outputs": [
    {
     "data": {
      "text/plain": [
       "CategoricalDtype(categories=['C', 'Q', 'S'], ordered=False)"
      ]
     },
     "execution_count": 194,
     "metadata": {
      "tags": []
     },
     "output_type": "execute_result"
    }
   ],
   "source": [
    "df[\"Embarked\"].dtype"
   ]
  },
  {
   "cell_type": "code",
   "execution_count": 0,
   "metadata": {
    "colab": {
     "autoexec": {
      "startup": false,
      "wait_interval": 0
     }
    },
    "colab_type": "code",
    "id": "5WgHXe-lRTMk",
    "outputId": "fe9358d6-499c-4942-e850-05c2f961b0e9"
   },
   "outputs": [
    {
     "data": {
      "text/plain": [
       "Index(['C', 'Q', 'S'], dtype='object')"
      ]
     },
     "execution_count": 195,
     "metadata": {
      "tags": []
     },
     "output_type": "execute_result"
    }
   ],
   "source": [
    "df.Embarked.cat.categories"
   ]
  },
  {
   "cell_type": "markdown",
   "metadata": {
    "colab_type": "text",
    "id": "oM0vkcYnRTMq"
   },
   "source": [
    "### fechas"
   ]
  },
  {
   "cell_type": "code",
   "execution_count": 0,
   "metadata": {
    "colab": {
     "autoexec": {
      "startup": false,
      "wait_interval": 0
     }
    },
    "colab_type": "code",
    "collapsed": true,
    "id": "b9dlHYP3RTMr"
   },
   "outputs": [],
   "source": [
    "from datetime import datetime"
   ]
  },
  {
   "cell_type": "code",
   "execution_count": 0,
   "metadata": {
    "colab": {
     "autoexec": {
      "startup": false,
      "wait_interval": 0
     }
    },
    "colab_type": "code",
    "id": "ieo6RB9URTMu"
   },
   "outputs": [],
   "source": [
    "d1 = datetime.strptime(\"10-10-10\",\"%y-%m-%d\")"
   ]
  },
  {
   "cell_type": "code",
   "execution_count": 0,
   "metadata": {
    "colab": {
     "autoexec": {
      "startup": false,
      "wait_interval": 0
     }
    },
    "colab_type": "code",
    "id": "bl9hosXwRTMx"
   },
   "outputs": [],
   "source": [
    "d2 = datetime.strptime(\"101010\",\"%y%m%d\")"
   ]
  },
  {
   "cell_type": "code",
   "execution_count": 0,
   "metadata": {
    "colab": {
     "autoexec": {
      "startup": false,
      "wait_interval": 0
     }
    },
    "colab_type": "code",
    "id": "vnoovTUDRTMz"
   },
   "outputs": [],
   "source": [
    "d3 = datetime.strptime(\"2010-10-10\",\"%Y-%m-%d\")"
   ]
  },
  {
   "cell_type": "code",
   "execution_count": 0,
   "metadata": {
    "colab": {
     "autoexec": {
      "startup": false,
      "wait_interval": 0
     }
    },
    "colab_type": "code",
    "id": "ABDOQM2IRTM1",
    "outputId": "d8f4f15b-079d-4a43-9d9a-513ab0cfe15b"
   },
   "outputs": [
    {
     "data": {
      "text/plain": [
       "int"
      ]
     },
     "execution_count": 200,
     "metadata": {
      "tags": []
     },
     "output_type": "execute_result"
    }
   ],
   "source": [
    "type(d1.year)"
   ]
  },
  {
   "cell_type": "code",
   "execution_count": 0,
   "metadata": {
    "colab": {
     "autoexec": {
      "startup": false,
      "wait_interval": 0
     }
    },
    "colab_type": "code",
    "id": "ZSj4qgzzRTM9",
    "outputId": "ab38df6e-6eeb-4d60-d639-0e6c01c9b786"
   },
   "outputs": [
    {
     "data": {
      "text/plain": [
       "'2010-10-10'"
      ]
     },
     "execution_count": 201,
     "metadata": {
      "tags": []
     },
     "output_type": "execute_result"
    }
   ],
   "source": [
    "datetime.strftime(d1, \"%Y-%m-%d\")"
   ]
  },
  {
   "cell_type": "markdown",
   "metadata": {
    "colab_type": "text",
    "id": "GOE6fOMqRTNC"
   },
   "source": [
    "### Date example"
   ]
  },
  {
   "cell_type": "code",
   "execution_count": 0,
   "metadata": {
    "colab": {
     "autoexec": {
      "startup": false,
      "wait_interval": 0
     }
    },
    "colab_type": "code",
    "collapsed": true,
    "id": "q6AWI_KlRTND"
   },
   "outputs": [],
   "source": [
    "data = tools.sb_data_to_pandas_df(file_path=\"/data/dow_jones_index.data\",\n",
    "                                 spark = spark)"
   ]
  },
  {
   "cell_type": "code",
   "execution_count": 0,
   "metadata": {
    "colab": {
     "autoexec": {
      "startup": false,
      "wait_interval": 0
     }
    },
    "colab_type": "code",
    "id": "Anq-PnWgRTNI",
    "outputId": "3dd8ae7d-e7ba-4a9a-d9e8-5fabc696021b"
   },
   "outputs": [
    {
     "data": {
      "text/html": [
       "<div>\n",
       "<style scoped>\n",
       "    .dataframe tbody tr th:only-of-type {\n",
       "        vertical-align: middle;\n",
       "    }\n",
       "\n",
       "    .dataframe tbody tr th {\n",
       "        vertical-align: top;\n",
       "    }\n",
       "\n",
       "    .dataframe thead th {\n",
       "        text-align: right;\n",
       "    }\n",
       "</style>\n",
       "<table border=\"1\" class=\"dataframe\">\n",
       "  <thead>\n",
       "    <tr style=\"text-align: right;\">\n",
       "      <th></th>\n",
       "      <th>quarter</th>\n",
       "      <th>stock</th>\n",
       "      <th>date</th>\n",
       "      <th>open</th>\n",
       "      <th>high</th>\n",
       "      <th>low</th>\n",
       "      <th>close</th>\n",
       "      <th>volume</th>\n",
       "      <th>percent_change_price</th>\n",
       "      <th>percent_change_volume_over_last_wk</th>\n",
       "      <th>previous_weeks_volume</th>\n",
       "      <th>next_weeks_open</th>\n",
       "      <th>next_weeks_close</th>\n",
       "      <th>percent_change_next_weeks_price</th>\n",
       "      <th>days_to_next_dividend</th>\n",
       "      <th>percent_return_next_dividend</th>\n",
       "    </tr>\n",
       "  </thead>\n",
       "  <tbody>\n",
       "    <tr>\n",
       "      <th>0</th>\n",
       "      <td>1</td>\n",
       "      <td>AA</td>\n",
       "      <td>1/7/2011</td>\n",
       "      <td>$15.82</td>\n",
       "      <td>$16.72</td>\n",
       "      <td>$15.78</td>\n",
       "      <td>$16.42</td>\n",
       "      <td>239655616</td>\n",
       "      <td>3.79267</td>\n",
       "      <td>None</td>\n",
       "      <td>None</td>\n",
       "      <td>$16.71</td>\n",
       "      <td>$15.97</td>\n",
       "      <td>-4.42849</td>\n",
       "      <td>26</td>\n",
       "      <td>0.182704</td>\n",
       "    </tr>\n",
       "    <tr>\n",
       "      <th>1</th>\n",
       "      <td>1</td>\n",
       "      <td>AA</td>\n",
       "      <td>1/14/2011</td>\n",
       "      <td>$16.71</td>\n",
       "      <td>$16.71</td>\n",
       "      <td>$15.64</td>\n",
       "      <td>$15.97</td>\n",
       "      <td>242963398</td>\n",
       "      <td>-4.42849</td>\n",
       "      <td>1.380223028</td>\n",
       "      <td>239655616</td>\n",
       "      <td>$16.19</td>\n",
       "      <td>$15.79</td>\n",
       "      <td>-2.47066</td>\n",
       "      <td>19</td>\n",
       "      <td>0.187852</td>\n",
       "    </tr>\n",
       "    <tr>\n",
       "      <th>2</th>\n",
       "      <td>1</td>\n",
       "      <td>AA</td>\n",
       "      <td>1/21/2011</td>\n",
       "      <td>$16.19</td>\n",
       "      <td>$16.38</td>\n",
       "      <td>$15.60</td>\n",
       "      <td>$15.79</td>\n",
       "      <td>138428495</td>\n",
       "      <td>-2.47066</td>\n",
       "      <td>-43.02495926</td>\n",
       "      <td>242963398</td>\n",
       "      <td>$15.87</td>\n",
       "      <td>$16.13</td>\n",
       "      <td>1.63831</td>\n",
       "      <td>12</td>\n",
       "      <td>0.189994</td>\n",
       "    </tr>\n",
       "    <tr>\n",
       "      <th>3</th>\n",
       "      <td>1</td>\n",
       "      <td>AA</td>\n",
       "      <td>1/28/2011</td>\n",
       "      <td>$15.87</td>\n",
       "      <td>$16.63</td>\n",
       "      <td>$15.82</td>\n",
       "      <td>$16.13</td>\n",
       "      <td>151379173</td>\n",
       "      <td>1.63831</td>\n",
       "      <td>9.355500109</td>\n",
       "      <td>138428495</td>\n",
       "      <td>$16.18</td>\n",
       "      <td>$17.14</td>\n",
       "      <td>5.93325</td>\n",
       "      <td>5</td>\n",
       "      <td>0.185989</td>\n",
       "    </tr>\n",
       "    <tr>\n",
       "      <th>4</th>\n",
       "      <td>1</td>\n",
       "      <td>AA</td>\n",
       "      <td>2/4/2011</td>\n",
       "      <td>$16.18</td>\n",
       "      <td>$17.39</td>\n",
       "      <td>$16.18</td>\n",
       "      <td>$17.14</td>\n",
       "      <td>154387761</td>\n",
       "      <td>5.93325</td>\n",
       "      <td>1.987451735</td>\n",
       "      <td>151379173</td>\n",
       "      <td>$17.33</td>\n",
       "      <td>$17.37</td>\n",
       "      <td>0.230814</td>\n",
       "      <td>97</td>\n",
       "      <td>0.175029</td>\n",
       "    </tr>\n",
       "  </tbody>\n",
       "</table>\n",
       "</div>"
      ],
      "text/plain": [
       "  quarter stock       date    open    high     low   close     volume  \\\n",
       "0       1    AA   1/7/2011  $15.82  $16.72  $15.78  $16.42  239655616   \n",
       "1       1    AA  1/14/2011  $16.71  $16.71  $15.64  $15.97  242963398   \n",
       "2       1    AA  1/21/2011  $16.19  $16.38  $15.60  $15.79  138428495   \n",
       "3       1    AA  1/28/2011  $15.87  $16.63  $15.82  $16.13  151379173   \n",
       "4       1    AA   2/4/2011  $16.18  $17.39  $16.18  $17.14  154387761   \n",
       "\n",
       "  percent_change_price percent_change_volume_over_last_wk  \\\n",
       "0              3.79267                               None   \n",
       "1             -4.42849                        1.380223028   \n",
       "2             -2.47066                       -43.02495926   \n",
       "3              1.63831                        9.355500109   \n",
       "4              5.93325                        1.987451735   \n",
       "\n",
       "  previous_weeks_volume next_weeks_open next_weeks_close  \\\n",
       "0                  None          $16.71           $15.97   \n",
       "1             239655616          $16.19           $15.79   \n",
       "2             242963398          $15.87           $16.13   \n",
       "3             138428495          $16.18           $17.14   \n",
       "4             151379173          $17.33           $17.37   \n",
       "\n",
       "  percent_change_next_weeks_price days_to_next_dividend  \\\n",
       "0                        -4.42849                    26   \n",
       "1                        -2.47066                    19   \n",
       "2                         1.63831                    12   \n",
       "3                         5.93325                     5   \n",
       "4                        0.230814                    97   \n",
       "\n",
       "  percent_return_next_dividend  \n",
       "0                     0.182704  \n",
       "1                     0.187852  \n",
       "2                     0.189994  \n",
       "3                     0.185989  \n",
       "4                     0.175029  "
      ]
     },
     "execution_count": 203,
     "metadata": {
      "tags": []
     },
     "output_type": "execute_result"
    }
   ],
   "source": [
    "data.head()"
   ]
  },
  {
   "cell_type": "code",
   "execution_count": 0,
   "metadata": {
    "colab": {
     "autoexec": {
      "startup": false,
      "wait_interval": 0
     }
    },
    "colab_type": "code",
    "id": "25ykcNdXRTNM"
   },
   "outputs": [],
   "source": [
    "data[\"date\"] = data[\"date\"].apply(lambda d : datetime.strptime(d,\"%m/%d/%Y\"))"
   ]
  },
  {
   "cell_type": "code",
   "execution_count": 0,
   "metadata": {
    "colab": {
     "autoexec": {
      "startup": false,
      "wait_interval": 0
     }
    },
    "colab_type": "code",
    "id": "x7PyxtBARTNR",
    "outputId": "d643029a-9cff-4010-d5b5-09d498faf4dd"
   },
   "outputs": [
    {
     "data": {
      "text/plain": [
       "0       7\n",
       "1      14\n",
       "2      21\n",
       "3      28\n",
       "4       4\n",
       "5      11\n",
       "6      18\n",
       "7      25\n",
       "8       4\n",
       "9      11\n",
       "10     18\n",
       "11     25\n",
       "12      7\n",
       "13     14\n",
       "14     21\n",
       "15     28\n",
       "16      4\n",
       "17     11\n",
       "18     18\n",
       "19     25\n",
       "20      4\n",
       "21     11\n",
       "22     18\n",
       "23     25\n",
       "24      7\n",
       "25     14\n",
       "26     21\n",
       "27     28\n",
       "28      4\n",
       "29     11\n",
       "       ..\n",
       "720     3\n",
       "721    10\n",
       "722    17\n",
       "723    24\n",
       "724     1\n",
       "725     8\n",
       "726    15\n",
       "727    21\n",
       "728    29\n",
       "729     6\n",
       "730    13\n",
       "731    20\n",
       "732    27\n",
       "733     3\n",
       "734    10\n",
       "735    17\n",
       "736    24\n",
       "737     1\n",
       "738     8\n",
       "739    15\n",
       "740    21\n",
       "741    29\n",
       "742     6\n",
       "743    13\n",
       "744    20\n",
       "745    27\n",
       "746     3\n",
       "747    10\n",
       "748    17\n",
       "749    24\n",
       "Name: date, Length: 750, dtype: int64"
      ]
     },
     "execution_count": 205,
     "metadata": {
      "tags": []
     },
     "output_type": "execute_result"
    }
   ],
   "source": [
    "data[\"date\"].apply(lambda d:d.day)"
   ]
  },
  {
   "cell_type": "code",
   "execution_count": 0,
   "metadata": {
    "colab": {
     "autoexec": {
      "startup": false,
      "wait_interval": 0
     }
    },
    "colab_type": "code",
    "collapsed": true,
    "id": "e5ArfHTtRTNW"
   },
   "outputs": [],
   "source": [
    "data[\"date_day\"] = data[\"date\"].dt.day"
   ]
  },
  {
   "cell_type": "code",
   "execution_count": 0,
   "metadata": {
    "colab": {
     "autoexec": {
      "startup": false,
      "wait_interval": 0
     }
    },
    "colab_type": "code",
    "id": "1Acq-XyoRTNZ",
    "outputId": "14fa3ee5-0485-46f3-bcc6-d5d519e23afb"
   },
   "outputs": [
    {
     "data": {
      "text/plain": [
       "Timestamp('2010-10-10 00:00:00')"
      ]
     },
     "execution_count": 207,
     "metadata": {
      "tags": []
     },
     "output_type": "execute_result"
    }
   ],
   "source": [
    "pd.to_datetime(\"101010\")"
   ]
  },
  {
   "cell_type": "markdown",
   "metadata": {
    "colab_type": "text",
    "id": "LBuYxvDTRTNe"
   },
   "source": [
    "## Apply"
   ]
  },
  {
   "cell_type": "code",
   "execution_count": 0,
   "metadata": {
    "colab": {
     "autoexec": {
      "startup": false,
      "wait_interval": 0
     }
    },
    "colab_type": "code",
    "id": "TSuqPVxFRTNe",
    "outputId": "d4e3bc4b-4609-41e4-c1c7-f5fb0142766b"
   },
   "outputs": [
    {
     "data": {
      "text/plain": [
       "[numpy.int64,\n",
       " numpy.int64,\n",
       " str,\n",
       " str,\n",
       " numpy.float64,\n",
       " numpy.int64,\n",
       " numpy.int64,\n",
       " str,\n",
       " numpy.float64,\n",
       " str,\n",
       " str]"
      ]
     },
     "execution_count": 208,
     "metadata": {
      "tags": []
     },
     "output_type": "execute_result"
    }
   ],
   "source": [
    "[type(i) for i in df.loc[df[\"Age\"].idxmax()]]"
   ]
  },
  {
   "cell_type": "code",
   "execution_count": 0,
   "metadata": {
    "colab": {
     "autoexec": {
      "startup": false,
      "wait_interval": 0
     }
    },
    "colab_type": "code",
    "id": "BwmXmyytRTNi",
    "outputId": "e7158e26-b89d-41d7-bfc1-7cfc302c0ace"
   },
   "outputs": [
    {
     "name": "stdout",
     "output_type": "stream",
     "text": [
      "<class 'numpy.int64'>\n",
      "<class 'numpy.int64'>\n",
      "<class 'str'>\n",
      "<class 'str'>\n",
      "<class 'numpy.float64'>\n",
      "<class 'numpy.int64'>\n",
      "<class 'numpy.int64'>\n",
      "<class 'str'>\n",
      "<class 'numpy.float64'>\n",
      "<class 'str'>\n",
      "<class 'str'>\n"
     ]
    }
   ],
   "source": [
    "for i in df.loc[df[\"Age\"].idxmax()]:\n",
    "    print(type(i))"
   ]
  },
  {
   "cell_type": "code",
   "execution_count": 0,
   "metadata": {
    "colab": {
     "autoexec": {
      "startup": false,
      "wait_interval": 0
     }
    },
    "colab_type": "code",
    "id": "sm1NI1RcRTNm"
   },
   "outputs": [],
   "source": [
    "age = df[\"Age\"]"
   ]
  },
  {
   "cell_type": "code",
   "execution_count": 0,
   "metadata": {
    "colab": {
     "autoexec": {
      "startup": false,
      "wait_interval": 0
     }
    },
    "colab_type": "code",
    "collapsed": true,
    "id": "Eg6z4e52RTNo"
   },
   "outputs": [],
   "source": [
    "def is_pair(x):\n",
    "    \"\"\"\n",
    "    >> is_pair(4)\n",
    "    True\n",
    "    >> is_pair(3)\n",
    "    False\n",
    "    \"\"\"\n",
    "    return x%2==0"
   ]
  },
  {
   "cell_type": "code",
   "execution_count": 0,
   "metadata": {
    "colab": {
     "autoexec": {
      "startup": false,
      "wait_interval": 0
     }
    },
    "colab_type": "code",
    "id": "49QwHcuFRTNq",
    "outputId": "7255c28d-68d6-4820-94a4-706f8c8a90c8"
   },
   "outputs": [
    {
     "data": {
      "text/plain": [
       "True"
      ]
     },
     "execution_count": 212,
     "metadata": {
      "tags": []
     },
     "output_type": "execute_result"
    }
   ],
   "source": [
    "is_pair(2)"
   ]
  },
  {
   "cell_type": "code",
   "execution_count": 0,
   "metadata": {
    "colab": {
     "autoexec": {
      "startup": false,
      "wait_interval": 0
     }
    },
    "colab_type": "code",
    "id": "KvJFeJiPRTNt",
    "outputId": "2a5b84d5-7ddd-4caf-b140-51b7f265c0be"
   },
   "outputs": [
    {
     "data": {
      "text/plain": [
       "PassengerId\n",
       "1       True\n",
       "2       True\n",
       "3       True\n",
       "4      False\n",
       "5      False\n",
       "6      False\n",
       "7       True\n",
       "8       True\n",
       "9      False\n",
       "10      True\n",
       "11      True\n",
       "12      True\n",
       "13      True\n",
       "14     False\n",
       "15      True\n",
       "16     False\n",
       "17      True\n",
       "18     False\n",
       "19     False\n",
       "20     False\n",
       "21     False\n",
       "22      True\n",
       "23     False\n",
       "24      True\n",
       "25      True\n",
       "26      True\n",
       "27     False\n",
       "28     False\n",
       "29     False\n",
       "30     False\n",
       "       ...  \n",
       "862    False\n",
       "863     True\n",
       "864    False\n",
       "865     True\n",
       "866     True\n",
       "867    False\n",
       "868    False\n",
       "869    False\n",
       "870     True\n",
       "871     True\n",
       "872    False\n",
       "873    False\n",
       "874    False\n",
       "875     True\n",
       "876    False\n",
       "877     True\n",
       "878    False\n",
       "879    False\n",
       "880     True\n",
       "881    False\n",
       "882    False\n",
       "883     True\n",
       "884     True\n",
       "885    False\n",
       "886    False\n",
       "887    False\n",
       "888    False\n",
       "889    False\n",
       "890     True\n",
       "891     True\n",
       "Name: Age, Length: 891, dtype: bool"
      ]
     },
     "execution_count": 213,
     "metadata": {
      "tags": []
     },
     "output_type": "execute_result"
    }
   ],
   "source": [
    "age.apply(is_pair)"
   ]
  },
  {
   "cell_type": "code",
   "execution_count": 0,
   "metadata": {
    "colab": {
     "autoexec": {
      "startup": false,
      "wait_interval": 0
     }
    },
    "colab_type": "code",
    "id": "IQrzQ3OjRTNz",
    "outputId": "32b695df-3f4e-4bcf-ea93-80fc6f98c20e"
   },
   "outputs": [
    {
     "data": {
      "text/plain": [
       "PassengerId\n",
       "1       True\n",
       "2       True\n",
       "3       True\n",
       "4      False\n",
       "5      False\n",
       "6      False\n",
       "7       True\n",
       "8       True\n",
       "9      False\n",
       "10      True\n",
       "11      True\n",
       "12      True\n",
       "13      True\n",
       "14     False\n",
       "15      True\n",
       "16     False\n",
       "17      True\n",
       "18     False\n",
       "19     False\n",
       "20     False\n",
       "21     False\n",
       "22      True\n",
       "23     False\n",
       "24      True\n",
       "25      True\n",
       "26      True\n",
       "27     False\n",
       "28     False\n",
       "29     False\n",
       "30     False\n",
       "       ...  \n",
       "862    False\n",
       "863     True\n",
       "864    False\n",
       "865     True\n",
       "866     True\n",
       "867    False\n",
       "868    False\n",
       "869    False\n",
       "870     True\n",
       "871     True\n",
       "872    False\n",
       "873    False\n",
       "874    False\n",
       "875     True\n",
       "876    False\n",
       "877     True\n",
       "878    False\n",
       "879    False\n",
       "880     True\n",
       "881    False\n",
       "882    False\n",
       "883     True\n",
       "884     True\n",
       "885    False\n",
       "886    False\n",
       "887    False\n",
       "888    False\n",
       "889    False\n",
       "890     True\n",
       "891     True\n",
       "Name: Age, Length: 891, dtype: bool"
      ]
     },
     "execution_count": 214,
     "metadata": {
      "tags": []
     },
     "output_type": "execute_result"
    }
   ],
   "source": [
    "age.apply(lambda x: x%2==0 )"
   ]
  },
  {
   "cell_type": "code",
   "execution_count": 0,
   "metadata": {
    "colab": {
     "autoexec": {
      "startup": false,
      "wait_interval": 0
     }
    },
    "colab_type": "code",
    "id": "Oc0IDkHaRTN2"
   },
   "outputs": [],
   "source": [
    "df[\"ratio1\"] = df.apply(lambda row: row[\"Age\"]/row[\"Pclass\"], \n",
    "                        axis = 1)"
   ]
  },
  {
   "cell_type": "code",
   "execution_count": 0,
   "metadata": {
    "colab": {
     "autoexec": {
      "startup": false,
      "wait_interval": 0
     }
    },
    "colab_type": "code",
    "collapsed": true,
    "id": "bfEnBLlvRTN4"
   },
   "outputs": [],
   "source": [
    "def ratio(row, col1, col2):\n",
    "    return row[col1]/row[col2]"
   ]
  },
  {
   "cell_type": "code",
   "execution_count": 0,
   "metadata": {
    "colab": {
     "autoexec": {
      "startup": false,
      "wait_interval": 0
     }
    },
    "colab_type": "code",
    "id": "362t8gTuRTN6"
   },
   "outputs": [],
   "source": [
    "df[\"ratio2\"] = df.apply(lambda row: ratio(row, \"Age\", \"Pclass\"), \n",
    "                        axis = 1)"
   ]
  },
  {
   "cell_type": "code",
   "execution_count": 0,
   "metadata": {
    "colab": {
     "autoexec": {
      "startup": false,
      "wait_interval": 0
     }
    },
    "colab_type": "code",
    "collapsed": true,
    "id": "LSQzZe2uRTN8"
   },
   "outputs": [],
   "source": [
    "df[\"ratio3\"] = df[[\"Age\", \"Pclass\"]].apply(lambda row: ratio(row, \n",
    "                                                             row.index[0], \n",
    "                                                             row.index[1]), \n",
    "                                           axis = 1)"
   ]
  },
  {
   "cell_type": "markdown",
   "metadata": {
    "colab_type": "text",
    "id": "YDoXirfBRTN-"
   },
   "source": [
    "## Ejemplo dataframe "
   ]
  },
  {
   "cell_type": "code",
   "execution_count": 0,
   "metadata": {
    "colab": {
     "autoexec": {
      "startup": false,
      "wait_interval": 0
     }
    },
    "colab_type": "code",
    "id": "_DSxJTi0RTN-"
   },
   "outputs": [],
   "source": [
    "df2 = pd.DataFrame({\"maestra\":np.random.rand(10)})"
   ]
  },
  {
   "cell_type": "code",
   "execution_count": 0,
   "metadata": {
    "colab": {
     "autoexec": {
      "startup": false,
      "wait_interval": 0
     }
    },
    "colab_type": "code",
    "collapsed": true,
    "id": "qOvE0yWDRTOC"
   },
   "outputs": [],
   "source": [
    "letters = \"abcdefghijklmnopqrstuvwxyz\""
   ]
  },
  {
   "cell_type": "code",
   "execution_count": 0,
   "metadata": {
    "colab": {
     "autoexec": {
      "startup": false,
      "wait_interval": 0
     }
    },
    "colab_type": "code",
    "id": "ScrvGarMRTOE"
   },
   "outputs": [],
   "source": [
    "for l in letters:\n",
    "    df2[l] = np.random.rand(10)"
   ]
  },
  {
   "cell_type": "code",
   "execution_count": 0,
   "metadata": {
    "colab": {
     "autoexec": {
      "startup": false,
      "wait_interval": 0
     }
    },
    "colab_type": "code",
    "id": "pxTY_GubRTOG",
    "outputId": "2ca0680a-37aa-42c0-bda3-a01899366c96"
   },
   "outputs": [
    {
     "data": {
      "text/plain": [
       "array([[5.26656333e-01, 8.81455941e-01, 5.77513030e-01, 6.37341021e-01,\n",
       "        8.05071036e-01, 3.00405677e-01, 8.42069604e-01, 6.63191366e-01,\n",
       "        4.88843722e-01, 3.28561420e-01, 7.14361558e-01, 2.56799946e-01,\n",
       "        9.72767239e-01, 8.84659230e-01, 8.73756203e-01, 7.53385374e-01,\n",
       "        7.97754428e-01, 5.93103869e-01, 9.69289340e-02, 6.81533291e-01,\n",
       "        2.88972491e-01, 5.84768470e-03, 9.48632980e-01, 2.86534752e-01,\n",
       "        8.09180517e-01, 9.39408862e-01, 2.12670048e-01],\n",
       "       [9.09478898e-01, 8.09431562e-01, 2.57722641e-01, 5.20598548e-01,\n",
       "        1.93177103e-01, 7.79501217e-01, 2.44815487e-01, 3.31828812e-01,\n",
       "        5.92477901e-01, 4.59058350e-01, 5.28541144e-01, 5.95544077e-02,\n",
       "        4.48972517e-02, 8.55303925e-01, 7.87575357e-01, 1.64755486e-01,\n",
       "        7.75470863e-01, 9.54093042e-01, 8.93147468e-01, 6.47729575e-02,\n",
       "        7.85686785e-01, 7.56360930e-01, 4.55777250e-01, 7.42019084e-01,\n",
       "        1.04275762e-01, 6.20834198e-01, 5.53557299e-01],\n",
       "       [3.59105075e-01, 9.69995832e-01, 9.79608452e-01, 2.63431749e-01,\n",
       "        8.46637135e-01, 3.43389654e-01, 4.37872875e-01, 7.40154469e-01,\n",
       "        1.52877569e-01, 6.16349417e-01, 4.50281526e-01, 9.26899954e-01,\n",
       "        5.80826648e-01, 1.45049843e-01, 8.53753099e-01, 5.28476223e-01,\n",
       "        3.92978157e-01, 4.40227911e-01, 8.64818777e-01, 5.51773261e-03,\n",
       "        7.03683821e-01, 8.47149836e-02, 6.09849629e-01, 3.18008349e-01,\n",
       "        9.89136330e-02, 1.98476336e-01, 4.60760945e-01],\n",
       "       [2.39466570e-01, 4.41891378e-01, 5.46724851e-01, 6.42405360e-01,\n",
       "        2.24180860e-01, 1.74156031e-02, 5.66449390e-01, 1.97254911e-01,\n",
       "        7.10839463e-02, 5.65864867e-01, 7.42555611e-01, 2.51238453e-01,\n",
       "        4.78039338e-01, 2.60775558e-01, 9.46353989e-02, 2.60069548e-01,\n",
       "        4.73037962e-01, 5.67188016e-01, 3.78622185e-01, 6.96839774e-02,\n",
       "        8.95856914e-01, 4.62775408e-01, 3.65990408e-01, 2.55134156e-01,\n",
       "        6.16066788e-01, 9.89555377e-01, 6.21109542e-01],\n",
       "       [2.59835970e-01, 4.50605417e-01, 7.73915159e-02, 4.61887933e-01,\n",
       "        2.56765983e-01, 8.65032571e-01, 1.84508471e-01, 4.33756824e-01,\n",
       "        3.45518910e-02, 3.35747844e-01, 4.70196554e-02, 4.86414954e-01,\n",
       "        7.07226769e-01, 7.66514690e-01, 3.35456311e-01, 2.73723176e-01,\n",
       "        7.53991442e-01, 1.16784688e-01, 5.04996714e-01, 9.84939422e-01,\n",
       "        1.73435061e-01, 9.96058131e-01, 9.58361294e-01, 3.77114877e-01,\n",
       "        2.92245016e-01, 9.21036378e-02, 3.01310809e-01],\n",
       "       [8.36436515e-01, 7.86454465e-02, 7.57264216e-01, 1.08783388e-01,\n",
       "        4.42151731e-01, 9.74069365e-01, 8.60160637e-01, 8.92683645e-01,\n",
       "        4.89184029e-01, 5.84445724e-01, 5.50894433e-01, 5.65819839e-01,\n",
       "        5.75136488e-02, 8.80320735e-01, 1.96423152e-01, 1.81302600e-01,\n",
       "        9.82212439e-01, 3.13847301e-02, 5.93349343e-01, 7.82416425e-01,\n",
       "        5.61947138e-01, 9.83411693e-01, 9.90283329e-01, 4.44353896e-01,\n",
       "        5.87286167e-01, 2.14621429e-01, 7.28819692e-01],\n",
       "       [6.66463133e-01, 2.80455045e-01, 5.08124060e-01, 7.48740348e-01,\n",
       "        7.75969859e-01, 6.03969284e-01, 7.43071459e-02, 4.15936390e-01,\n",
       "        7.98096043e-01, 7.74711460e-01, 5.52495441e-01, 6.00992638e-02,\n",
       "        1.43227331e-01, 2.08309414e-01, 8.06373550e-01, 5.08888688e-01,\n",
       "        5.81994285e-01, 1.30592163e-01, 8.02971593e-01, 6.80035196e-01,\n",
       "        6.83929406e-01, 4.00951035e-01, 3.62413823e-01, 9.11605000e-01,\n",
       "        6.56308590e-02, 1.39772049e-01, 6.72169898e-01],\n",
       "       [9.31310916e-01, 2.58801435e-01, 6.27949434e-01, 8.79458168e-01,\n",
       "        3.70916837e-01, 2.17773474e-01, 7.49740202e-01, 3.83616796e-02,\n",
       "        7.40092434e-01, 4.42462423e-01, 4.33984949e-01, 7.24402009e-03,\n",
       "        4.09908015e-01, 9.24877893e-01, 6.49921827e-01, 2.13625542e-01,\n",
       "        6.79455149e-01, 4.46368961e-01, 6.32719360e-01, 6.04487847e-02,\n",
       "        5.26149288e-01, 5.60470100e-01, 4.07826319e-01, 6.98464297e-02,\n",
       "        8.76679765e-01, 5.11422730e-01, 3.33031555e-01],\n",
       "       [2.83892958e-01, 3.94310692e-01, 7.98964007e-01, 2.30646768e-01,\n",
       "        6.25921878e-01, 4.86217051e-01, 5.23147862e-01, 6.47050317e-01,\n",
       "        9.65278602e-05, 1.25550672e-01, 8.58842659e-01, 8.77483189e-01,\n",
       "        2.27508470e-01, 9.47415587e-01, 6.61553938e-01, 5.63779690e-01,\n",
       "        3.73640264e-02, 5.39868872e-01, 2.27169744e-01, 8.57808474e-01,\n",
       "        2.51805205e-02, 4.66592725e-01, 8.04850625e-01, 1.07074325e-02,\n",
       "        5.47679402e-01, 4.70557026e-01, 2.72769257e-01],\n",
       "       [6.62086220e-01, 1.18631208e-01, 4.62739848e-01, 2.36920711e-01,\n",
       "        1.20232870e-01, 8.02733923e-01, 6.73832583e-01, 7.05189218e-01,\n",
       "        4.22568893e-01, 9.78889710e-01, 4.18557518e-01, 4.39510374e-01,\n",
       "        4.53644973e-01, 7.56494201e-01, 6.79780032e-01, 5.62124761e-01,\n",
       "        1.45808349e-01, 5.84299841e-01, 6.41125346e-01, 5.28865094e-03,\n",
       "        8.60757456e-01, 6.53054925e-01, 8.06174771e-01, 2.69160554e-01,\n",
       "        2.46657518e-01, 2.41821492e-01, 9.81106372e-01]])"
      ]
     },
     "execution_count": 222,
     "metadata": {
      "tags": []
     },
     "output_type": "execute_result"
    }
   ],
   "source": [
    "df2.values"
   ]
  },
  {
   "cell_type": "code",
   "execution_count": 0,
   "metadata": {
    "colab": {
     "autoexec": {
      "startup": false,
      "wait_interval": 0
     }
    },
    "colab_type": "code",
    "id": "qbfDCceDRTOK",
    "outputId": "6760c029-ab1f-4809-bcfd-7ee683a0e469"
   },
   "outputs": [
    {
     "data": {
      "text/plain": [
       "0          l\n",
       "1          q\n",
       "2          b\n",
       "3          y\n",
       "4          u\n",
       "5          v\n",
       "6          w\n",
       "7    maestra\n",
       "8          m\n",
       "9          z\n",
       "dtype: object"
      ]
     },
     "execution_count": 223,
     "metadata": {
      "tags": []
     },
     "output_type": "execute_result"
    }
   ],
   "source": [
    "df2.apply(lambda row:row.idxmax(), axis = 1)"
   ]
  },
  {
   "cell_type": "code",
   "execution_count": 0,
   "metadata": {
    "colab": {
     "autoexec": {
      "startup": false,
      "wait_interval": 0
     }
    },
    "colab_type": "code",
    "id": "pmmy2FyURTON",
    "outputId": "dd10dde5-e830-4ebf-903f-3c06a0c46af9"
   },
   "outputs": [
    {
     "data": {
      "text/plain": [
       "0          l\n",
       "1          q\n",
       "2          b\n",
       "3          y\n",
       "4          u\n",
       "5          v\n",
       "6          w\n",
       "7    maestra\n",
       "8          m\n",
       "9          z\n",
       "dtype: object"
      ]
     },
     "execution_count": 224,
     "metadata": {
      "tags": []
     },
     "output_type": "execute_result"
    }
   ],
   "source": [
    "df2.idxmax(axis=1)"
   ]
  },
  {
   "cell_type": "markdown",
   "metadata": {
    "colab_type": "text",
    "id": "HWs8fGIvRTOQ"
   },
   "source": [
    "## Nulos"
   ]
  },
  {
   "cell_type": "code",
   "execution_count": 0,
   "metadata": {
    "colab": {
     "autoexec": {
      "startup": false,
      "wait_interval": 0
     }
    },
    "colab_type": "code",
    "id": "emxi_zvJRTOQ",
    "outputId": "6ec5c402-14e6-4d7b-db2a-0a81b793ce0e"
   },
   "outputs": [
    {
     "data": {
      "text/plain": [
       "nan"
      ]
     },
     "execution_count": 225,
     "metadata": {
      "tags": []
     },
     "output_type": "execute_result"
    }
   ],
   "source": [
    "np.nan"
   ]
  },
  {
   "cell_type": "code",
   "execution_count": 0,
   "metadata": {
    "colab": {
     "autoexec": {
      "startup": false,
      "wait_interval": 0
     }
    },
    "colab_type": "code",
    "id": "supsSFiORTOS",
    "outputId": "56b3d3a1-2739-4b9b-d2a3-1f907ad74f9f"
   },
   "outputs": [
    {
     "data": {
      "text/plain": [
       "True"
      ]
     },
     "execution_count": 226,
     "metadata": {
      "tags": []
     },
     "output_type": "execute_result"
    }
   ],
   "source": [
    "pd.isnull(np.nan)"
   ]
  },
  {
   "cell_type": "code",
   "execution_count": 0,
   "metadata": {
    "colab": {
     "autoexec": {
      "startup": false,
      "wait_interval": 0
     }
    },
    "colab_type": "code",
    "id": "V_UcxvjFRTOU",
    "outputId": "7f3c8794-de99-409f-f36f-5facd1157d10"
   },
   "outputs": [
    {
     "name": "stdout",
     "output_type": "stream",
     "text": [
      "CPU times: user 2 µs, sys: 1 µs, total: 3 µs\n",
      "Wall time: 7.87 µs\n"
     ]
    },
    {
     "data": {
      "text/plain": [
       "PassengerId\n",
       "1      False\n",
       "2      False\n",
       "3      False\n",
       "4      False\n",
       "5      False\n",
       "6       True\n",
       "7      False\n",
       "8      False\n",
       "9      False\n",
       "10     False\n",
       "11     False\n",
       "12     False\n",
       "13     False\n",
       "14     False\n",
       "15     False\n",
       "16     False\n",
       "17     False\n",
       "18      True\n",
       "19     False\n",
       "20      True\n",
       "21     False\n",
       "22     False\n",
       "23     False\n",
       "24     False\n",
       "25     False\n",
       "26     False\n",
       "27      True\n",
       "28     False\n",
       "29      True\n",
       "30      True\n",
       "       ...  \n",
       "862    False\n",
       "863    False\n",
       "864     True\n",
       "865    False\n",
       "866    False\n",
       "867    False\n",
       "868    False\n",
       "869     True\n",
       "870    False\n",
       "871    False\n",
       "872    False\n",
       "873    False\n",
       "874    False\n",
       "875    False\n",
       "876    False\n",
       "877    False\n",
       "878    False\n",
       "879     True\n",
       "880    False\n",
       "881    False\n",
       "882    False\n",
       "883    False\n",
       "884    False\n",
       "885    False\n",
       "886    False\n",
       "887    False\n",
       "888    False\n",
       "889     True\n",
       "890    False\n",
       "891    False\n",
       "Name: Age, Length: 891, dtype: bool"
      ]
     },
     "execution_count": 227,
     "metadata": {
      "tags": []
     },
     "output_type": "execute_result"
    }
   ],
   "source": [
    "%time\n",
    "pd.isnull(df[\"Age\"])"
   ]
  },
  {
   "cell_type": "code",
   "execution_count": 0,
   "metadata": {
    "colab": {
     "autoexec": {
      "startup": false,
      "wait_interval": 0
     }
    },
    "colab_type": "code",
    "id": "mF-fZsPpRTOW",
    "outputId": "6e279267-8d79-450a-909f-910573229845"
   },
   "outputs": [
    {
     "name": "stdout",
     "output_type": "stream",
     "text": [
      "CPU times: user 3 µs, sys: 1 µs, total: 4 µs\n",
      "Wall time: 8.82 µs\n"
     ]
    },
    {
     "data": {
      "text/plain": [
       "PassengerId\n",
       "1      False\n",
       "2      False\n",
       "3      False\n",
       "4      False\n",
       "5      False\n",
       "6       True\n",
       "7      False\n",
       "8      False\n",
       "9      False\n",
       "10     False\n",
       "11     False\n",
       "12     False\n",
       "13     False\n",
       "14     False\n",
       "15     False\n",
       "16     False\n",
       "17     False\n",
       "18      True\n",
       "19     False\n",
       "20      True\n",
       "21     False\n",
       "22     False\n",
       "23     False\n",
       "24     False\n",
       "25     False\n",
       "26     False\n",
       "27      True\n",
       "28     False\n",
       "29      True\n",
       "30      True\n",
       "       ...  \n",
       "862    False\n",
       "863    False\n",
       "864     True\n",
       "865    False\n",
       "866    False\n",
       "867    False\n",
       "868    False\n",
       "869     True\n",
       "870    False\n",
       "871    False\n",
       "872    False\n",
       "873    False\n",
       "874    False\n",
       "875    False\n",
       "876    False\n",
       "877    False\n",
       "878    False\n",
       "879     True\n",
       "880    False\n",
       "881    False\n",
       "882    False\n",
       "883    False\n",
       "884    False\n",
       "885    False\n",
       "886    False\n",
       "887    False\n",
       "888    False\n",
       "889     True\n",
       "890    False\n",
       "891    False\n",
       "Name: Age, Length: 891, dtype: bool"
      ]
     },
     "execution_count": 228,
     "metadata": {
      "tags": []
     },
     "output_type": "execute_result"
    }
   ],
   "source": [
    "%time\n",
    "df[\"Age\"].apply(pd.isnull)"
   ]
  },
  {
   "cell_type": "code",
   "execution_count": 0,
   "metadata": {
    "colab": {
     "autoexec": {
      "startup": false,
      "wait_interval": 0
     }
    },
    "colab_type": "code",
    "id": "mmh_PqmdRTOZ",
    "outputId": "089921b4-1fab-468c-8663-16c18649559f"
   },
   "outputs": [
    {
     "data": {
      "text/plain": [
       "Survived      342.000000\n",
       "Pclass       2057.000000\n",
       "Age         21205.170000\n",
       "SibSp         466.000000\n",
       "Parch         340.000000\n",
       "Fare        28693.949300\n",
       "ratio1      12670.808333\n",
       "ratio2      12670.808333\n",
       "ratio3      12670.808333\n",
       "dtype: float64"
      ]
     },
     "execution_count": 229,
     "metadata": {
      "tags": []
     },
     "output_type": "execute_result"
    }
   ],
   "source": [
    "df.select_dtypes(include=[int, float]).sum()"
   ]
  },
  {
   "cell_type": "code",
   "execution_count": 0,
   "metadata": {
    "colab": {
     "autoexec": {
      "startup": false,
      "wait_interval": 0
     }
    },
    "colab_type": "code",
    "id": "Uzg-INHrRTOb",
    "outputId": "693d6bff-f9b3-4a57-9a65-d7c6c0a8a8a4"
   },
   "outputs": [
    {
     "data": {
      "text/plain": [
       "Survived      0\n",
       "Pclass        0\n",
       "Name          0\n",
       "Sex           0\n",
       "Age         177\n",
       "SibSp         0\n",
       "Parch         0\n",
       "Ticket        0\n",
       "Fare          0\n",
       "Cabin       687\n",
       "Embarked      2\n",
       "ratio1      177\n",
       "ratio2      177\n",
       "ratio3      177\n",
       "dtype: int64"
      ]
     },
     "execution_count": 230,
     "metadata": {
      "tags": []
     },
     "output_type": "execute_result"
    }
   ],
   "source": [
    "pd.isnull(df).sum()"
   ]
  },
  {
   "cell_type": "code",
   "execution_count": 0,
   "metadata": {
    "colab": {
     "autoexec": {
      "startup": false,
      "wait_interval": 0
     }
    },
    "colab_type": "code",
    "id": "1CL32SWKRTOe",
    "outputId": "eefa34c5-b23a-40bc-bb22-1f52e3c46721"
   },
   "outputs": [
    {
     "data": {
      "text/plain": [
       "<bound method DataFrame.sort_values of              Survived  Pclass  \\\n",
       "PassengerId                     \n",
       "1                   0       3   \n",
       "2                   1       1   \n",
       "3                   1       3   \n",
       "4                   1       1   \n",
       "5                   0       3   \n",
       "6                   0       3   \n",
       "7                   0       1   \n",
       "8                   0       3   \n",
       "9                   1       3   \n",
       "10                  1       2   \n",
       "11                  1       3   \n",
       "12                  1       1   \n",
       "13                  0       3   \n",
       "14                  0       3   \n",
       "15                  0       3   \n",
       "16                  1       2   \n",
       "17                  0       3   \n",
       "18                  1       2   \n",
       "19                  0       3   \n",
       "20                  1       3   \n",
       "21                  0       2   \n",
       "22                  1       2   \n",
       "23                  1       3   \n",
       "24                  1       1   \n",
       "25                  0       3   \n",
       "26                  1       3   \n",
       "27                  0       3   \n",
       "28                  0       1   \n",
       "29                  1       3   \n",
       "30                  0       3   \n",
       "...               ...     ...   \n",
       "862                 0       2   \n",
       "863                 1       1   \n",
       "864                 0       3   \n",
       "865                 0       2   \n",
       "866                 1       2   \n",
       "867                 1       2   \n",
       "868                 0       1   \n",
       "869                 0       3   \n",
       "870                 1       3   \n",
       "871                 0       3   \n",
       "872                 1       1   \n",
       "873                 0       1   \n",
       "874                 0       3   \n",
       "875                 1       2   \n",
       "876                 1       3   \n",
       "877                 0       3   \n",
       "878                 0       3   \n",
       "879                 0       3   \n",
       "880                 1       1   \n",
       "881                 1       2   \n",
       "882                 0       3   \n",
       "883                 0       3   \n",
       "884                 0       2   \n",
       "885                 0       3   \n",
       "886                 0       3   \n",
       "887                 0       2   \n",
       "888                 1       1   \n",
       "889                 0       3   \n",
       "890                 1       1   \n",
       "891                 0       3   \n",
       "\n",
       "                                                          Name     Sex   Age  \\\n",
       "PassengerId                                                                    \n",
       "1                                      Braund, Mr. Owen Harris    male  22.0   \n",
       "2            Cumings, Mrs. John Bradley (Florence Briggs Th...  female  38.0   \n",
       "3                                       Heikkinen, Miss. Laina  female  26.0   \n",
       "4                 Futrelle, Mrs. Jacques Heath (Lily May Peel)  female  35.0   \n",
       "5                                     Allen, Mr. William Henry    male  35.0   \n",
       "6                                             Moran, Mr. James  female   NaN   \n",
       "7                                      McCarthy, Mr. Timothy J    male  54.0   \n",
       "8                               Palsson, Master. Gosta Leonard    male   2.0   \n",
       "9            Johnson, Mrs. Oscar W (Elisabeth Vilhelmina Berg)  female  27.0   \n",
       "10                         Nasser, Mrs. Nicholas (Adele Achem)  female  14.0   \n",
       "11                             Sandstrom, Miss. Marguerite Rut  female   4.0   \n",
       "12                                    Bonnell, Miss. Elizabeth  female  58.0   \n",
       "13                              Saundercock, Mr. William Henry    male  20.0   \n",
       "14                                 Andersson, Mr. Anders Johan    male  39.0   \n",
       "15                        Vestrom, Miss. Hulda Amanda Adolfina  female  14.0   \n",
       "16                            Hewlett, Mrs. (Mary D Kingcome)   female  55.0   \n",
       "17                                        Rice, Master. Eugene    male   2.0   \n",
       "18                                Williams, Mr. Charles Eugene    male   NaN   \n",
       "19           Vander Planke, Mrs. Julius (Emelia Maria Vande...  female  31.0   \n",
       "20                                     Masselmani, Mrs. Fatima  female   NaN   \n",
       "21                                        Fynney, Mr. Joseph J    male  35.0   \n",
       "22                                       Beesley, Mr. Lawrence    male  34.0   \n",
       "23                             \"McGowan, Miss. Anna \"\"Annie\"\"\"  female  15.0   \n",
       "24                                Sloper, Mr. William Thompson    male  28.0   \n",
       "25                               Palsson, Miss. Torborg Danira  female   8.0   \n",
       "26           Asplund, Mrs. Carl Oscar (Selma Augusta Emilia...  female  38.0   \n",
       "27                                     Emir, Mr. Farred Chehab    male   NaN   \n",
       "28                              Fortune, Mr. Charles Alexander    male  19.0   \n",
       "29                           \"O'Dwyer, Miss. Ellen \"\"Nellie\"\"\"  female   NaN   \n",
       "30                                         Todoroff, Mr. Lalio    male   NaN   \n",
       "...                                                        ...     ...   ...   \n",
       "862                                Giles, Mr. Frederick Edward    male  21.0   \n",
       "863          Swift, Mrs. Frederick Joel (Margaret Welles Ba...  female  48.0   \n",
       "864                      \"Sage, Miss. Dorothy Edith \"\"Dolly\"\"\"  female   NaN   \n",
       "865                                     Gill, Mr. John William    male  24.0   \n",
       "866                                   Bystrom, Mrs. (Karolina)  female  42.0   \n",
       "867                               Duran y More, Miss. Asuncion  female  27.0   \n",
       "868                       Roebling, Mr. Washington Augustus II    male  31.0   \n",
       "869                                van Melkebeke, Mr. Philemon    male   NaN   \n",
       "870                            Johnson, Master. Harold Theodor    male   4.0   \n",
       "871                                          Balkic, Mr. Cerin    male  26.0   \n",
       "872           Beckwith, Mrs. Richard Leonard (Sallie Monypeny)  female  47.0   \n",
       "873                                   Carlsson, Mr. Frans Olof    male  33.0   \n",
       "874                                Vander Cruyssen, Mr. Victor    male  47.0   \n",
       "875                      Abelson, Mrs. Samuel (Hannah Wizosky)  female  28.0   \n",
       "876                       \"Najib, Miss. Adele Kiamie \"\"Jane\"\"\"  female  15.0   \n",
       "877                              Gustafsson, Mr. Alfred Ossian    male  20.0   \n",
       "878                                       Petroff, Mr. Nedelio    male  19.0   \n",
       "879                                         Laleff, Mr. Kristo    male   NaN   \n",
       "880              Potter, Mrs. Thomas Jr (Lily Alexenia Wilson)  female  56.0   \n",
       "881               Shelley, Mrs. William (Imanita Parrish Hall)  female  25.0   \n",
       "882                                         Markun, Mr. Johann    male  33.0   \n",
       "883                               Dahlberg, Miss. Gerda Ulrika  female  22.0   \n",
       "884                              Banfield, Mr. Frederick James    male  28.0   \n",
       "885                                     Sutehall, Mr. Henry Jr    male  25.0   \n",
       "886                       Rice, Mrs. William (Margaret Norton)  female  39.0   \n",
       "887                                      Montvila, Rev. Juozas    male  27.0   \n",
       "888                               Graham, Miss. Margaret Edith  female  19.0   \n",
       "889               \"Johnston, Miss. Catherine Helen \"\"Carrie\"\"\"  female   NaN   \n",
       "890                                      Behr, Mr. Karl Howell    male  26.0   \n",
       "891                                        Dooley, Mr. Patrick    male  32.0   \n",
       "\n",
       "             SibSp  Parch            Ticket      Fare        Cabin Embarked  \\\n",
       "PassengerId                                                                   \n",
       "1                1      0         A/5 21171    7.2500         None        S   \n",
       "2                1      0          PC 17599   71.2833          C85        C   \n",
       "3                0      0  STON/O2. 3101282    7.9250         None        S   \n",
       "4                1      0            113803   53.1000         C123        S   \n",
       "5                0      0            373450    8.0500         None        S   \n",
       "6                0      0            330877    8.4583         None        Q   \n",
       "7                0      0             17463   51.8625          E46        S   \n",
       "8                3      1            349909   21.0750         None        S   \n",
       "9                0      2            347742   11.1333         None        S   \n",
       "10               1      0            237736   30.0708         None        C   \n",
       "11               1      1           PP 9549   16.7000           G6        S   \n",
       "12               0      0            113783   26.5500         C103        S   \n",
       "13               0      0         A/5. 2151    8.0500         None        S   \n",
       "14               1      5            347082   31.2750         None        S   \n",
       "15               0      0            350406    7.8542         None        S   \n",
       "16               0      0            248706   16.0000         None        S   \n",
       "17               4      1            382652   29.1250         None        Q   \n",
       "18               0      0            244373   13.0000         None        S   \n",
       "19               1      0            345763   18.0000         None        S   \n",
       "20               0      0              2649    7.2250         None        C   \n",
       "21               0      0            239865   26.0000         None        S   \n",
       "22               0      0            248698   13.0000          D56        S   \n",
       "23               0      0            330923    8.0292         None        Q   \n",
       "24               0      0            113788   35.5000           A6        S   \n",
       "25               3      1            349909   21.0750         None        S   \n",
       "26               1      5            347077   31.3875         None        S   \n",
       "27               0      0              2631    7.2250         None        C   \n",
       "28               3      2             19950  263.0000  C23 C25 C27        S   \n",
       "29               0      0            330959    7.8792         None        Q   \n",
       "30               0      0            349216    7.8958         None        S   \n",
       "...            ...    ...               ...       ...          ...      ...   \n",
       "862              1      0             28134   11.5000         None        S   \n",
       "863              0      0             17466   25.9292          D17        S   \n",
       "864              8      2          CA. 2343   69.5500         None        S   \n",
       "865              0      0            233866   13.0000         None        S   \n",
       "866              0      0            236852   13.0000         None        S   \n",
       "867              1      0     SC/PARIS 2149   13.8583         None        C   \n",
       "868              0      0          PC 17590   50.4958          A24        S   \n",
       "869              0      0            345777    9.5000         None        S   \n",
       "870              1      1            347742   11.1333         None        S   \n",
       "871              0      0            349248    7.8958         None        S   \n",
       "872              1      1             11751   52.5542          D35        S   \n",
       "873              0      0               695    5.0000  B51 B53 B55        S   \n",
       "874              0      0            345765    9.0000         None        S   \n",
       "875              1      0         P/PP 3381   24.0000         None        C   \n",
       "876              0      0              2667    7.2250         None        C   \n",
       "877              0      0              7534    9.8458         None        S   \n",
       "878              0      0            349212    7.8958         None        S   \n",
       "879              0      0            349217    7.8958         None        S   \n",
       "880              0      1             11767   83.1583          C50        C   \n",
       "881              0      1            230433   26.0000         None        S   \n",
       "882              0      0            349257    7.8958         None        S   \n",
       "883              0      0              7552   10.5167         None        S   \n",
       "884              0      0  C.A./SOTON 34068   10.5000         None        S   \n",
       "885              0      0   SOTON/OQ 392076    7.0500         None        S   \n",
       "886              0      5            382652   29.1250         None        Q   \n",
       "887              0      0            211536   13.0000         None        S   \n",
       "888              0      0            112053   30.0000          B42        S   \n",
       "889              1      2        W./C. 6607   23.4500         None        S   \n",
       "890              0      0            111369   30.0000         C148        C   \n",
       "891              0      0            370376    7.7500         None        Q   \n",
       "\n",
       "                ratio1     ratio2     ratio3  \n",
       "PassengerId                                   \n",
       "1             7.333333   7.333333   7.333333  \n",
       "2            38.000000  38.000000  38.000000  \n",
       "3             8.666667   8.666667   8.666667  \n",
       "4            35.000000  35.000000  35.000000  \n",
       "5            11.666667  11.666667  11.666667  \n",
       "6                  NaN        NaN        NaN  \n",
       "7            54.000000  54.000000  54.000000  \n",
       "8             0.666667   0.666667   0.666667  \n",
       "9             9.000000   9.000000   9.000000  \n",
       "10            7.000000   7.000000   7.000000  \n",
       "11            1.333333   1.333333   1.333333  \n",
       "12           58.000000  58.000000  58.000000  \n",
       "13            6.666667   6.666667   6.666667  \n",
       "14           13.000000  13.000000  13.000000  \n",
       "15            4.666667   4.666667   4.666667  \n",
       "16           27.500000  27.500000  27.500000  \n",
       "17            0.666667   0.666667   0.666667  \n",
       "18                 NaN        NaN        NaN  \n",
       "19           10.333333  10.333333  10.333333  \n",
       "20                 NaN        NaN        NaN  \n",
       "21           17.500000  17.500000  17.500000  \n",
       "22           17.000000  17.000000  17.000000  \n",
       "23            5.000000   5.000000   5.000000  \n",
       "24           28.000000  28.000000  28.000000  \n",
       "25            2.666667   2.666667   2.666667  \n",
       "26           12.666667  12.666667  12.666667  \n",
       "27                 NaN        NaN        NaN  \n",
       "28           19.000000  19.000000  19.000000  \n",
       "29                 NaN        NaN        NaN  \n",
       "30                 NaN        NaN        NaN  \n",
       "...                ...        ...        ...  \n",
       "862          10.500000  10.500000  10.500000  \n",
       "863          48.000000  48.000000  48.000000  \n",
       "864                NaN        NaN        NaN  \n",
       "865          12.000000  12.000000  12.000000  \n",
       "866          21.000000  21.000000  21.000000  \n",
       "867          13.500000  13.500000  13.500000  \n",
       "868          31.000000  31.000000  31.000000  \n",
       "869                NaN        NaN        NaN  \n",
       "870           1.333333   1.333333   1.333333  \n",
       "871           8.666667   8.666667   8.666667  \n",
       "872          47.000000  47.000000  47.000000  \n",
       "873          33.000000  33.000000  33.000000  \n",
       "874          15.666667  15.666667  15.666667  \n",
       "875          14.000000  14.000000  14.000000  \n",
       "876           5.000000   5.000000   5.000000  \n",
       "877           6.666667   6.666667   6.666667  \n",
       "878           6.333333   6.333333   6.333333  \n",
       "879                NaN        NaN        NaN  \n",
       "880          56.000000  56.000000  56.000000  \n",
       "881          12.500000  12.500000  12.500000  \n",
       "882          11.000000  11.000000  11.000000  \n",
       "883           7.333333   7.333333   7.333333  \n",
       "884          14.000000  14.000000  14.000000  \n",
       "885           8.333333   8.333333   8.333333  \n",
       "886          13.000000  13.000000  13.000000  \n",
       "887          13.500000  13.500000  13.500000  \n",
       "888          19.000000  19.000000  19.000000  \n",
       "889                NaN        NaN        NaN  \n",
       "890          26.000000  26.000000  26.000000  \n",
       "891          10.666667  10.666667  10.666667  \n",
       "\n",
       "[891 rows x 14 columns]>"
      ]
     },
     "execution_count": 231,
     "metadata": {
      "tags": []
     },
     "output_type": "execute_result"
    }
   ],
   "source": [
    "df.sort_values"
   ]
  },
  {
   "cell_type": "code",
   "execution_count": 0,
   "metadata": {
    "colab": {
     "autoexec": {
      "startup": false,
      "wait_interval": 0
     }
    },
    "colab_type": "code",
    "id": "4IW3WgWmRTOj",
    "outputId": "eb01be30-0964-4aff-f340-88b2f1174196"
   },
   "outputs": [
    {
     "data": {
      "text/plain": [
       "PassengerId\n",
       "668    5\n",
       "261    5\n",
       "236    5\n",
       "654    5\n",
       "651    5\n",
       "649    5\n",
       "241    5\n",
       "242    5\n",
       "644    5\n",
       "640    5\n",
       "251    5\n",
       "634    5\n",
       "257    5\n",
       "630    5\n",
       "265    5\n",
       "590    5\n",
       "271    5\n",
       "275    5\n",
       "278    5\n",
       "614    5\n",
       "613    5\n",
       "612    5\n",
       "603    5\n",
       "602    5\n",
       "599    5\n",
       "597    5\n",
       "296    5\n",
       "594    5\n",
       "657    5\n",
       "230    5\n",
       "      ..\n",
       "292    0\n",
       "600    0\n",
       "610    0\n",
       "619    0\n",
       "276    0\n",
       "274    0\n",
       "622    0\n",
       "270    0\n",
       "269    0\n",
       "626    0\n",
       "264    0\n",
       "263    0\n",
       "628    0\n",
       "258    0\n",
       "216    0\n",
       "633    0\n",
       "253    0\n",
       "252    0\n",
       "249    0\n",
       "642    0\n",
       "246    0\n",
       "646    0\n",
       "648    0\n",
       "660    0\n",
       "231    0\n",
       "663    0\n",
       "225    0\n",
       "672    0\n",
       "219    0\n",
       "446    0\n",
       "Length: 891, dtype: int64"
      ]
     },
     "execution_count": 232,
     "metadata": {
      "tags": []
     },
     "output_type": "execute_result"
    }
   ],
   "source": [
    "df.isnull().sum(axis=1).sort_values(ascending=False)"
   ]
  },
  {
   "cell_type": "code",
   "execution_count": 0,
   "metadata": {
    "colab": {
     "autoexec": {
      "startup": false,
      "wait_interval": 0
     }
    },
    "colab_type": "code",
    "collapsed": true,
    "id": "UDnysvi5RTOl"
   },
   "outputs": [],
   "source": [
    "age_mean = df[\"Age\"].median()"
   ]
  },
  {
   "cell_type": "code",
   "execution_count": 0,
   "metadata": {
    "colab": {
     "autoexec": {
      "startup": false,
      "wait_interval": 0
     }
    },
    "colab_type": "code",
    "id": "inbUEEltRTOn"
   },
   "outputs": [],
   "source": [
    "df[\"Age\"] = df[\"Age\"].fillna(age_mean)"
   ]
  },
  {
   "cell_type": "markdown",
   "metadata": {
    "colab_type": "text",
    "id": "X6XwwzRHRTOp"
   },
   "source": [
    "### Eliminar nulos"
   ]
  },
  {
   "cell_type": "code",
   "execution_count": 0,
   "metadata": {
    "colab": {
     "autoexec": {
      "startup": false,
      "wait_interval": 0
     }
    },
    "colab_type": "code",
    "id": "jAzv7KBlRTOq",
    "outputId": "854d3a9a-f93e-41c2-b72f-e09bc5e3f9d8"
   },
   "outputs": [
    {
     "data": {
      "text/plain": [
       "(884, 15)"
      ]
     },
     "execution_count": 247,
     "metadata": {
      "tags": []
     },
     "output_type": "execute_result"
    }
   ],
   "source": [
    "df.shape"
   ]
  },
  {
   "cell_type": "code",
   "execution_count": 0,
   "metadata": {
    "colab": {
     "autoexec": {
      "startup": false,
      "wait_interval": 0
     }
    },
    "colab_type": "code",
    "id": "g1yDlf3sRTOt"
   },
   "outputs": [],
   "source": [
    "drop_columns = df.columns[[\"ratio\" in c for c in df.columns.values]]"
   ]
  },
  {
   "cell_type": "code",
   "execution_count": 0,
   "metadata": {
    "colab": {
     "autoexec": {
      "startup": false,
      "wait_interval": 0
     }
    },
    "colab_type": "code",
    "id": "pX7xfSyURTOw"
   },
   "outputs": [],
   "source": [
    "df = df.drop(drop_columns,axis=1)"
   ]
  },
  {
   "cell_type": "code",
   "execution_count": 0,
   "metadata": {
    "colab": {
     "autoexec": {
      "startup": false,
      "wait_interval": 0
     }
    },
    "colab_type": "code",
    "id": "_KPtoc-QRTOy",
    "outputId": "77c333e2-7dd4-4cd5-893a-4d511cc88b71"
   },
   "outputs": [
    {
     "data": {
      "text/plain": [
       "Survived       False\n",
       "Pclass         False\n",
       "Name           False\n",
       "Sex            False\n",
       "Age            False\n",
       "SibSp          False\n",
       "Parch          False\n",
       "Ticket         False\n",
       "Fare           False\n",
       "Cabin           True\n",
       "Embarked        True\n",
       "ratio1          True\n",
       "ratio2          True\n",
       "ratio3          True\n",
       "BilleteCaro    False\n",
       "dtype: bool"
      ]
     },
     "execution_count": 251,
     "metadata": {
      "tags": []
     },
     "output_type": "execute_result"
    }
   ],
   "source": [
    "df.isnull().any()"
   ]
  },
  {
   "cell_type": "code",
   "execution_count": 0,
   "metadata": {
    "colab": {
     "autoexec": {
      "startup": false,
      "wait_interval": 0
     }
    },
    "colab_type": "code",
    "collapsed": true,
    "id": "2_M1WinbRTO2",
    "outputId": "df12bdc7-ad8e-43fe-df60-a070e63b3066"
   },
   "outputs": [
    {
     "data": {
      "text/html": [
       "<div>\n",
       "<style scoped>\n",
       "    .dataframe tbody tr th:only-of-type {\n",
       "        vertical-align: middle;\n",
       "    }\n",
       "\n",
       "    .dataframe tbody tr th {\n",
       "        vertical-align: top;\n",
       "    }\n",
       "\n",
       "    .dataframe thead th {\n",
       "        text-align: right;\n",
       "    }\n",
       "</style>\n",
       "<table border=\"1\" class=\"dataframe\">\n",
       "  <thead>\n",
       "    <tr style=\"text-align: right;\">\n",
       "      <th></th>\n",
       "      <th>Survived</th>\n",
       "      <th>Pclass</th>\n",
       "      <th>Name</th>\n",
       "      <th>Sex</th>\n",
       "      <th>Age</th>\n",
       "      <th>SibSp</th>\n",
       "      <th>Parch</th>\n",
       "      <th>Ticket</th>\n",
       "      <th>Fare</th>\n",
       "      <th>Cabin</th>\n",
       "      <th>Embarked</th>\n",
       "      <th>BilleteCaro</th>\n",
       "    </tr>\n",
       "    <tr>\n",
       "      <th>PassengerId</th>\n",
       "      <th></th>\n",
       "      <th></th>\n",
       "      <th></th>\n",
       "      <th></th>\n",
       "      <th></th>\n",
       "      <th></th>\n",
       "      <th></th>\n",
       "      <th></th>\n",
       "      <th></th>\n",
       "      <th></th>\n",
       "      <th></th>\n",
       "      <th></th>\n",
       "    </tr>\n",
       "  </thead>\n",
       "  <tbody>\n",
       "    <tr>\n",
       "      <th>1</th>\n",
       "      <td>0</td>\n",
       "      <td>3</td>\n",
       "      <td>Braund, Mr. Owen Harris</td>\n",
       "      <td>male</td>\n",
       "      <td>22.0</td>\n",
       "      <td>1</td>\n",
       "      <td>0</td>\n",
       "      <td>A/5 21171</td>\n",
       "      <td>7.2500</td>\n",
       "      <td>None</td>\n",
       "      <td>S</td>\n",
       "      <td>False</td>\n",
       "    </tr>\n",
       "    <tr>\n",
       "      <th>2</th>\n",
       "      <td>1</td>\n",
       "      <td>1</td>\n",
       "      <td>Cumings, Mrs. John Bradley (Florence Briggs Th...</td>\n",
       "      <td>female</td>\n",
       "      <td>38.0</td>\n",
       "      <td>1</td>\n",
       "      <td>0</td>\n",
       "      <td>PC 17599</td>\n",
       "      <td>71.2833</td>\n",
       "      <td>C85</td>\n",
       "      <td>C</td>\n",
       "      <td>True</td>\n",
       "    </tr>\n",
       "    <tr>\n",
       "      <th>3</th>\n",
       "      <td>1</td>\n",
       "      <td>3</td>\n",
       "      <td>Heikkinen, Miss. Laina</td>\n",
       "      <td>female</td>\n",
       "      <td>26.0</td>\n",
       "      <td>0</td>\n",
       "      <td>0</td>\n",
       "      <td>STON/O2. 3101282</td>\n",
       "      <td>7.9250</td>\n",
       "      <td>None</td>\n",
       "      <td>S</td>\n",
       "      <td>False</td>\n",
       "    </tr>\n",
       "    <tr>\n",
       "      <th>4</th>\n",
       "      <td>1</td>\n",
       "      <td>1</td>\n",
       "      <td>Futrelle, Mrs. Jacques Heath (Lily May Peel)</td>\n",
       "      <td>female</td>\n",
       "      <td>35.0</td>\n",
       "      <td>1</td>\n",
       "      <td>0</td>\n",
       "      <td>113803</td>\n",
       "      <td>53.1000</td>\n",
       "      <td>C123</td>\n",
       "      <td>S</td>\n",
       "      <td>True</td>\n",
       "    </tr>\n",
       "    <tr>\n",
       "      <th>5</th>\n",
       "      <td>0</td>\n",
       "      <td>3</td>\n",
       "      <td>Allen, Mr. William Henry</td>\n",
       "      <td>male</td>\n",
       "      <td>35.0</td>\n",
       "      <td>0</td>\n",
       "      <td>0</td>\n",
       "      <td>373450</td>\n",
       "      <td>8.0500</td>\n",
       "      <td>None</td>\n",
       "      <td>S</td>\n",
       "      <td>False</td>\n",
       "    </tr>\n",
       "    <tr>\n",
       "      <th>6</th>\n",
       "      <td>0</td>\n",
       "      <td>3</td>\n",
       "      <td>Moran, Mr. James</td>\n",
       "      <td>female</td>\n",
       "      <td>28.0</td>\n",
       "      <td>0</td>\n",
       "      <td>0</td>\n",
       "      <td>330877</td>\n",
       "      <td>8.4583</td>\n",
       "      <td>None</td>\n",
       "      <td>Q</td>\n",
       "      <td>False</td>\n",
       "    </tr>\n",
       "    <tr>\n",
       "      <th>7</th>\n",
       "      <td>0</td>\n",
       "      <td>1</td>\n",
       "      <td>McCarthy, Mr. Timothy J</td>\n",
       "      <td>male</td>\n",
       "      <td>54.0</td>\n",
       "      <td>0</td>\n",
       "      <td>0</td>\n",
       "      <td>17463</td>\n",
       "      <td>51.8625</td>\n",
       "      <td>E46</td>\n",
       "      <td>S</td>\n",
       "      <td>True</td>\n",
       "    </tr>\n",
       "    <tr>\n",
       "      <th>8</th>\n",
       "      <td>0</td>\n",
       "      <td>3</td>\n",
       "      <td>Palsson, Master. Gosta Leonard</td>\n",
       "      <td>male</td>\n",
       "      <td>2.0</td>\n",
       "      <td>3</td>\n",
       "      <td>1</td>\n",
       "      <td>349909</td>\n",
       "      <td>21.0750</td>\n",
       "      <td>None</td>\n",
       "      <td>S</td>\n",
       "      <td>False</td>\n",
       "    </tr>\n",
       "    <tr>\n",
       "      <th>9</th>\n",
       "      <td>1</td>\n",
       "      <td>3</td>\n",
       "      <td>Johnson, Mrs. Oscar W (Elisabeth Vilhelmina Berg)</td>\n",
       "      <td>female</td>\n",
       "      <td>27.0</td>\n",
       "      <td>0</td>\n",
       "      <td>2</td>\n",
       "      <td>347742</td>\n",
       "      <td>11.1333</td>\n",
       "      <td>None</td>\n",
       "      <td>S</td>\n",
       "      <td>False</td>\n",
       "    </tr>\n",
       "    <tr>\n",
       "      <th>10</th>\n",
       "      <td>1</td>\n",
       "      <td>2</td>\n",
       "      <td>Nasser, Mrs. Nicholas (Adele Achem)</td>\n",
       "      <td>female</td>\n",
       "      <td>14.0</td>\n",
       "      <td>1</td>\n",
       "      <td>0</td>\n",
       "      <td>237736</td>\n",
       "      <td>30.0708</td>\n",
       "      <td>None</td>\n",
       "      <td>C</td>\n",
       "      <td>False</td>\n",
       "    </tr>\n",
       "    <tr>\n",
       "      <th>11</th>\n",
       "      <td>1</td>\n",
       "      <td>3</td>\n",
       "      <td>Sandstrom, Miss. Marguerite Rut</td>\n",
       "      <td>female</td>\n",
       "      <td>4.0</td>\n",
       "      <td>1</td>\n",
       "      <td>1</td>\n",
       "      <td>PP 9549</td>\n",
       "      <td>16.7000</td>\n",
       "      <td>G6</td>\n",
       "      <td>S</td>\n",
       "      <td>False</td>\n",
       "    </tr>\n",
       "    <tr>\n",
       "      <th>12</th>\n",
       "      <td>1</td>\n",
       "      <td>1</td>\n",
       "      <td>Bonnell, Miss. Elizabeth</td>\n",
       "      <td>female</td>\n",
       "      <td>58.0</td>\n",
       "      <td>0</td>\n",
       "      <td>0</td>\n",
       "      <td>113783</td>\n",
       "      <td>26.5500</td>\n",
       "      <td>C103</td>\n",
       "      <td>S</td>\n",
       "      <td>False</td>\n",
       "    </tr>\n",
       "    <tr>\n",
       "      <th>13</th>\n",
       "      <td>0</td>\n",
       "      <td>3</td>\n",
       "      <td>Saundercock, Mr. William Henry</td>\n",
       "      <td>male</td>\n",
       "      <td>20.0</td>\n",
       "      <td>0</td>\n",
       "      <td>0</td>\n",
       "      <td>A/5. 2151</td>\n",
       "      <td>8.0500</td>\n",
       "      <td>None</td>\n",
       "      <td>S</td>\n",
       "      <td>False</td>\n",
       "    </tr>\n",
       "    <tr>\n",
       "      <th>14</th>\n",
       "      <td>0</td>\n",
       "      <td>3</td>\n",
       "      <td>Andersson, Mr. Anders Johan</td>\n",
       "      <td>male</td>\n",
       "      <td>39.0</td>\n",
       "      <td>1</td>\n",
       "      <td>5</td>\n",
       "      <td>347082</td>\n",
       "      <td>31.2750</td>\n",
       "      <td>None</td>\n",
       "      <td>S</td>\n",
       "      <td>True</td>\n",
       "    </tr>\n",
       "    <tr>\n",
       "      <th>15</th>\n",
       "      <td>0</td>\n",
       "      <td>3</td>\n",
       "      <td>Vestrom, Miss. Hulda Amanda Adolfina</td>\n",
       "      <td>female</td>\n",
       "      <td>14.0</td>\n",
       "      <td>0</td>\n",
       "      <td>0</td>\n",
       "      <td>350406</td>\n",
       "      <td>7.8542</td>\n",
       "      <td>None</td>\n",
       "      <td>S</td>\n",
       "      <td>False</td>\n",
       "    </tr>\n",
       "    <tr>\n",
       "      <th>16</th>\n",
       "      <td>1</td>\n",
       "      <td>2</td>\n",
       "      <td>Hewlett, Mrs. (Mary D Kingcome)</td>\n",
       "      <td>female</td>\n",
       "      <td>55.0</td>\n",
       "      <td>0</td>\n",
       "      <td>0</td>\n",
       "      <td>248706</td>\n",
       "      <td>16.0000</td>\n",
       "      <td>None</td>\n",
       "      <td>S</td>\n",
       "      <td>False</td>\n",
       "    </tr>\n",
       "    <tr>\n",
       "      <th>17</th>\n",
       "      <td>0</td>\n",
       "      <td>3</td>\n",
       "      <td>Rice, Master. Eugene</td>\n",
       "      <td>male</td>\n",
       "      <td>2.0</td>\n",
       "      <td>4</td>\n",
       "      <td>1</td>\n",
       "      <td>382652</td>\n",
       "      <td>29.1250</td>\n",
       "      <td>None</td>\n",
       "      <td>Q</td>\n",
       "      <td>False</td>\n",
       "    </tr>\n",
       "    <tr>\n",
       "      <th>18</th>\n",
       "      <td>1</td>\n",
       "      <td>2</td>\n",
       "      <td>Williams, Mr. Charles Eugene</td>\n",
       "      <td>male</td>\n",
       "      <td>28.0</td>\n",
       "      <td>0</td>\n",
       "      <td>0</td>\n",
       "      <td>244373</td>\n",
       "      <td>13.0000</td>\n",
       "      <td>None</td>\n",
       "      <td>S</td>\n",
       "      <td>False</td>\n",
       "    </tr>\n",
       "    <tr>\n",
       "      <th>19</th>\n",
       "      <td>0</td>\n",
       "      <td>3</td>\n",
       "      <td>Vander Planke, Mrs. Julius (Emelia Maria Vande...</td>\n",
       "      <td>female</td>\n",
       "      <td>31.0</td>\n",
       "      <td>1</td>\n",
       "      <td>0</td>\n",
       "      <td>345763</td>\n",
       "      <td>18.0000</td>\n",
       "      <td>None</td>\n",
       "      <td>S</td>\n",
       "      <td>False</td>\n",
       "    </tr>\n",
       "    <tr>\n",
       "      <th>20</th>\n",
       "      <td>1</td>\n",
       "      <td>3</td>\n",
       "      <td>Masselmani, Mrs. Fatima</td>\n",
       "      <td>female</td>\n",
       "      <td>28.0</td>\n",
       "      <td>0</td>\n",
       "      <td>0</td>\n",
       "      <td>2649</td>\n",
       "      <td>7.2250</td>\n",
       "      <td>None</td>\n",
       "      <td>C</td>\n",
       "      <td>False</td>\n",
       "    </tr>\n",
       "    <tr>\n",
       "      <th>21</th>\n",
       "      <td>0</td>\n",
       "      <td>2</td>\n",
       "      <td>Fynney, Mr. Joseph J</td>\n",
       "      <td>male</td>\n",
       "      <td>35.0</td>\n",
       "      <td>0</td>\n",
       "      <td>0</td>\n",
       "      <td>239865</td>\n",
       "      <td>26.0000</td>\n",
       "      <td>None</td>\n",
       "      <td>S</td>\n",
       "      <td>False</td>\n",
       "    </tr>\n",
       "    <tr>\n",
       "      <th>22</th>\n",
       "      <td>1</td>\n",
       "      <td>2</td>\n",
       "      <td>Beesley, Mr. Lawrence</td>\n",
       "      <td>male</td>\n",
       "      <td>34.0</td>\n",
       "      <td>0</td>\n",
       "      <td>0</td>\n",
       "      <td>248698</td>\n",
       "      <td>13.0000</td>\n",
       "      <td>D56</td>\n",
       "      <td>S</td>\n",
       "      <td>False</td>\n",
       "    </tr>\n",
       "    <tr>\n",
       "      <th>23</th>\n",
       "      <td>1</td>\n",
       "      <td>3</td>\n",
       "      <td>\"McGowan, Miss. Anna \"\"Annie\"\"\"</td>\n",
       "      <td>female</td>\n",
       "      <td>15.0</td>\n",
       "      <td>0</td>\n",
       "      <td>0</td>\n",
       "      <td>330923</td>\n",
       "      <td>8.0292</td>\n",
       "      <td>None</td>\n",
       "      <td>Q</td>\n",
       "      <td>False</td>\n",
       "    </tr>\n",
       "    <tr>\n",
       "      <th>24</th>\n",
       "      <td>1</td>\n",
       "      <td>1</td>\n",
       "      <td>Sloper, Mr. William Thompson</td>\n",
       "      <td>male</td>\n",
       "      <td>28.0</td>\n",
       "      <td>0</td>\n",
       "      <td>0</td>\n",
       "      <td>113788</td>\n",
       "      <td>35.5000</td>\n",
       "      <td>A6</td>\n",
       "      <td>S</td>\n",
       "      <td>True</td>\n",
       "    </tr>\n",
       "    <tr>\n",
       "      <th>25</th>\n",
       "      <td>0</td>\n",
       "      <td>3</td>\n",
       "      <td>Palsson, Miss. Torborg Danira</td>\n",
       "      <td>female</td>\n",
       "      <td>8.0</td>\n",
       "      <td>3</td>\n",
       "      <td>1</td>\n",
       "      <td>349909</td>\n",
       "      <td>21.0750</td>\n",
       "      <td>None</td>\n",
       "      <td>S</td>\n",
       "      <td>False</td>\n",
       "    </tr>\n",
       "    <tr>\n",
       "      <th>26</th>\n",
       "      <td>1</td>\n",
       "      <td>3</td>\n",
       "      <td>Asplund, Mrs. Carl Oscar (Selma Augusta Emilia...</td>\n",
       "      <td>female</td>\n",
       "      <td>38.0</td>\n",
       "      <td>1</td>\n",
       "      <td>5</td>\n",
       "      <td>347077</td>\n",
       "      <td>31.3875</td>\n",
       "      <td>None</td>\n",
       "      <td>S</td>\n",
       "      <td>True</td>\n",
       "    </tr>\n",
       "    <tr>\n",
       "      <th>27</th>\n",
       "      <td>0</td>\n",
       "      <td>3</td>\n",
       "      <td>Emir, Mr. Farred Chehab</td>\n",
       "      <td>male</td>\n",
       "      <td>28.0</td>\n",
       "      <td>0</td>\n",
       "      <td>0</td>\n",
       "      <td>2631</td>\n",
       "      <td>7.2250</td>\n",
       "      <td>None</td>\n",
       "      <td>C</td>\n",
       "      <td>False</td>\n",
       "    </tr>\n",
       "    <tr>\n",
       "      <th>28</th>\n",
       "      <td>0</td>\n",
       "      <td>1</td>\n",
       "      <td>Fortune, Mr. Charles Alexander</td>\n",
       "      <td>male</td>\n",
       "      <td>19.0</td>\n",
       "      <td>3</td>\n",
       "      <td>2</td>\n",
       "      <td>19950</td>\n",
       "      <td>263.0000</td>\n",
       "      <td>C23 C25 C27</td>\n",
       "      <td>S</td>\n",
       "      <td>True</td>\n",
       "    </tr>\n",
       "    <tr>\n",
       "      <th>29</th>\n",
       "      <td>1</td>\n",
       "      <td>3</td>\n",
       "      <td>\"O'Dwyer, Miss. Ellen \"\"Nellie\"\"\"</td>\n",
       "      <td>female</td>\n",
       "      <td>28.0</td>\n",
       "      <td>0</td>\n",
       "      <td>0</td>\n",
       "      <td>330959</td>\n",
       "      <td>7.8792</td>\n",
       "      <td>None</td>\n",
       "      <td>Q</td>\n",
       "      <td>False</td>\n",
       "    </tr>\n",
       "    <tr>\n",
       "      <th>30</th>\n",
       "      <td>0</td>\n",
       "      <td>3</td>\n",
       "      <td>Todoroff, Mr. Lalio</td>\n",
       "      <td>male</td>\n",
       "      <td>28.0</td>\n",
       "      <td>0</td>\n",
       "      <td>0</td>\n",
       "      <td>349216</td>\n",
       "      <td>7.8958</td>\n",
       "      <td>None</td>\n",
       "      <td>S</td>\n",
       "      <td>False</td>\n",
       "    </tr>\n",
       "    <tr>\n",
       "      <th>...</th>\n",
       "      <td>...</td>\n",
       "      <td>...</td>\n",
       "      <td>...</td>\n",
       "      <td>...</td>\n",
       "      <td>...</td>\n",
       "      <td>...</td>\n",
       "      <td>...</td>\n",
       "      <td>...</td>\n",
       "      <td>...</td>\n",
       "      <td>...</td>\n",
       "      <td>...</td>\n",
       "      <td>...</td>\n",
       "    </tr>\n",
       "    <tr>\n",
       "      <th>862</th>\n",
       "      <td>0</td>\n",
       "      <td>2</td>\n",
       "      <td>Giles, Mr. Frederick Edward</td>\n",
       "      <td>male</td>\n",
       "      <td>21.0</td>\n",
       "      <td>1</td>\n",
       "      <td>0</td>\n",
       "      <td>28134</td>\n",
       "      <td>11.5000</td>\n",
       "      <td>None</td>\n",
       "      <td>S</td>\n",
       "      <td>False</td>\n",
       "    </tr>\n",
       "    <tr>\n",
       "      <th>863</th>\n",
       "      <td>1</td>\n",
       "      <td>1</td>\n",
       "      <td>Swift, Mrs. Frederick Joel (Margaret Welles Ba...</td>\n",
       "      <td>female</td>\n",
       "      <td>48.0</td>\n",
       "      <td>0</td>\n",
       "      <td>0</td>\n",
       "      <td>17466</td>\n",
       "      <td>25.9292</td>\n",
       "      <td>D17</td>\n",
       "      <td>S</td>\n",
       "      <td>False</td>\n",
       "    </tr>\n",
       "    <tr>\n",
       "      <th>864</th>\n",
       "      <td>0</td>\n",
       "      <td>3</td>\n",
       "      <td>\"Sage, Miss. Dorothy Edith \"\"Dolly\"\"\"</td>\n",
       "      <td>female</td>\n",
       "      <td>28.0</td>\n",
       "      <td>8</td>\n",
       "      <td>2</td>\n",
       "      <td>CA. 2343</td>\n",
       "      <td>69.5500</td>\n",
       "      <td>None</td>\n",
       "      <td>S</td>\n",
       "      <td>True</td>\n",
       "    </tr>\n",
       "    <tr>\n",
       "      <th>865</th>\n",
       "      <td>0</td>\n",
       "      <td>2</td>\n",
       "      <td>Gill, Mr. John William</td>\n",
       "      <td>male</td>\n",
       "      <td>24.0</td>\n",
       "      <td>0</td>\n",
       "      <td>0</td>\n",
       "      <td>233866</td>\n",
       "      <td>13.0000</td>\n",
       "      <td>None</td>\n",
       "      <td>S</td>\n",
       "      <td>False</td>\n",
       "    </tr>\n",
       "    <tr>\n",
       "      <th>866</th>\n",
       "      <td>1</td>\n",
       "      <td>2</td>\n",
       "      <td>Bystrom, Mrs. (Karolina)</td>\n",
       "      <td>female</td>\n",
       "      <td>42.0</td>\n",
       "      <td>0</td>\n",
       "      <td>0</td>\n",
       "      <td>236852</td>\n",
       "      <td>13.0000</td>\n",
       "      <td>None</td>\n",
       "      <td>S</td>\n",
       "      <td>False</td>\n",
       "    </tr>\n",
       "    <tr>\n",
       "      <th>867</th>\n",
       "      <td>1</td>\n",
       "      <td>2</td>\n",
       "      <td>Duran y More, Miss. Asuncion</td>\n",
       "      <td>female</td>\n",
       "      <td>27.0</td>\n",
       "      <td>1</td>\n",
       "      <td>0</td>\n",
       "      <td>SC/PARIS 2149</td>\n",
       "      <td>13.8583</td>\n",
       "      <td>None</td>\n",
       "      <td>C</td>\n",
       "      <td>False</td>\n",
       "    </tr>\n",
       "    <tr>\n",
       "      <th>868</th>\n",
       "      <td>0</td>\n",
       "      <td>1</td>\n",
       "      <td>Roebling, Mr. Washington Augustus II</td>\n",
       "      <td>male</td>\n",
       "      <td>31.0</td>\n",
       "      <td>0</td>\n",
       "      <td>0</td>\n",
       "      <td>PC 17590</td>\n",
       "      <td>50.4958</td>\n",
       "      <td>A24</td>\n",
       "      <td>S</td>\n",
       "      <td>True</td>\n",
       "    </tr>\n",
       "    <tr>\n",
       "      <th>869</th>\n",
       "      <td>0</td>\n",
       "      <td>3</td>\n",
       "      <td>van Melkebeke, Mr. Philemon</td>\n",
       "      <td>male</td>\n",
       "      <td>28.0</td>\n",
       "      <td>0</td>\n",
       "      <td>0</td>\n",
       "      <td>345777</td>\n",
       "      <td>9.5000</td>\n",
       "      <td>None</td>\n",
       "      <td>S</td>\n",
       "      <td>False</td>\n",
       "    </tr>\n",
       "    <tr>\n",
       "      <th>870</th>\n",
       "      <td>1</td>\n",
       "      <td>3</td>\n",
       "      <td>Johnson, Master. Harold Theodor</td>\n",
       "      <td>male</td>\n",
       "      <td>4.0</td>\n",
       "      <td>1</td>\n",
       "      <td>1</td>\n",
       "      <td>347742</td>\n",
       "      <td>11.1333</td>\n",
       "      <td>None</td>\n",
       "      <td>S</td>\n",
       "      <td>False</td>\n",
       "    </tr>\n",
       "    <tr>\n",
       "      <th>871</th>\n",
       "      <td>0</td>\n",
       "      <td>3</td>\n",
       "      <td>Balkic, Mr. Cerin</td>\n",
       "      <td>male</td>\n",
       "      <td>26.0</td>\n",
       "      <td>0</td>\n",
       "      <td>0</td>\n",
       "      <td>349248</td>\n",
       "      <td>7.8958</td>\n",
       "      <td>None</td>\n",
       "      <td>S</td>\n",
       "      <td>False</td>\n",
       "    </tr>\n",
       "    <tr>\n",
       "      <th>872</th>\n",
       "      <td>1</td>\n",
       "      <td>1</td>\n",
       "      <td>Beckwith, Mrs. Richard Leonard (Sallie Monypeny)</td>\n",
       "      <td>female</td>\n",
       "      <td>47.0</td>\n",
       "      <td>1</td>\n",
       "      <td>1</td>\n",
       "      <td>11751</td>\n",
       "      <td>52.5542</td>\n",
       "      <td>D35</td>\n",
       "      <td>S</td>\n",
       "      <td>True</td>\n",
       "    </tr>\n",
       "    <tr>\n",
       "      <th>873</th>\n",
       "      <td>0</td>\n",
       "      <td>1</td>\n",
       "      <td>Carlsson, Mr. Frans Olof</td>\n",
       "      <td>male</td>\n",
       "      <td>33.0</td>\n",
       "      <td>0</td>\n",
       "      <td>0</td>\n",
       "      <td>695</td>\n",
       "      <td>5.0000</td>\n",
       "      <td>B51 B53 B55</td>\n",
       "      <td>S</td>\n",
       "      <td>False</td>\n",
       "    </tr>\n",
       "    <tr>\n",
       "      <th>874</th>\n",
       "      <td>0</td>\n",
       "      <td>3</td>\n",
       "      <td>Vander Cruyssen, Mr. Victor</td>\n",
       "      <td>male</td>\n",
       "      <td>47.0</td>\n",
       "      <td>0</td>\n",
       "      <td>0</td>\n",
       "      <td>345765</td>\n",
       "      <td>9.0000</td>\n",
       "      <td>None</td>\n",
       "      <td>S</td>\n",
       "      <td>False</td>\n",
       "    </tr>\n",
       "    <tr>\n",
       "      <th>875</th>\n",
       "      <td>1</td>\n",
       "      <td>2</td>\n",
       "      <td>Abelson, Mrs. Samuel (Hannah Wizosky)</td>\n",
       "      <td>female</td>\n",
       "      <td>28.0</td>\n",
       "      <td>1</td>\n",
       "      <td>0</td>\n",
       "      <td>P/PP 3381</td>\n",
       "      <td>24.0000</td>\n",
       "      <td>None</td>\n",
       "      <td>C</td>\n",
       "      <td>False</td>\n",
       "    </tr>\n",
       "    <tr>\n",
       "      <th>876</th>\n",
       "      <td>1</td>\n",
       "      <td>3</td>\n",
       "      <td>\"Najib, Miss. Adele Kiamie \"\"Jane\"\"\"</td>\n",
       "      <td>female</td>\n",
       "      <td>15.0</td>\n",
       "      <td>0</td>\n",
       "      <td>0</td>\n",
       "      <td>2667</td>\n",
       "      <td>7.2250</td>\n",
       "      <td>None</td>\n",
       "      <td>C</td>\n",
       "      <td>False</td>\n",
       "    </tr>\n",
       "    <tr>\n",
       "      <th>877</th>\n",
       "      <td>0</td>\n",
       "      <td>3</td>\n",
       "      <td>Gustafsson, Mr. Alfred Ossian</td>\n",
       "      <td>male</td>\n",
       "      <td>20.0</td>\n",
       "      <td>0</td>\n",
       "      <td>0</td>\n",
       "      <td>7534</td>\n",
       "      <td>9.8458</td>\n",
       "      <td>None</td>\n",
       "      <td>S</td>\n",
       "      <td>False</td>\n",
       "    </tr>\n",
       "    <tr>\n",
       "      <th>878</th>\n",
       "      <td>0</td>\n",
       "      <td>3</td>\n",
       "      <td>Petroff, Mr. Nedelio</td>\n",
       "      <td>male</td>\n",
       "      <td>19.0</td>\n",
       "      <td>0</td>\n",
       "      <td>0</td>\n",
       "      <td>349212</td>\n",
       "      <td>7.8958</td>\n",
       "      <td>None</td>\n",
       "      <td>S</td>\n",
       "      <td>False</td>\n",
       "    </tr>\n",
       "    <tr>\n",
       "      <th>879</th>\n",
       "      <td>0</td>\n",
       "      <td>3</td>\n",
       "      <td>Laleff, Mr. Kristo</td>\n",
       "      <td>male</td>\n",
       "      <td>28.0</td>\n",
       "      <td>0</td>\n",
       "      <td>0</td>\n",
       "      <td>349217</td>\n",
       "      <td>7.8958</td>\n",
       "      <td>None</td>\n",
       "      <td>S</td>\n",
       "      <td>False</td>\n",
       "    </tr>\n",
       "    <tr>\n",
       "      <th>880</th>\n",
       "      <td>1</td>\n",
       "      <td>1</td>\n",
       "      <td>Potter, Mrs. Thomas Jr (Lily Alexenia Wilson)</td>\n",
       "      <td>female</td>\n",
       "      <td>56.0</td>\n",
       "      <td>0</td>\n",
       "      <td>1</td>\n",
       "      <td>11767</td>\n",
       "      <td>83.1583</td>\n",
       "      <td>C50</td>\n",
       "      <td>C</td>\n",
       "      <td>True</td>\n",
       "    </tr>\n",
       "    <tr>\n",
       "      <th>881</th>\n",
       "      <td>1</td>\n",
       "      <td>2</td>\n",
       "      <td>Shelley, Mrs. William (Imanita Parrish Hall)</td>\n",
       "      <td>female</td>\n",
       "      <td>25.0</td>\n",
       "      <td>0</td>\n",
       "      <td>1</td>\n",
       "      <td>230433</td>\n",
       "      <td>26.0000</td>\n",
       "      <td>None</td>\n",
       "      <td>S</td>\n",
       "      <td>False</td>\n",
       "    </tr>\n",
       "    <tr>\n",
       "      <th>882</th>\n",
       "      <td>0</td>\n",
       "      <td>3</td>\n",
       "      <td>Markun, Mr. Johann</td>\n",
       "      <td>male</td>\n",
       "      <td>33.0</td>\n",
       "      <td>0</td>\n",
       "      <td>0</td>\n",
       "      <td>349257</td>\n",
       "      <td>7.8958</td>\n",
       "      <td>None</td>\n",
       "      <td>S</td>\n",
       "      <td>False</td>\n",
       "    </tr>\n",
       "    <tr>\n",
       "      <th>883</th>\n",
       "      <td>0</td>\n",
       "      <td>3</td>\n",
       "      <td>Dahlberg, Miss. Gerda Ulrika</td>\n",
       "      <td>female</td>\n",
       "      <td>22.0</td>\n",
       "      <td>0</td>\n",
       "      <td>0</td>\n",
       "      <td>7552</td>\n",
       "      <td>10.5167</td>\n",
       "      <td>None</td>\n",
       "      <td>S</td>\n",
       "      <td>False</td>\n",
       "    </tr>\n",
       "    <tr>\n",
       "      <th>884</th>\n",
       "      <td>0</td>\n",
       "      <td>2</td>\n",
       "      <td>Banfield, Mr. Frederick James</td>\n",
       "      <td>male</td>\n",
       "      <td>28.0</td>\n",
       "      <td>0</td>\n",
       "      <td>0</td>\n",
       "      <td>C.A./SOTON 34068</td>\n",
       "      <td>10.5000</td>\n",
       "      <td>None</td>\n",
       "      <td>S</td>\n",
       "      <td>False</td>\n",
       "    </tr>\n",
       "    <tr>\n",
       "      <th>885</th>\n",
       "      <td>0</td>\n",
       "      <td>3</td>\n",
       "      <td>Sutehall, Mr. Henry Jr</td>\n",
       "      <td>male</td>\n",
       "      <td>25.0</td>\n",
       "      <td>0</td>\n",
       "      <td>0</td>\n",
       "      <td>SOTON/OQ 392076</td>\n",
       "      <td>7.0500</td>\n",
       "      <td>None</td>\n",
       "      <td>S</td>\n",
       "      <td>False</td>\n",
       "    </tr>\n",
       "    <tr>\n",
       "      <th>886</th>\n",
       "      <td>0</td>\n",
       "      <td>3</td>\n",
       "      <td>Rice, Mrs. William (Margaret Norton)</td>\n",
       "      <td>female</td>\n",
       "      <td>39.0</td>\n",
       "      <td>0</td>\n",
       "      <td>5</td>\n",
       "      <td>382652</td>\n",
       "      <td>29.1250</td>\n",
       "      <td>None</td>\n",
       "      <td>Q</td>\n",
       "      <td>False</td>\n",
       "    </tr>\n",
       "    <tr>\n",
       "      <th>887</th>\n",
       "      <td>0</td>\n",
       "      <td>2</td>\n",
       "      <td>Montvila, Rev. Juozas</td>\n",
       "      <td>male</td>\n",
       "      <td>27.0</td>\n",
       "      <td>0</td>\n",
       "      <td>0</td>\n",
       "      <td>211536</td>\n",
       "      <td>13.0000</td>\n",
       "      <td>None</td>\n",
       "      <td>S</td>\n",
       "      <td>False</td>\n",
       "    </tr>\n",
       "    <tr>\n",
       "      <th>888</th>\n",
       "      <td>1</td>\n",
       "      <td>1</td>\n",
       "      <td>Graham, Miss. Margaret Edith</td>\n",
       "      <td>female</td>\n",
       "      <td>19.0</td>\n",
       "      <td>0</td>\n",
       "      <td>0</td>\n",
       "      <td>112053</td>\n",
       "      <td>30.0000</td>\n",
       "      <td>B42</td>\n",
       "      <td>S</td>\n",
       "      <td>False</td>\n",
       "    </tr>\n",
       "    <tr>\n",
       "      <th>889</th>\n",
       "      <td>0</td>\n",
       "      <td>3</td>\n",
       "      <td>\"Johnston, Miss. Catherine Helen \"\"Carrie\"\"\"</td>\n",
       "      <td>female</td>\n",
       "      <td>28.0</td>\n",
       "      <td>1</td>\n",
       "      <td>2</td>\n",
       "      <td>W./C. 6607</td>\n",
       "      <td>23.4500</td>\n",
       "      <td>None</td>\n",
       "      <td>S</td>\n",
       "      <td>False</td>\n",
       "    </tr>\n",
       "    <tr>\n",
       "      <th>890</th>\n",
       "      <td>1</td>\n",
       "      <td>1</td>\n",
       "      <td>Behr, Mr. Karl Howell</td>\n",
       "      <td>male</td>\n",
       "      <td>26.0</td>\n",
       "      <td>0</td>\n",
       "      <td>0</td>\n",
       "      <td>111369</td>\n",
       "      <td>30.0000</td>\n",
       "      <td>C148</td>\n",
       "      <td>C</td>\n",
       "      <td>False</td>\n",
       "    </tr>\n",
       "    <tr>\n",
       "      <th>891</th>\n",
       "      <td>0</td>\n",
       "      <td>3</td>\n",
       "      <td>Dooley, Mr. Patrick</td>\n",
       "      <td>male</td>\n",
       "      <td>32.0</td>\n",
       "      <td>0</td>\n",
       "      <td>0</td>\n",
       "      <td>370376</td>\n",
       "      <td>7.7500</td>\n",
       "      <td>None</td>\n",
       "      <td>Q</td>\n",
       "      <td>False</td>\n",
       "    </tr>\n",
       "  </tbody>\n",
       "</table>\n",
       "<p>884 rows × 12 columns</p>\n",
       "</div>"
      ],
      "text/plain": [
       "             Survived  Pclass  \\\n",
       "PassengerId                     \n",
       "1                   0       3   \n",
       "2                   1       1   \n",
       "3                   1       3   \n",
       "4                   1       1   \n",
       "5                   0       3   \n",
       "6                   0       3   \n",
       "7                   0       1   \n",
       "8                   0       3   \n",
       "9                   1       3   \n",
       "10                  1       2   \n",
       "11                  1       3   \n",
       "12                  1       1   \n",
       "13                  0       3   \n",
       "14                  0       3   \n",
       "15                  0       3   \n",
       "16                  1       2   \n",
       "17                  0       3   \n",
       "18                  1       2   \n",
       "19                  0       3   \n",
       "20                  1       3   \n",
       "21                  0       2   \n",
       "22                  1       2   \n",
       "23                  1       3   \n",
       "24                  1       1   \n",
       "25                  0       3   \n",
       "26                  1       3   \n",
       "27                  0       3   \n",
       "28                  0       1   \n",
       "29                  1       3   \n",
       "30                  0       3   \n",
       "...               ...     ...   \n",
       "862                 0       2   \n",
       "863                 1       1   \n",
       "864                 0       3   \n",
       "865                 0       2   \n",
       "866                 1       2   \n",
       "867                 1       2   \n",
       "868                 0       1   \n",
       "869                 0       3   \n",
       "870                 1       3   \n",
       "871                 0       3   \n",
       "872                 1       1   \n",
       "873                 0       1   \n",
       "874                 0       3   \n",
       "875                 1       2   \n",
       "876                 1       3   \n",
       "877                 0       3   \n",
       "878                 0       3   \n",
       "879                 0       3   \n",
       "880                 1       1   \n",
       "881                 1       2   \n",
       "882                 0       3   \n",
       "883                 0       3   \n",
       "884                 0       2   \n",
       "885                 0       3   \n",
       "886                 0       3   \n",
       "887                 0       2   \n",
       "888                 1       1   \n",
       "889                 0       3   \n",
       "890                 1       1   \n",
       "891                 0       3   \n",
       "\n",
       "                                                          Name     Sex   Age  \\\n",
       "PassengerId                                                                    \n",
       "1                                      Braund, Mr. Owen Harris    male  22.0   \n",
       "2            Cumings, Mrs. John Bradley (Florence Briggs Th...  female  38.0   \n",
       "3                                       Heikkinen, Miss. Laina  female  26.0   \n",
       "4                 Futrelle, Mrs. Jacques Heath (Lily May Peel)  female  35.0   \n",
       "5                                     Allen, Mr. William Henry    male  35.0   \n",
       "6                                             Moran, Mr. James  female  28.0   \n",
       "7                                      McCarthy, Mr. Timothy J    male  54.0   \n",
       "8                               Palsson, Master. Gosta Leonard    male   2.0   \n",
       "9            Johnson, Mrs. Oscar W (Elisabeth Vilhelmina Berg)  female  27.0   \n",
       "10                         Nasser, Mrs. Nicholas (Adele Achem)  female  14.0   \n",
       "11                             Sandstrom, Miss. Marguerite Rut  female   4.0   \n",
       "12                                    Bonnell, Miss. Elizabeth  female  58.0   \n",
       "13                              Saundercock, Mr. William Henry    male  20.0   \n",
       "14                                 Andersson, Mr. Anders Johan    male  39.0   \n",
       "15                        Vestrom, Miss. Hulda Amanda Adolfina  female  14.0   \n",
       "16                            Hewlett, Mrs. (Mary D Kingcome)   female  55.0   \n",
       "17                                        Rice, Master. Eugene    male   2.0   \n",
       "18                                Williams, Mr. Charles Eugene    male  28.0   \n",
       "19           Vander Planke, Mrs. Julius (Emelia Maria Vande...  female  31.0   \n",
       "20                                     Masselmani, Mrs. Fatima  female  28.0   \n",
       "21                                        Fynney, Mr. Joseph J    male  35.0   \n",
       "22                                       Beesley, Mr. Lawrence    male  34.0   \n",
       "23                             \"McGowan, Miss. Anna \"\"Annie\"\"\"  female  15.0   \n",
       "24                                Sloper, Mr. William Thompson    male  28.0   \n",
       "25                               Palsson, Miss. Torborg Danira  female   8.0   \n",
       "26           Asplund, Mrs. Carl Oscar (Selma Augusta Emilia...  female  38.0   \n",
       "27                                     Emir, Mr. Farred Chehab    male  28.0   \n",
       "28                              Fortune, Mr. Charles Alexander    male  19.0   \n",
       "29                           \"O'Dwyer, Miss. Ellen \"\"Nellie\"\"\"  female  28.0   \n",
       "30                                         Todoroff, Mr. Lalio    male  28.0   \n",
       "...                                                        ...     ...   ...   \n",
       "862                                Giles, Mr. Frederick Edward    male  21.0   \n",
       "863          Swift, Mrs. Frederick Joel (Margaret Welles Ba...  female  48.0   \n",
       "864                      \"Sage, Miss. Dorothy Edith \"\"Dolly\"\"\"  female  28.0   \n",
       "865                                     Gill, Mr. John William    male  24.0   \n",
       "866                                   Bystrom, Mrs. (Karolina)  female  42.0   \n",
       "867                               Duran y More, Miss. Asuncion  female  27.0   \n",
       "868                       Roebling, Mr. Washington Augustus II    male  31.0   \n",
       "869                                van Melkebeke, Mr. Philemon    male  28.0   \n",
       "870                            Johnson, Master. Harold Theodor    male   4.0   \n",
       "871                                          Balkic, Mr. Cerin    male  26.0   \n",
       "872           Beckwith, Mrs. Richard Leonard (Sallie Monypeny)  female  47.0   \n",
       "873                                   Carlsson, Mr. Frans Olof    male  33.0   \n",
       "874                                Vander Cruyssen, Mr. Victor    male  47.0   \n",
       "875                      Abelson, Mrs. Samuel (Hannah Wizosky)  female  28.0   \n",
       "876                       \"Najib, Miss. Adele Kiamie \"\"Jane\"\"\"  female  15.0   \n",
       "877                              Gustafsson, Mr. Alfred Ossian    male  20.0   \n",
       "878                                       Petroff, Mr. Nedelio    male  19.0   \n",
       "879                                         Laleff, Mr. Kristo    male  28.0   \n",
       "880              Potter, Mrs. Thomas Jr (Lily Alexenia Wilson)  female  56.0   \n",
       "881               Shelley, Mrs. William (Imanita Parrish Hall)  female  25.0   \n",
       "882                                         Markun, Mr. Johann    male  33.0   \n",
       "883                               Dahlberg, Miss. Gerda Ulrika  female  22.0   \n",
       "884                              Banfield, Mr. Frederick James    male  28.0   \n",
       "885                                     Sutehall, Mr. Henry Jr    male  25.0   \n",
       "886                       Rice, Mrs. William (Margaret Norton)  female  39.0   \n",
       "887                                      Montvila, Rev. Juozas    male  27.0   \n",
       "888                               Graham, Miss. Margaret Edith  female  19.0   \n",
       "889               \"Johnston, Miss. Catherine Helen \"\"Carrie\"\"\"  female  28.0   \n",
       "890                                      Behr, Mr. Karl Howell    male  26.0   \n",
       "891                                        Dooley, Mr. Patrick    male  32.0   \n",
       "\n",
       "             SibSp  Parch            Ticket      Fare        Cabin Embarked  \\\n",
       "PassengerId                                                                   \n",
       "1                1      0         A/5 21171    7.2500         None        S   \n",
       "2                1      0          PC 17599   71.2833          C85        C   \n",
       "3                0      0  STON/O2. 3101282    7.9250         None        S   \n",
       "4                1      0            113803   53.1000         C123        S   \n",
       "5                0      0            373450    8.0500         None        S   \n",
       "6                0      0            330877    8.4583         None        Q   \n",
       "7                0      0             17463   51.8625          E46        S   \n",
       "8                3      1            349909   21.0750         None        S   \n",
       "9                0      2            347742   11.1333         None        S   \n",
       "10               1      0            237736   30.0708         None        C   \n",
       "11               1      1           PP 9549   16.7000           G6        S   \n",
       "12               0      0            113783   26.5500         C103        S   \n",
       "13               0      0         A/5. 2151    8.0500         None        S   \n",
       "14               1      5            347082   31.2750         None        S   \n",
       "15               0      0            350406    7.8542         None        S   \n",
       "16               0      0            248706   16.0000         None        S   \n",
       "17               4      1            382652   29.1250         None        Q   \n",
       "18               0      0            244373   13.0000         None        S   \n",
       "19               1      0            345763   18.0000         None        S   \n",
       "20               0      0              2649    7.2250         None        C   \n",
       "21               0      0            239865   26.0000         None        S   \n",
       "22               0      0            248698   13.0000          D56        S   \n",
       "23               0      0            330923    8.0292         None        Q   \n",
       "24               0      0            113788   35.5000           A6        S   \n",
       "25               3      1            349909   21.0750         None        S   \n",
       "26               1      5            347077   31.3875         None        S   \n",
       "27               0      0              2631    7.2250         None        C   \n",
       "28               3      2             19950  263.0000  C23 C25 C27        S   \n",
       "29               0      0            330959    7.8792         None        Q   \n",
       "30               0      0            349216    7.8958         None        S   \n",
       "...            ...    ...               ...       ...          ...      ...   \n",
       "862              1      0             28134   11.5000         None        S   \n",
       "863              0      0             17466   25.9292          D17        S   \n",
       "864              8      2          CA. 2343   69.5500         None        S   \n",
       "865              0      0            233866   13.0000         None        S   \n",
       "866              0      0            236852   13.0000         None        S   \n",
       "867              1      0     SC/PARIS 2149   13.8583         None        C   \n",
       "868              0      0          PC 17590   50.4958          A24        S   \n",
       "869              0      0            345777    9.5000         None        S   \n",
       "870              1      1            347742   11.1333         None        S   \n",
       "871              0      0            349248    7.8958         None        S   \n",
       "872              1      1             11751   52.5542          D35        S   \n",
       "873              0      0               695    5.0000  B51 B53 B55        S   \n",
       "874              0      0            345765    9.0000         None        S   \n",
       "875              1      0         P/PP 3381   24.0000         None        C   \n",
       "876              0      0              2667    7.2250         None        C   \n",
       "877              0      0              7534    9.8458         None        S   \n",
       "878              0      0            349212    7.8958         None        S   \n",
       "879              0      0            349217    7.8958         None        S   \n",
       "880              0      1             11767   83.1583          C50        C   \n",
       "881              0      1            230433   26.0000         None        S   \n",
       "882              0      0            349257    7.8958         None        S   \n",
       "883              0      0              7552   10.5167         None        S   \n",
       "884              0      0  C.A./SOTON 34068   10.5000         None        S   \n",
       "885              0      0   SOTON/OQ 392076    7.0500         None        S   \n",
       "886              0      5            382652   29.1250         None        Q   \n",
       "887              0      0            211536   13.0000         None        S   \n",
       "888              0      0            112053   30.0000          B42        S   \n",
       "889              1      2        W./C. 6607   23.4500         None        S   \n",
       "890              0      0            111369   30.0000         C148        C   \n",
       "891              0      0            370376    7.7500         None        Q   \n",
       "\n",
       "             BilleteCaro  \n",
       "PassengerId               \n",
       "1                  False  \n",
       "2                   True  \n",
       "3                  False  \n",
       "4                   True  \n",
       "5                  False  \n",
       "6                  False  \n",
       "7                   True  \n",
       "8                  False  \n",
       "9                  False  \n",
       "10                 False  \n",
       "11                 False  \n",
       "12                 False  \n",
       "13                 False  \n",
       "14                  True  \n",
       "15                 False  \n",
       "16                 False  \n",
       "17                 False  \n",
       "18                 False  \n",
       "19                 False  \n",
       "20                 False  \n",
       "21                 False  \n",
       "22                 False  \n",
       "23                 False  \n",
       "24                  True  \n",
       "25                 False  \n",
       "26                  True  \n",
       "27                 False  \n",
       "28                  True  \n",
       "29                 False  \n",
       "30                 False  \n",
       "...                  ...  \n",
       "862                False  \n",
       "863                False  \n",
       "864                 True  \n",
       "865                False  \n",
       "866                False  \n",
       "867                False  \n",
       "868                 True  \n",
       "869                False  \n",
       "870                False  \n",
       "871                False  \n",
       "872                 True  \n",
       "873                False  \n",
       "874                False  \n",
       "875                False  \n",
       "876                False  \n",
       "877                False  \n",
       "878                False  \n",
       "879                False  \n",
       "880                 True  \n",
       "881                False  \n",
       "882                False  \n",
       "883                False  \n",
       "884                False  \n",
       "885                False  \n",
       "886                False  \n",
       "887                False  \n",
       "888                False  \n",
       "889                False  \n",
       "890                False  \n",
       "891                False  \n",
       "\n",
       "[884 rows x 12 columns]"
      ]
     },
     "execution_count": 264,
     "metadata": {
      "tags": []
     },
     "output_type": "execute_result"
    }
   ],
   "source": [
    "df.dropna(axis=1, \n",
    "          how=\"any\", \n",
    "          subset = df.columns[[\"ratio\" in c for c in df.columns.values]])"
   ]
  },
  {
   "cell_type": "code",
   "execution_count": 0,
   "metadata": {
    "colab": {
     "autoexec": {
      "startup": false,
      "wait_interval": 0
     }
    },
    "colab_type": "code",
    "id": "KZd6p31fRTO3",
    "outputId": "1539513c-fb6a-456a-b700-6d1a4b74ad7b"
   },
   "outputs": [
    {
     "data": {
      "text/plain": [
       "(180, 15)"
      ]
     },
     "execution_count": 246,
     "metadata": {
      "tags": []
     },
     "output_type": "execute_result"
    }
   ],
   "source": [
    "df.dropna().shape"
   ]
  },
  {
   "cell_type": "code",
   "execution_count": 0,
   "metadata": {
    "colab": {
     "autoexec": {
      "startup": false,
      "wait_interval": 0
     }
    },
    "colab_type": "code",
    "collapsed": true,
    "id": "jQ3Q8y00RTO5"
   },
   "outputs": [],
   "source": [
    "df = df.drop_duplicates()"
   ]
  },
  {
   "cell_type": "markdown",
   "metadata": {
    "colab_type": "text",
    "id": "4hq9xGzJRTO7"
   },
   "source": [
    "## outliers"
   ]
  },
  {
   "cell_type": "code",
   "execution_count": 0,
   "metadata": {
    "colab": {
     "autoexec": {
      "startup": false,
      "wait_interval": 0
     }
    },
    "colab_type": "code",
    "id": "MaS9oySSRTO7",
    "outputId": "eb43cd8b-c23a-4187-e8ea-91b1cf954d2a"
   },
   "outputs": [
    {
     "data": {
      "text/plain": [
       "<matplotlib.axes._subplots.AxesSubplot at 0x7ffa783d0cf8>"
      ]
     },
     "execution_count": 235,
     "metadata": {
      "tags": []
     },
     "output_type": "execute_result"
    },
    {
     "data": {
      "image/png": "[encoded data removed]",
      "text/plain": [
       "<matplotlib.figure.Figure at 0x7ffaa3190ac8>"
      ]
     },
     "metadata": {
      "tags": []
     },
     "output_type": "display_data"
    }
   ],
   "source": [
    "%matplotlib inline\n",
    "df.Age.hist(bins = 40)"
   ]
  },
  {
   "cell_type": "code",
   "execution_count": 0,
   "metadata": {
    "colab": {
     "autoexec": {
      "startup": false,
      "wait_interval": 0
     }
    },
    "colab_type": "code",
    "id": "ZL1ZKACWRTO9",
    "outputId": "0437b7d4-cf70-4f28-e147-ca2e59559905"
   },
   "outputs": [
    {
     "data": {
      "text/plain": [
       "<matplotlib.axes._subplots.AxesSubplot at 0x7ffa78406eb8>"
      ]
     },
     "execution_count": 236,
     "metadata": {
      "tags": []
     },
     "output_type": "execute_result"
    },
    {
     "data": {
      "image/png": "[encoded data removed]",
      "text/plain": [
       "<matplotlib.figure.Figure at 0x7ffa85644550>"
      ]
     },
     "metadata": {
      "tags": []
     },
     "output_type": "display_data"
    }
   ],
   "source": [
    "df.Age.plot.box()"
   ]
  },
  {
   "cell_type": "code",
   "execution_count": 0,
   "metadata": {
    "colab": {
     "autoexec": {
      "startup": false,
      "wait_interval": 0
     }
    },
    "colab_type": "code",
    "id": "55kfkas9RTO_",
    "outputId": "39baa453-c026-4ecb-ccc1-5bdf47c416a2"
   },
   "outputs": [
    {
     "data": {
      "text/plain": [
       "count    891.000000\n",
       "mean      32.204208\n",
       "std       49.693429\n",
       "min        0.000000\n",
       "25%        7.910400\n",
       "50%       14.454200\n",
       "75%       31.000000\n",
       "max      512.329200\n",
       "Name: Fare, dtype: float64"
      ]
     },
     "execution_count": 237,
     "metadata": {
      "tags": []
     },
     "output_type": "execute_result"
    }
   ],
   "source": [
    "df[\"Fare\"].describe()"
   ]
  },
  {
   "cell_type": "code",
   "execution_count": 0,
   "metadata": {
    "colab": {
     "autoexec": {
      "startup": false,
      "wait_interval": 0
     }
    },
    "colab_type": "code",
    "id": "2tSDgTu6RTPA"
   },
   "outputs": [],
   "source": [
    "df[\"BilleteCaro\"] = df[\"Fare\"]>31"
   ]
  },
  {
   "cell_type": "code",
   "execution_count": 0,
   "metadata": {
    "colab": {
     "autoexec": {
      "startup": false,
      "wait_interval": 0
     }
    },
    "colab_type": "code",
    "id": "6agMs5dlRTPC",
    "outputId": "65cf7767-8ec4-42ad-8a6c-630716984bdc"
   },
   "outputs": [
    {
     "data": {
      "text/plain": [
       "Fare\n",
       "False    0.750842\n",
       "True     0.249158\n",
       "dtype: float64"
      ]
     },
     "execution_count": 239,
     "metadata": {
      "tags": []
     },
     "output_type": "execute_result"
    }
   ],
   "source": [
    "df.groupby(df[\"Fare\"]>31).size()/df.shape[0]"
   ]
  },
  {
   "cell_type": "code",
   "execution_count": 0,
   "metadata": {
    "colab": {
     "autoexec": {
      "startup": false,
      "wait_interval": 0
     }
    },
    "colab_type": "code",
    "id": "HEdv1LEjRTPE"
   },
   "outputs": [],
   "source": [
    "df_cleaned = df[df[\"Age\"]< 70]\n"
   ]
  },
  {
   "cell_type": "code",
   "execution_count": 0,
   "metadata": {
    "colab": {
     "autoexec": {
      "startup": false,
      "wait_interval": 0
     }
    },
    "colab_type": "code",
    "id": "Mqzi2QUiRTPG",
    "outputId": "4d520f02-e64b-4091-e6bf-d15669430119"
   },
   "outputs": [
    {
     "data": {
      "text/plain": [
       "(884, 15)"
      ]
     },
     "execution_count": 244,
     "metadata": {
      "tags": []
     },
     "output_type": "execute_result"
    }
   ],
   "source": [
    "df_cleaned.shape"
   ]
  },
  {
   "cell_type": "markdown",
   "metadata": {
    "colab_type": "text",
    "id": "HYwluidVRTPH"
   },
   "source": [
    "## pivot"
   ]
  },
  {
   "cell_type": "code",
   "execution_count": 0,
   "metadata": {
    "colab": {
     "autoexec": {
      "startup": false,
      "wait_interval": 0
     }
    },
    "colab_type": "code",
    "id": "rQZW77SkRTPI",
    "outputId": "aa780206-27cb-4c5b-e100-2d83e1dec2b8"
   },
   "outputs": [
    {
     "data": {
      "text/plain": [
       "(884, 12)"
      ]
     },
     "execution_count": 275,
     "metadata": {
      "tags": []
     },
     "output_type": "execute_result"
    }
   ],
   "source": [
    "df.shape"
   ]
  },
  {
   "cell_type": "code",
   "execution_count": 0,
   "metadata": {
    "colab": {
     "autoexec": {
      "startup": false,
      "wait_interval": 0
     }
    },
    "colab_type": "code",
    "id": "Ck_SlBBhRTPK",
    "outputId": "d288f024-d73f-4ca5-90b0-f9785fc96b24"
   },
   "outputs": [
    {
     "data": {
      "text/html": [
       "<div>\n",
       "<style scoped>\n",
       "    .dataframe tbody tr th:only-of-type {\n",
       "        vertical-align: middle;\n",
       "    }\n",
       "\n",
       "    .dataframe tbody tr th {\n",
       "        vertical-align: top;\n",
       "    }\n",
       "\n",
       "    .dataframe thead th {\n",
       "        text-align: right;\n",
       "    }\n",
       "</style>\n",
       "<table border=\"1\" class=\"dataframe\">\n",
       "  <thead>\n",
       "    <tr style=\"text-align: right;\">\n",
       "      <th>Survived</th>\n",
       "      <th>0</th>\n",
       "      <th>1</th>\n",
       "    </tr>\n",
       "    <tr>\n",
       "      <th>Embarked</th>\n",
       "      <th></th>\n",
       "      <th></th>\n",
       "    </tr>\n",
       "  </thead>\n",
       "  <tbody>\n",
       "    <tr>\n",
       "      <th>C</th>\n",
       "      <td>73.0</td>\n",
       "      <td>93.0</td>\n",
       "    </tr>\n",
       "    <tr>\n",
       "      <th>Q</th>\n",
       "      <td>46.0</td>\n",
       "      <td>30.0</td>\n",
       "    </tr>\n",
       "    <tr>\n",
       "      <th>S</th>\n",
       "      <td>424.0</td>\n",
       "      <td>216.0</td>\n",
       "    </tr>\n",
       "  </tbody>\n",
       "</table>\n",
       "</div>"
      ],
      "text/plain": [
       "Survived      0      1\n",
       "Embarked              \n",
       "C          73.0   93.0\n",
       "Q          46.0   30.0\n",
       "S         424.0  216.0"
      ]
     },
     "execution_count": 282,
     "metadata": {
      "tags": []
     },
     "output_type": "execute_result"
    }
   ],
   "source": [
    "df.pivot_table(index = \"Embarked\", \n",
    "               columns=\"Survived\",\n",
    "              aggfunc=np.size)[\"Age\"]"
   ]
  },
  {
   "cell_type": "code",
   "execution_count": 0,
   "metadata": {
    "colab": {
     "autoexec": {
      "startup": false,
      "wait_interval": 0
     }
    },
    "colab_type": "code",
    "id": "9zpcnfEiRTPM",
    "outputId": "3d0f1031-2a89-475d-ca32-3ad242567c6e"
   },
   "outputs": [
    {
     "data": {
      "text/html": [
       "<div>\n",
       "<style scoped>\n",
       "    .dataframe tbody tr th:only-of-type {\n",
       "        vertical-align: middle;\n",
       "    }\n",
       "\n",
       "    .dataframe tbody tr th {\n",
       "        vertical-align: top;\n",
       "    }\n",
       "\n",
       "    .dataframe thead th {\n",
       "        text-align: right;\n",
       "    }\n",
       "</style>\n",
       "<table border=\"1\" class=\"dataframe\">\n",
       "  <thead>\n",
       "    <tr style=\"text-align: right;\">\n",
       "      <th>Survived</th>\n",
       "      <th>0</th>\n",
       "      <th>1</th>\n",
       "    </tr>\n",
       "    <tr>\n",
       "      <th>Embarked</th>\n",
       "      <th></th>\n",
       "      <th></th>\n",
       "    </tr>\n",
       "  </thead>\n",
       "  <tbody>\n",
       "    <tr>\n",
       "      <th>C</th>\n",
       "      <td>73</td>\n",
       "      <td>93</td>\n",
       "    </tr>\n",
       "    <tr>\n",
       "      <th>Q</th>\n",
       "      <td>46</td>\n",
       "      <td>30</td>\n",
       "    </tr>\n",
       "    <tr>\n",
       "      <th>S</th>\n",
       "      <td>424</td>\n",
       "      <td>216</td>\n",
       "    </tr>\n",
       "  </tbody>\n",
       "</table>\n",
       "</div>"
      ],
      "text/plain": [
       "Survived    0    1\n",
       "Embarked          \n",
       "C          73   93\n",
       "Q          46   30\n",
       "S         424  216"
      ]
     },
     "execution_count": 283,
     "metadata": {
      "tags": []
     },
     "output_type": "execute_result"
    }
   ],
   "source": [
    "pd.crosstab(df[\"Embarked\"],df[\"Survived\"])"
   ]
  },
  {
   "cell_type": "code",
   "execution_count": 0,
   "metadata": {
    "colab": {
     "autoexec": {
      "startup": false,
      "wait_interval": 0
     }
    },
    "colab_type": "code",
    "id": "S1Jq3S8TRTPO",
    "outputId": "c1ec9243-1b9c-4a58-dd57-d264fe908231"
   },
   "outputs": [
    {
     "data": {
      "text/plain": [
       "PassengerId          \n",
       "1            Survived    0\n",
       "dtype: object"
      ]
     },
     "execution_count": 291,
     "metadata": {
      "tags": []
     },
     "output_type": "execute_result"
    }
   ],
   "source": [
    "df.stack().loc[[\"1\"],[\"Survived\"]]"
   ]
  },
  {
   "cell_type": "code",
   "execution_count": 0,
   "metadata": {
    "colab": {
     "autoexec": {
      "startup": false,
      "wait_interval": 0
     }
    },
    "colab_type": "code",
    "id": "Ax5bmmUcRTPR",
    "outputId": "ebc72598-1579-4e0c-851a-cf7272f17180"
   },
   "outputs": [
    {
     "data": {
      "text/plain": [
       "PassengerId        \n",
       "1            Pclass       3\n",
       "             Sex       male\n",
       "dtype: object"
      ]
     },
     "execution_count": 293,
     "metadata": {
      "tags": []
     },
     "output_type": "execute_result"
    }
   ],
   "source": [
    "df.stack().iloc[[1,3]]"
   ]
  },
  {
   "cell_type": "markdown",
   "metadata": {
    "colab_type": "text",
    "id": "tBGz245lRTPT"
   },
   "source": [
    "## Agrupar"
   ]
  },
  {
   "cell_type": "code",
   "execution_count": 0,
   "metadata": {
    "colab": {
     "autoexec": {
      "startup": false,
      "wait_interval": 0
     }
    },
    "colab_type": "code",
    "id": "zHZe-EPIRTPT"
   },
   "outputs": [],
   "source": [
    "pd.options.display.max_columns = 25"
   ]
  },
  {
   "cell_type": "code",
   "execution_count": 0,
   "metadata": {
    "colab": {
     "autoexec": {
      "startup": false,
      "wait_interval": 0
     }
    },
    "colab_type": "code",
    "id": "jDb8bswtRTPV",
    "outputId": "b426c592-4f92-43a2-bbcb-1131491b10bb"
   },
   "outputs": [
    {
     "data": {
      "text/html": [
       "<div>\n",
       "<style scoped>\n",
       "    .dataframe tbody tr th:only-of-type {\n",
       "        vertical-align: middle;\n",
       "    }\n",
       "\n",
       "    .dataframe tbody tr th {\n",
       "        vertical-align: top;\n",
       "    }\n",
       "\n",
       "    .dataframe thead tr th {\n",
       "        text-align: left;\n",
       "    }\n",
       "\n",
       "    .dataframe thead tr:last-of-type th {\n",
       "        text-align: right;\n",
       "    }\n",
       "</style>\n",
       "<table border=\"1\" class=\"dataframe\">\n",
       "  <thead>\n",
       "    <tr>\n",
       "      <th></th>\n",
       "      <th colspan=\"11\" halign=\"left\">Age</th>\n",
       "      <th>BilleteCaro</th>\n",
       "      <th>...</th>\n",
       "      <th>Survived</th>\n",
       "      <th colspan=\"11\" halign=\"left\">Ticket</th>\n",
       "    </tr>\n",
       "    <tr>\n",
       "      <th></th>\n",
       "      <th>count</th>\n",
       "      <th>unique</th>\n",
       "      <th>top</th>\n",
       "      <th>freq</th>\n",
       "      <th>mean</th>\n",
       "      <th>std</th>\n",
       "      <th>min</th>\n",
       "      <th>25%</th>\n",
       "      <th>50%</th>\n",
       "      <th>75%</th>\n",
       "      <th>max</th>\n",
       "      <th>count</th>\n",
       "      <th>...</th>\n",
       "      <th>max</th>\n",
       "      <th>count</th>\n",
       "      <th>unique</th>\n",
       "      <th>top</th>\n",
       "      <th>freq</th>\n",
       "      <th>mean</th>\n",
       "      <th>std</th>\n",
       "      <th>min</th>\n",
       "      <th>25%</th>\n",
       "      <th>50%</th>\n",
       "      <th>75%</th>\n",
       "      <th>max</th>\n",
       "    </tr>\n",
       "    <tr>\n",
       "      <th>Embarked</th>\n",
       "      <th></th>\n",
       "      <th></th>\n",
       "      <th></th>\n",
       "      <th></th>\n",
       "      <th></th>\n",
       "      <th></th>\n",
       "      <th></th>\n",
       "      <th></th>\n",
       "      <th></th>\n",
       "      <th></th>\n",
       "      <th></th>\n",
       "      <th></th>\n",
       "      <th></th>\n",
       "      <th></th>\n",
       "      <th></th>\n",
       "      <th></th>\n",
       "      <th></th>\n",
       "      <th></th>\n",
       "      <th></th>\n",
       "      <th></th>\n",
       "      <th></th>\n",
       "      <th></th>\n",
       "      <th></th>\n",
       "      <th></th>\n",
       "      <th></th>\n",
       "    </tr>\n",
       "  </thead>\n",
       "  <tbody>\n",
       "    <tr>\n",
       "      <th>C</th>\n",
       "      <td>166.0</td>\n",
       "      <td>NaN</td>\n",
       "      <td>NaN</td>\n",
       "      <td>NaN</td>\n",
       "      <td>29.686265</td>\n",
       "      <td>12.931583</td>\n",
       "      <td>0.42</td>\n",
       "      <td>23.125</td>\n",
       "      <td>28.0</td>\n",
       "      <td>35.75</td>\n",
       "      <td>65.0</td>\n",
       "      <td>166</td>\n",
       "      <td>...</td>\n",
       "      <td>1.0</td>\n",
       "      <td>166</td>\n",
       "      <td>120</td>\n",
       "      <td>2666</td>\n",
       "      <td>4</td>\n",
       "      <td>NaN</td>\n",
       "      <td>NaN</td>\n",
       "      <td>NaN</td>\n",
       "      <td>NaN</td>\n",
       "      <td>NaN</td>\n",
       "      <td>NaN</td>\n",
       "      <td>NaN</td>\n",
       "    </tr>\n",
       "    <tr>\n",
       "      <th>Q</th>\n",
       "      <td>76.0</td>\n",
       "      <td>NaN</td>\n",
       "      <td>NaN</td>\n",
       "      <td>NaN</td>\n",
       "      <td>27.473684</td>\n",
       "      <td>8.868256</td>\n",
       "      <td>2.00</td>\n",
       "      <td>28.000</td>\n",
       "      <td>28.0</td>\n",
       "      <td>28.00</td>\n",
       "      <td>65.0</td>\n",
       "      <td>76</td>\n",
       "      <td>...</td>\n",
       "      <td>1.0</td>\n",
       "      <td>76</td>\n",
       "      <td>65</td>\n",
       "      <td>382652</td>\n",
       "      <td>5</td>\n",
       "      <td>NaN</td>\n",
       "      <td>NaN</td>\n",
       "      <td>NaN</td>\n",
       "      <td>NaN</td>\n",
       "      <td>NaN</td>\n",
       "      <td>NaN</td>\n",
       "      <td>NaN</td>\n",
       "    </tr>\n",
       "    <tr>\n",
       "      <th>S</th>\n",
       "      <td>640.0</td>\n",
       "      <td>NaN</td>\n",
       "      <td>NaN</td>\n",
       "      <td>NaN</td>\n",
       "      <td>28.966797</td>\n",
       "      <td>12.685415</td>\n",
       "      <td>0.67</td>\n",
       "      <td>22.000</td>\n",
       "      <td>28.0</td>\n",
       "      <td>35.25</td>\n",
       "      <td>66.0</td>\n",
       "      <td>640</td>\n",
       "      <td>...</td>\n",
       "      <td>1.0</td>\n",
       "      <td>640</td>\n",
       "      <td>491</td>\n",
       "      <td>347082</td>\n",
       "      <td>7</td>\n",
       "      <td>NaN</td>\n",
       "      <td>NaN</td>\n",
       "      <td>NaN</td>\n",
       "      <td>NaN</td>\n",
       "      <td>NaN</td>\n",
       "      <td>NaN</td>\n",
       "      <td>NaN</td>\n",
       "    </tr>\n",
       "  </tbody>\n",
       "</table>\n",
       "<p>3 rows × 121 columns</p>\n",
       "</div>"
      ],
      "text/plain": [
       "            Age                                                            \\\n",
       "          count unique top freq       mean        std   min     25%   50%   \n",
       "Embarked                                                                    \n",
       "C         166.0    NaN NaN  NaN  29.686265  12.931583  0.42  23.125  28.0   \n",
       "Q          76.0    NaN NaN  NaN  27.473684   8.868256  2.00  28.000  28.0   \n",
       "S         640.0    NaN NaN  NaN  28.966797  12.685415  0.67  22.000  28.0   \n",
       "\n",
       "                      BilleteCaro ...  Survived Ticket                      \\\n",
       "            75%   max       count ...       max  count unique     top freq   \n",
       "Embarked                          ...                                        \n",
       "C         35.75  65.0         166 ...       1.0    166    120    2666    4   \n",
       "Q         28.00  65.0          76 ...       1.0     76     65  382652    5   \n",
       "S         35.25  66.0         640 ...       1.0    640    491  347082    7   \n",
       "\n",
       "                                             \n",
       "         mean  std  min  25%  50%  75%  max  \n",
       "Embarked                                     \n",
       "C         NaN  NaN  NaN  NaN  NaN  NaN  NaN  \n",
       "Q         NaN  NaN  NaN  NaN  NaN  NaN  NaN  \n",
       "S         NaN  NaN  NaN  NaN  NaN  NaN  NaN  \n",
       "\n",
       "[3 rows x 121 columns]"
      ]
     },
     "execution_count": 304,
     "metadata": {
      "tags": []
     },
     "output_type": "execute_result"
    }
   ],
   "source": [
    "df.groupby(\"Embarked\").describe(include=\"all\")"
   ]
  },
  {
   "cell_type": "markdown",
   "metadata": {
    "colab_type": "text",
    "id": "joSxITFlRTPY"
   },
   "source": [
    "## Cruzar"
   ]
  },
  {
   "cell_type": "code",
   "execution_count": 0,
   "metadata": {
    "colab": {
     "autoexec": {
      "startup": false,
      "wait_interval": 0
     }
    },
    "colab_type": "code",
    "collapsed": true,
    "id": "i_KluIypRTPY"
   },
   "outputs": [],
   "source": []
  }
 ],
 "metadata": {
  "colab": {
   "default_view": {},
   "name": "DW_con_Python.ipynb",
   "provenance": [],
   "version": "0.3.2",
   "views": {}
  },
  "kernelspec": {
   "display_name": "Python 3",
   "language": "python",
   "name": "python3"
  },
  "language_info": {
   "codemirror_mode": {
    "name": "ipython",
    "version": 3
   },
   "file_extension": ".py",
   "mimetype": "text/x-python",
   "name": "python",
   "nbconvert_exporter": "python",
   "pygments_lexer": "ipython3",
   "version": "3.6.4"
  }
 },
 "nbformat": 4,
 "nbformat_minor": 1
}
