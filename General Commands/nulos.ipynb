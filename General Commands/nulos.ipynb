{
 "cells": [
  {
   "cell_type": "code",
   "execution_count": 1,
   "metadata": {},
   "outputs": [],
   "source": [
    "import pandas as pd\n",
    "import numpy as np"
   ]
  },
  {
   "cell_type": "code",
   "execution_count": 2,
   "metadata": {},
   "outputs": [],
   "source": [
    "# los df de Pandas entienden NaN y None como nulos"
   ]
  },
  {
   "cell_type": "code",
   "execution_count": 138,
   "metadata": {},
   "outputs": [
    {
     "data": {
      "text/html": [
       "<div>\n",
       "<style scoped>\n",
       "    .dataframe tbody tr th:only-of-type {\n",
       "        vertical-align: middle;\n",
       "    }\n",
       "\n",
       "    .dataframe tbody tr th {\n",
       "        vertical-align: top;\n",
       "    }\n",
       "\n",
       "    .dataframe thead th {\n",
       "        text-align: right;\n",
       "    }\n",
       "</style>\n",
       "<table border=\"1\" class=\"dataframe\">\n",
       "  <thead>\n",
       "    <tr style=\"text-align: right;\">\n",
       "      <th></th>\n",
       "      <th>VarA</th>\n",
       "      <th>VarB</th>\n",
       "      <th>VarC</th>\n",
       "      <th>VarD</th>\n",
       "    </tr>\n",
       "  </thead>\n",
       "  <tbody>\n",
       "    <tr>\n",
       "      <th>case1</th>\n",
       "      <td>aa</td>\n",
       "      <td>20.0</td>\n",
       "      <td>1234</td>\n",
       "      <td>1234.0</td>\n",
       "    </tr>\n",
       "    <tr>\n",
       "      <th>case2</th>\n",
       "      <td>None</td>\n",
       "      <td>30.0</td>\n",
       "      <td>3456</td>\n",
       "      <td>888.0</td>\n",
       "    </tr>\n",
       "    <tr>\n",
       "      <th>case3</th>\n",
       "      <td>cc</td>\n",
       "      <td>NaN</td>\n",
       "      <td>6789</td>\n",
       "      <td>NaN</td>\n",
       "    </tr>\n",
       "    <tr>\n",
       "      <th>case4</th>\n",
       "      <td>None</td>\n",
       "      <td>NaN</td>\n",
       "      <td>765</td>\n",
       "      <td>NaN</td>\n",
       "    </tr>\n",
       "  </tbody>\n",
       "</table>\n",
       "</div>"
      ],
      "text/plain": [
       "       VarA  VarB  VarC    VarD\n",
       "case1    aa  20.0  1234  1234.0\n",
       "case2  None  30.0  3456   888.0\n",
       "case3    cc   NaN  6789     NaN\n",
       "case4  None   NaN   765     NaN"
      ]
     },
     "execution_count": 138,
     "metadata": {},
     "output_type": "execute_result"
    }
   ],
   "source": [
    "df = (pd.DataFrame({'VarA':['aa', None, 'cc', None],\n",
    "                    'VarB':[20,30,None, None],\n",
    "                    'VarC':[1234,3456,6789,765],\n",
    "                    'VarD':[1234,888,None, None]}, \n",
    "                  index = ['case1', 'case2', 'case3', 'case4']))\n",
    "df"
   ]
  },
  {
   "cell_type": "markdown",
   "metadata": {},
   "source": [
    "### cambiar nombre de las variables"
   ]
  },
  {
   "cell_type": "code",
   "execution_count": 107,
   "metadata": {},
   "outputs": [
    {
     "data": {
      "text/html": [
       "<div>\n",
       "<style scoped>\n",
       "    .dataframe tbody tr th:only-of-type {\n",
       "        vertical-align: middle;\n",
       "    }\n",
       "\n",
       "    .dataframe tbody tr th {\n",
       "        vertical-align: top;\n",
       "    }\n",
       "\n",
       "    .dataframe thead th {\n",
       "        text-align: right;\n",
       "    }\n",
       "</style>\n",
       "<table border=\"1\" class=\"dataframe\">\n",
       "  <thead>\n",
       "    <tr style=\"text-align: right;\">\n",
       "      <th></th>\n",
       "      <th>vara</th>\n",
       "      <th>varb</th>\n",
       "      <th>varc</th>\n",
       "      <th>vard</th>\n",
       "    </tr>\n",
       "  </thead>\n",
       "  <tbody>\n",
       "    <tr>\n",
       "      <th>case1</th>\n",
       "      <td>aa</td>\n",
       "      <td>20.0</td>\n",
       "      <td>1234</td>\n",
       "      <td>1234.0</td>\n",
       "    </tr>\n",
       "    <tr>\n",
       "      <th>case2</th>\n",
       "      <td>None</td>\n",
       "      <td>30.0</td>\n",
       "      <td>3456</td>\n",
       "      <td>888.0</td>\n",
       "    </tr>\n",
       "    <tr>\n",
       "      <th>case3</th>\n",
       "      <td>cc</td>\n",
       "      <td>NaN</td>\n",
       "      <td>6789</td>\n",
       "      <td>NaN</td>\n",
       "    </tr>\n",
       "    <tr>\n",
       "      <th>case4</th>\n",
       "      <td>None</td>\n",
       "      <td>NaN</td>\n",
       "      <td>765</td>\n",
       "      <td>NaN</td>\n",
       "    </tr>\n",
       "  </tbody>\n",
       "</table>\n",
       "</div>"
      ],
      "text/plain": [
       "       vara  varb  varc    vard\n",
       "case1    aa  20.0  1234  1234.0\n",
       "case2  None  30.0  3456   888.0\n",
       "case3    cc   NaN  6789     NaN\n",
       "case4  None   NaN   765     NaN"
      ]
     },
     "execution_count": 107,
     "metadata": {},
     "output_type": "execute_result"
    }
   ],
   "source": [
    "df.rename(columns={'VarA':'vara', 'VarB':'varb', 'VarC':'varc', 'VarD': 'vard'})"
   ]
  },
  {
   "cell_type": "code",
   "execution_count": 139,
   "metadata": {},
   "outputs": [],
   "source": [
    "df.rename(columns= lambda name: name.lower(), inplace=True)"
   ]
  },
  {
   "cell_type": "markdown",
   "metadata": {},
   "source": [
    "## estudio nulos"
   ]
  },
  {
   "cell_type": "code",
   "execution_count": 11,
   "metadata": {},
   "outputs": [
    {
     "data": {
      "text/plain": [
       "True"
      ]
     },
     "execution_count": 11,
     "metadata": {},
     "output_type": "execute_result"
    }
   ],
   "source": [
    "# estudiar si hay algún nulo en nuestra dataset\n",
    "\n",
    "# si devuelve True es que por lo menos hay un nulo en el dataset\n",
    "\n",
    "df.isnull().values.any()"
   ]
  },
  {
   "cell_type": "code",
   "execution_count": 37,
   "metadata": {},
   "outputs": [],
   "source": [
    "# ver qué columnas tienen nulos\n",
    "\n",
    "df_nulos = df.isnull().any().reset_index()"
   ]
  },
  {
   "cell_type": "code",
   "execution_count": 43,
   "metadata": {},
   "outputs": [],
   "source": [
    "# cómo crear lista de variables con nulos\n",
    "\n",
    "# método 1:\n",
    "\n",
    "lista_var_con_nulos = (df_nulos[df_nulos[0]==True] #filtramos por los True\n",
    "                       ['index'] #tomamos la columna 'index'\n",
    "                       .tolist()) #transformamos de series a lista"
   ]
  },
  {
   "cell_type": "code",
   "execution_count": 64,
   "metadata": {},
   "outputs": [
    {
     "data": {
      "text/plain": [
       "['vara', 'varb', 'vard']"
      ]
     },
     "execution_count": 64,
     "metadata": {},
     "output_type": "execute_result"
    }
   ],
   "source": [
    "# método 2:\n",
    "\n",
    "boolean_null = df.isnull().any().tolist()\n",
    "columnas = list(df)\n",
    "\n",
    "columnas_con_nulos = []\n",
    "for columna, boolean in zip(columnas, boolean_null):\n",
    "    if boolean == True:\n",
    "        columnas_con_nulos.append(columna)\n",
    "columnas_con_nulos"
   ]
  },
  {
   "cell_type": "code",
   "execution_count": 67,
   "metadata": {},
   "outputs": [],
   "source": [
    "# método 2 pero con list comprehension\n",
    "\n",
    "columnas_con_nulos = [columna for columna,boolean in zip(columnas, boolean_null) if boolean]"
   ]
  },
  {
   "cell_type": "code",
   "execution_count": 72,
   "metadata": {},
   "outputs": [
    {
     "data": {
      "text/plain": [
       "['vara', 'varb', 'vard']"
      ]
     },
     "execution_count": 72,
     "metadata": {},
     "output_type": "execute_result"
    }
   ],
   "source": [
    "#método 3\n",
    "\n",
    "[key for key, value in dict(df.isnull().any()).items() if value ]"
   ]
  },
  {
   "cell_type": "code",
   "execution_count": 76,
   "metadata": {},
   "outputs": [
    {
     "data": {
      "text/plain": [
       "['vara', 'varb', 'vard']"
      ]
     },
     "execution_count": 76,
     "metadata": {},
     "output_type": "execute_result"
    }
   ],
   "source": [
    "columnas_con_nulos"
   ]
  },
  {
   "cell_type": "markdown",
   "metadata": {},
   "source": [
    "## filtrar un dataframe"
   ]
  },
  {
   "cell_type": "code",
   "execution_count": 79,
   "metadata": {},
   "outputs": [
    {
     "data": {
      "text/html": [
       "<div>\n",
       "<style scoped>\n",
       "    .dataframe tbody tr th:only-of-type {\n",
       "        vertical-align: middle;\n",
       "    }\n",
       "\n",
       "    .dataframe tbody tr th {\n",
       "        vertical-align: top;\n",
       "    }\n",
       "\n",
       "    .dataframe thead th {\n",
       "        text-align: right;\n",
       "    }\n",
       "</style>\n",
       "<table border=\"1\" class=\"dataframe\">\n",
       "  <thead>\n",
       "    <tr style=\"text-align: right;\">\n",
       "      <th></th>\n",
       "      <th>vara</th>\n",
       "      <th>varb</th>\n",
       "      <th>varc</th>\n",
       "      <th>vard</th>\n",
       "    </tr>\n",
       "  </thead>\n",
       "  <tbody>\n",
       "    <tr>\n",
       "      <th>case1</th>\n",
       "      <td>aa</td>\n",
       "      <td>20.0</td>\n",
       "      <td>1234</td>\n",
       "      <td>1234.0</td>\n",
       "    </tr>\n",
       "  </tbody>\n",
       "</table>\n",
       "</div>"
      ],
      "text/plain": [
       "      vara  varb  varc    vard\n",
       "case1   aa  20.0  1234  1234.0"
      ]
     },
     "execution_count": 79,
     "metadata": {},
     "output_type": "execute_result"
    }
   ],
   "source": [
    "df[df.vara == 'aa']"
   ]
  },
  {
   "cell_type": "code",
   "execution_count": 81,
   "metadata": {},
   "outputs": [
    {
     "data": {
      "text/html": [
       "<div>\n",
       "<style scoped>\n",
       "    .dataframe tbody tr th:only-of-type {\n",
       "        vertical-align: middle;\n",
       "    }\n",
       "\n",
       "    .dataframe tbody tr th {\n",
       "        vertical-align: top;\n",
       "    }\n",
       "\n",
       "    .dataframe thead th {\n",
       "        text-align: right;\n",
       "    }\n",
       "</style>\n",
       "<table border=\"1\" class=\"dataframe\">\n",
       "  <thead>\n",
       "    <tr style=\"text-align: right;\">\n",
       "      <th></th>\n",
       "      <th>vara</th>\n",
       "      <th>varb</th>\n",
       "      <th>varc</th>\n",
       "      <th>vard</th>\n",
       "    </tr>\n",
       "  </thead>\n",
       "  <tbody>\n",
       "    <tr>\n",
       "      <th>case1</th>\n",
       "      <td>aa</td>\n",
       "      <td>20.0</td>\n",
       "      <td>1234</td>\n",
       "      <td>1234.0</td>\n",
       "    </tr>\n",
       "    <tr>\n",
       "      <th>case3</th>\n",
       "      <td>cc</td>\n",
       "      <td>NaN</td>\n",
       "      <td>6789</td>\n",
       "      <td>NaN</td>\n",
       "    </tr>\n",
       "  </tbody>\n",
       "</table>\n",
       "</div>"
      ],
      "text/plain": [
       "      vara  varb  varc    vard\n",
       "case1   aa  20.0  1234  1234.0\n",
       "case3   cc   NaN  6789     NaN"
      ]
     },
     "execution_count": 81,
     "metadata": {},
     "output_type": "execute_result"
    }
   ],
   "source": [
    "df[(df.vara =='aa') | (df.vara =='cc')]"
   ]
  },
  {
   "cell_type": "code",
   "execution_count": 88,
   "metadata": {},
   "outputs": [
    {
     "data": {
      "text/html": [
       "<div>\n",
       "<style scoped>\n",
       "    .dataframe tbody tr th:only-of-type {\n",
       "        vertical-align: middle;\n",
       "    }\n",
       "\n",
       "    .dataframe tbody tr th {\n",
       "        vertical-align: top;\n",
       "    }\n",
       "\n",
       "    .dataframe thead th {\n",
       "        text-align: right;\n",
       "    }\n",
       "</style>\n",
       "<table border=\"1\" class=\"dataframe\">\n",
       "  <thead>\n",
       "    <tr style=\"text-align: right;\">\n",
       "      <th></th>\n",
       "      <th>vara</th>\n",
       "      <th>varb</th>\n",
       "      <th>varc</th>\n",
       "      <th>vard</th>\n",
       "    </tr>\n",
       "  </thead>\n",
       "  <tbody>\n",
       "    <tr>\n",
       "      <th>case2</th>\n",
       "      <td>None</td>\n",
       "      <td>30.0</td>\n",
       "      <td>3456</td>\n",
       "      <td>888.0</td>\n",
       "    </tr>\n",
       "    <tr>\n",
       "      <th>case4</th>\n",
       "      <td>None</td>\n",
       "      <td>NaN</td>\n",
       "      <td>765</td>\n",
       "      <td>NaN</td>\n",
       "    </tr>\n",
       "  </tbody>\n",
       "</table>\n",
       "</div>"
      ],
      "text/plain": [
       "       vara  varb  varc   vard\n",
       "case2  None  30.0  3456  888.0\n",
       "case4  None   NaN   765    NaN"
      ]
     },
     "execution_count": 88,
     "metadata": {},
     "output_type": "execute_result"
    }
   ],
   "source": [
    "df[df.vara.isnull()]"
   ]
  },
  {
   "cell_type": "code",
   "execution_count": 90,
   "metadata": {},
   "outputs": [
    {
     "data": {
      "text/html": [
       "<div>\n",
       "<style scoped>\n",
       "    .dataframe tbody tr th:only-of-type {\n",
       "        vertical-align: middle;\n",
       "    }\n",
       "\n",
       "    .dataframe tbody tr th {\n",
       "        vertical-align: top;\n",
       "    }\n",
       "\n",
       "    .dataframe thead th {\n",
       "        text-align: right;\n",
       "    }\n",
       "</style>\n",
       "<table border=\"1\" class=\"dataframe\">\n",
       "  <thead>\n",
       "    <tr style=\"text-align: right;\">\n",
       "      <th></th>\n",
       "      <th>vara</th>\n",
       "      <th>varb</th>\n",
       "      <th>varc</th>\n",
       "      <th>vard</th>\n",
       "    </tr>\n",
       "  </thead>\n",
       "  <tbody>\n",
       "    <tr>\n",
       "      <th>case4</th>\n",
       "      <td>None</td>\n",
       "      <td>NaN</td>\n",
       "      <td>765</td>\n",
       "      <td>NaN</td>\n",
       "    </tr>\n",
       "  </tbody>\n",
       "</table>\n",
       "</div>"
      ],
      "text/plain": [
       "       vara  varb  varc  vard\n",
       "case4  None   NaN   765   NaN"
      ]
     },
     "execution_count": 90,
     "metadata": {},
     "output_type": "execute_result"
    }
   ],
   "source": [
    "df[(df.vara.isnull()) & (df.varb.isnull())]"
   ]
  },
  {
   "cell_type": "code",
   "execution_count": 91,
   "metadata": {},
   "outputs": [
    {
     "data": {
      "text/html": [
       "<div>\n",
       "<style scoped>\n",
       "    .dataframe tbody tr th:only-of-type {\n",
       "        vertical-align: middle;\n",
       "    }\n",
       "\n",
       "    .dataframe tbody tr th {\n",
       "        vertical-align: top;\n",
       "    }\n",
       "\n",
       "    .dataframe thead th {\n",
       "        text-align: right;\n",
       "    }\n",
       "</style>\n",
       "<table border=\"1\" class=\"dataframe\">\n",
       "  <thead>\n",
       "    <tr style=\"text-align: right;\">\n",
       "      <th></th>\n",
       "      <th>vara</th>\n",
       "      <th>varb</th>\n",
       "      <th>varc</th>\n",
       "      <th>vard</th>\n",
       "    </tr>\n",
       "  </thead>\n",
       "  <tbody>\n",
       "    <tr>\n",
       "      <th>case2</th>\n",
       "      <td>None</td>\n",
       "      <td>30.0</td>\n",
       "      <td>3456</td>\n",
       "      <td>888.0</td>\n",
       "    </tr>\n",
       "    <tr>\n",
       "      <th>case4</th>\n",
       "      <td>None</td>\n",
       "      <td>NaN</td>\n",
       "      <td>765</td>\n",
       "      <td>NaN</td>\n",
       "    </tr>\n",
       "  </tbody>\n",
       "</table>\n",
       "</div>"
      ],
      "text/plain": [
       "       vara  varb  varc   vard\n",
       "case2  None  30.0  3456  888.0\n",
       "case4  None   NaN   765    NaN"
      ]
     },
     "execution_count": 91,
     "metadata": {},
     "output_type": "execute_result"
    }
   ],
   "source": [
    "df[pd.isnull(df.vara)]"
   ]
  },
  {
   "cell_type": "code",
   "execution_count": 93,
   "metadata": {},
   "outputs": [],
   "source": [
    "import pandas as pd"
   ]
  },
  {
   "cell_type": "markdown",
   "metadata": {},
   "source": [
    "## estudiar porcentaje de nulos en las columnas"
   ]
  },
  {
   "cell_type": "code",
   "execution_count": 128,
   "metadata": {},
   "outputs": [
    {
     "data": {
      "text/html": [
       "<div>\n",
       "<style scoped>\n",
       "    .dataframe tbody tr th:only-of-type {\n",
       "        vertical-align: middle;\n",
       "    }\n",
       "\n",
       "    .dataframe tbody tr th {\n",
       "        vertical-align: top;\n",
       "    }\n",
       "\n",
       "    .dataframe thead th {\n",
       "        text-align: right;\n",
       "    }\n",
       "</style>\n",
       "<table border=\"1\" class=\"dataframe\">\n",
       "  <thead>\n",
       "    <tr style=\"text-align: right;\">\n",
       "      <th></th>\n",
       "      <th>vara</th>\n",
       "      <th>varb</th>\n",
       "      <th>varc</th>\n",
       "      <th>vard</th>\n",
       "    </tr>\n",
       "  </thead>\n",
       "  <tbody>\n",
       "    <tr>\n",
       "      <th>case1</th>\n",
       "      <td>aa</td>\n",
       "      <td>20.0</td>\n",
       "      <td>1234</td>\n",
       "      <td>1234.0</td>\n",
       "    </tr>\n",
       "    <tr>\n",
       "      <th>case2</th>\n",
       "      <td>None</td>\n",
       "      <td>30.0</td>\n",
       "      <td>3456</td>\n",
       "      <td>888.0</td>\n",
       "    </tr>\n",
       "    <tr>\n",
       "      <th>case3</th>\n",
       "      <td>cc</td>\n",
       "      <td>NaN</td>\n",
       "      <td>6789</td>\n",
       "      <td>NaN</td>\n",
       "    </tr>\n",
       "    <tr>\n",
       "      <th>case4</th>\n",
       "      <td>None</td>\n",
       "      <td>NaN</td>\n",
       "      <td>765</td>\n",
       "      <td>NaN</td>\n",
       "    </tr>\n",
       "  </tbody>\n",
       "</table>\n",
       "</div>"
      ],
      "text/plain": [
       "       vara  varb  varc    vard\n",
       "case1    aa  20.0  1234  1234.0\n",
       "case2  None  30.0  3456   888.0\n",
       "case3    cc   NaN  6789     NaN\n",
       "case4  None   NaN   765     NaN"
      ]
     },
     "execution_count": 128,
     "metadata": {},
     "output_type": "execute_result"
    }
   ],
   "source": [
    "df"
   ]
  },
  {
   "cell_type": "code",
   "execution_count": 127,
   "metadata": {},
   "outputs": [
    {
     "data": {
      "text/html": [
       "<div>\n",
       "<style scoped>\n",
       "    .dataframe tbody tr th:only-of-type {\n",
       "        vertical-align: middle;\n",
       "    }\n",
       "\n",
       "    .dataframe tbody tr th {\n",
       "        vertical-align: top;\n",
       "    }\n",
       "\n",
       "    .dataframe thead th {\n",
       "        text-align: right;\n",
       "    }\n",
       "</style>\n",
       "<table border=\"1\" class=\"dataframe\">\n",
       "  <thead>\n",
       "    <tr style=\"text-align: right;\">\n",
       "      <th></th>\n",
       "      <th>vara</th>\n",
       "      <th>varb</th>\n",
       "      <th>varc</th>\n",
       "      <th>vard</th>\n",
       "    </tr>\n",
       "  </thead>\n",
       "  <tbody>\n",
       "    <tr>\n",
       "      <th>case1</th>\n",
       "      <td>aa</td>\n",
       "      <td>20.0</td>\n",
       "      <td>1234</td>\n",
       "      <td>1234.0</td>\n",
       "    </tr>\n",
       "    <tr>\n",
       "      <th>case2</th>\n",
       "      <td>0</td>\n",
       "      <td>30.0</td>\n",
       "      <td>3456</td>\n",
       "      <td>888.0</td>\n",
       "    </tr>\n",
       "    <tr>\n",
       "      <th>case3</th>\n",
       "      <td>cc</td>\n",
       "      <td>0.0</td>\n",
       "      <td>6789</td>\n",
       "      <td>0.0</td>\n",
       "    </tr>\n",
       "    <tr>\n",
       "      <th>case4</th>\n",
       "      <td>0</td>\n",
       "      <td>0.0</td>\n",
       "      <td>765</td>\n",
       "      <td>0.0</td>\n",
       "    </tr>\n",
       "  </tbody>\n",
       "</table>\n",
       "</div>"
      ],
      "text/plain": [
       "      vara  varb  varc    vard\n",
       "case1   aa  20.0  1234  1234.0\n",
       "case2    0  30.0  3456   888.0\n",
       "case3   cc   0.0  6789     0.0\n",
       "case4    0   0.0   765     0.0"
      ]
     },
     "execution_count": 127,
     "metadata": {},
     "output_type": "execute_result"
    }
   ],
   "source": [
    "#rellena TODOS los nulos\n",
    "df.fillna(0)"
   ]
  },
  {
   "cell_type": "code",
   "execution_count": 130,
   "metadata": {},
   "outputs": [
    {
     "data": {
      "text/html": [
       "<div>\n",
       "<style scoped>\n",
       "    .dataframe tbody tr th:only-of-type {\n",
       "        vertical-align: middle;\n",
       "    }\n",
       "\n",
       "    .dataframe tbody tr th {\n",
       "        vertical-align: top;\n",
       "    }\n",
       "\n",
       "    .dataframe thead th {\n",
       "        text-align: right;\n",
       "    }\n",
       "</style>\n",
       "<table border=\"1\" class=\"dataframe\">\n",
       "  <thead>\n",
       "    <tr style=\"text-align: right;\">\n",
       "      <th></th>\n",
       "      <th>vara</th>\n",
       "      <th>varb</th>\n",
       "      <th>varc</th>\n",
       "      <th>vard</th>\n",
       "    </tr>\n",
       "  </thead>\n",
       "  <tbody>\n",
       "    <tr>\n",
       "      <th>case1</th>\n",
       "      <td>aa</td>\n",
       "      <td>20.00</td>\n",
       "      <td>1234</td>\n",
       "      <td>1234.0</td>\n",
       "    </tr>\n",
       "    <tr>\n",
       "      <th>case2</th>\n",
       "      <td>0</td>\n",
       "      <td>30.00</td>\n",
       "      <td>3456</td>\n",
       "      <td>888.0</td>\n",
       "    </tr>\n",
       "    <tr>\n",
       "      <th>case3</th>\n",
       "      <td>cc</td>\n",
       "      <td>-14.32</td>\n",
       "      <td>6789</td>\n",
       "      <td>NaN</td>\n",
       "    </tr>\n",
       "    <tr>\n",
       "      <th>case4</th>\n",
       "      <td>0</td>\n",
       "      <td>-14.32</td>\n",
       "      <td>765</td>\n",
       "      <td>NaN</td>\n",
       "    </tr>\n",
       "  </tbody>\n",
       "</table>\n",
       "</div>"
      ],
      "text/plain": [
       "      vara   varb  varc    vard\n",
       "case1   aa  20.00  1234  1234.0\n",
       "case2    0  30.00  3456   888.0\n",
       "case3   cc -14.32  6789     NaN\n",
       "case4    0 -14.32   765     NaN"
      ]
     },
     "execution_count": 130,
     "metadata": {},
     "output_type": "execute_result"
    }
   ],
   "source": [
    "df.fillna(value={'vara':0, 'varb':-14.32})"
   ]
  },
  {
   "cell_type": "code",
   "execution_count": 131,
   "metadata": {},
   "outputs": [
    {
     "data": {
      "text/html": [
       "<div>\n",
       "<style scoped>\n",
       "    .dataframe tbody tr th:only-of-type {\n",
       "        vertical-align: middle;\n",
       "    }\n",
       "\n",
       "    .dataframe tbody tr th {\n",
       "        vertical-align: top;\n",
       "    }\n",
       "\n",
       "    .dataframe thead th {\n",
       "        text-align: right;\n",
       "    }\n",
       "</style>\n",
       "<table border=\"1\" class=\"dataframe\">\n",
       "  <thead>\n",
       "    <tr style=\"text-align: right;\">\n",
       "      <th></th>\n",
       "      <th>vara</th>\n",
       "      <th>varb</th>\n",
       "      <th>varc</th>\n",
       "      <th>vard</th>\n",
       "    </tr>\n",
       "  </thead>\n",
       "  <tbody>\n",
       "    <tr>\n",
       "      <th>case1</th>\n",
       "      <td>aa</td>\n",
       "      <td>20.0</td>\n",
       "      <td>1234</td>\n",
       "      <td>1234.0</td>\n",
       "    </tr>\n",
       "    <tr>\n",
       "      <th>case2</th>\n",
       "      <td>None</td>\n",
       "      <td>30.0</td>\n",
       "      <td>3456</td>\n",
       "      <td>888.0</td>\n",
       "    </tr>\n",
       "    <tr>\n",
       "      <th>case3</th>\n",
       "      <td>cc</td>\n",
       "      <td>NaN</td>\n",
       "      <td>6789</td>\n",
       "      <td>NaN</td>\n",
       "    </tr>\n",
       "    <tr>\n",
       "      <th>case4</th>\n",
       "      <td>None</td>\n",
       "      <td>NaN</td>\n",
       "      <td>765</td>\n",
       "      <td>NaN</td>\n",
       "    </tr>\n",
       "  </tbody>\n",
       "</table>\n",
       "</div>"
      ],
      "text/plain": [
       "       vara  varb  varc    vard\n",
       "case1    aa  20.0  1234  1234.0\n",
       "case2  None  30.0  3456   888.0\n",
       "case3    cc   NaN  6789     NaN\n",
       "case4  None   NaN   765     NaN"
      ]
     },
     "execution_count": 131,
     "metadata": {},
     "output_type": "execute_result"
    }
   ],
   "source": [
    "df"
   ]
  },
  {
   "cell_type": "code",
   "execution_count": 97,
   "metadata": {},
   "outputs": [
    {
     "name": "stdout",
     "output_type": "stream",
     "text": [
      "La columna vara tiene un 50.0% de nulos.\n",
      "\n",
      "La columna varb tiene un 50.0% de nulos.\n",
      "\n",
      "La columna vard tiene un 50.0% de nulos.\n",
      "\n"
     ]
    }
   ],
   "source": [
    "num_rows = len(df)\n",
    "porcentaje_nulos = []\n",
    "for columna in columnas_con_nulos:\n",
    "    num_nulls = len(df[df[columna].isnull()])\n",
    "    porcentaje = num_nulls*100/num_rows\n",
    "    porcentaje_nulos.append((columna, porcentaje))\n",
    "    print(\"La columna {0} tiene un {1}% de nulos.\\n\".format(columna, porcentaje))"
   ]
  },
  {
   "cell_type": "code",
   "execution_count": 98,
   "metadata": {},
   "outputs": [
    {
     "data": {
      "text/plain": [
       "[('vara', 50.0), ('varb', 50.0), ('vard', 50.0)]"
      ]
     },
     "execution_count": 98,
     "metadata": {},
     "output_type": "execute_result"
    }
   ],
   "source": [
    "porcentaje_nulos"
   ]
  },
  {
   "cell_type": "code",
   "execution_count": 121,
   "metadata": {},
   "outputs": [
    {
     "data": {
      "text/html": [
       "<div>\n",
       "<style scoped>\n",
       "    .dataframe tbody tr th:only-of-type {\n",
       "        vertical-align: middle;\n",
       "    }\n",
       "\n",
       "    .dataframe tbody tr th {\n",
       "        vertical-align: top;\n",
       "    }\n",
       "\n",
       "    .dataframe thead th {\n",
       "        text-align: right;\n",
       "    }\n",
       "</style>\n",
       "<table border=\"1\" class=\"dataframe\">\n",
       "  <thead>\n",
       "    <tr style=\"text-align: right;\">\n",
       "      <th></th>\n",
       "      <th>vara</th>\n",
       "      <th>varb</th>\n",
       "      <th>varc</th>\n",
       "      <th>vard</th>\n",
       "    </tr>\n",
       "  </thead>\n",
       "  <tbody>\n",
       "    <tr>\n",
       "      <th>case1</th>\n",
       "      <td>aa</td>\n",
       "      <td>20.0</td>\n",
       "      <td>1234</td>\n",
       "      <td>1234.0</td>\n",
       "    </tr>\n",
       "    <tr>\n",
       "      <th>case2</th>\n",
       "      <td>None</td>\n",
       "      <td>30.0</td>\n",
       "      <td>3456</td>\n",
       "      <td>888.0</td>\n",
       "    </tr>\n",
       "    <tr>\n",
       "      <th>case3</th>\n",
       "      <td>cc</td>\n",
       "      <td>NaN</td>\n",
       "      <td>6789</td>\n",
       "      <td>NaN</td>\n",
       "    </tr>\n",
       "    <tr>\n",
       "      <th>case4</th>\n",
       "      <td>None</td>\n",
       "      <td>NaN</td>\n",
       "      <td>765</td>\n",
       "      <td>NaN</td>\n",
       "    </tr>\n",
       "  </tbody>\n",
       "</table>\n",
       "</div>"
      ],
      "text/plain": [
       "       vara  varb  varc    vard\n",
       "case1    aa  20.0  1234  1234.0\n",
       "case2  None  30.0  3456   888.0\n",
       "case3    cc   NaN  6789     NaN\n",
       "case4  None   NaN   765     NaN"
      ]
     },
     "execution_count": 121,
     "metadata": {},
     "output_type": "execute_result"
    }
   ],
   "source": [
    "df"
   ]
  },
  {
   "cell_type": "code",
   "execution_count": 122,
   "metadata": {
    "scrolled": true
   },
   "outputs": [],
   "source": [
    "porcentaje_limite = 60\n",
    "\n",
    "for columna, porcentaje in porcentaje_nulos:\n",
    "    if porcentaje > porcentaje_limite:\n",
    "        df = df.drop(columna, axis=1) #si supera límite de nulos variable entera fuera\n",
    "    else: df = df[df[columna].notnull()] # si está por debajo del límite filtramos registros"
   ]
  },
  {
   "cell_type": "code",
   "execution_count": 146,
   "metadata": {},
   "outputs": [],
   "source": [
    "# manera equivalente\n",
    "\n",
    "porcentaje_limite = 0.6\n",
    "\n",
    "for columna in columnas_con_nulos:\n",
    "    df = df.dropna(axis=1, thresh=porcentaje_limite*num_rows) #multiplicamos porque pide num entero\n",
    "    #eliminar todas las columnas que tengan mayor porcentaje de nulos que el límite\n",
    "\n",
    "df = df.dropna() #eliminamos registros con nulos que todavía están presentes"
   ]
  },
  {
   "cell_type": "code",
   "execution_count": null,
   "metadata": {},
   "outputs": [],
   "source": []
  },
  {
   "cell_type": "code",
   "execution_count": null,
   "metadata": {},
   "outputs": [],
   "source": []
  }
 ],
 "metadata": {
  "kernelspec": {
   "display_name": "Python 3",
   "language": "python",
   "name": "python3"
  },
  "language_info": {
   "codemirror_mode": {
    "name": "ipython",
    "version": 3
   },
   "file_extension": ".py",
   "mimetype": "text/x-python",
   "name": "python",
   "nbconvert_exporter": "python",
   "pygments_lexer": "ipython3",
   "version": "3.6.4"
  }
 },
 "nbformat": 4,
 "nbformat_minor": 2
}
